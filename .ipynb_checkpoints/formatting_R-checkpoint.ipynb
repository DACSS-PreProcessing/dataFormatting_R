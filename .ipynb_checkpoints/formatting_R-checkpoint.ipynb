{
 "cells": [
  {
   "cell_type": "markdown",
   "metadata": {
    "id": "-dixQldW08Xq"
   },
   "source": [
    "<center><img src=\"https://github.com/DACSS-PreProcessing/Week_1_main/blob/main/pics/LogoSimple.png?raw=true\" width=\"700\"></center>"
   ]
  },
  {
   "cell_type": "markdown",
   "metadata": {
    "id": "KZUolvPz08Xr"
   },
   "source": [
    "# Data Formatting in Python"
   ]
  },
  {
   "cell_type": "markdown",
   "metadata": {
    "id": "2A6xoAzv08Xs"
   },
   "source": [
    "Let me collect some data from the [web](https://en.wikipedia.org/wiki/List_of_freedom_indices):"
   ]
  },
  {
   "cell_type": "code",
   "execution_count": 16,
   "metadata": {
    "id": "jrG_KKqa45v2"
   },
   "outputs": [],
   "source": [
    "# install.packages(\"XML\")"
   ]
  },
  {
   "cell_type": "code",
   "execution_count": 17,
   "metadata": {
    "id": "h3GjXe1H5F62"
   },
   "outputs": [],
   "source": [
    "# install.packages(\"RCurl\")"
   ]
  },
  {
   "cell_type": "code",
   "execution_count": 18,
   "metadata": {
    "id": "qb6oLhPo08Xs"
   },
   "outputs": [],
   "source": [
    "library(XML)\n",
    "library(RCurl)\n",
    "\n",
    "# URL\n",
    "wiki=\"https://en.wikipedia.org/wiki/\"\n",
    "link = \"List_of_freedom_indices\"\n",
    "\n",
    "# Data\n",
    "wikiLinkContents = getURL(paste0(wiki,link))\n",
    "freedomDFs = readHTMLTable(wikiLinkContents,header = T,\n",
    "                           stringsAsFactors=FALSE)"
   ]
  },
  {
   "cell_type": "code",
   "execution_count": 19,
   "metadata": {
    "colab": {
     "base_uri": "https://localhost:8080/",
     "height": 34
    },
    "id": "_Pvg7WlP5Tvn",
    "outputId": "a079e74c-2411-4684-cd09-125c1da1dd73"
   },
   "outputs": [
    {
     "data": {
      "text/html": [
       "5"
      ],
      "text/latex": [
       "5"
      ],
      "text/markdown": [
       "5"
      ],
      "text/plain": [
       "[1] 5"
      ]
     },
     "metadata": {},
     "output_type": "display_data"
    }
   ],
   "source": [
    "length(freedomDFs)"
   ]
  },
  {
   "cell_type": "markdown",
   "metadata": {
    "id": "V-VTfV-H08Xt"
   },
   "source": [
    "The one we need is the second one:"
   ]
  },
  {
   "cell_type": "code",
   "execution_count": 20,
   "metadata": {
    "colab": {
     "base_uri": "https://localhost:8080/",
     "height": 1000
    },
    "id": "6J3doBOL08Xt",
    "outputId": "7dfd2072-416d-4d75-a70f-dbb524061b95"
   },
   "outputs": [
    {
     "data": {
      "text/html": [
       "<table class=\"dataframe\">\n",
       "<caption>A data.frame: 197 × 9</caption>\n",
       "<thead>\n",
       "\t<tr><th scope=col>Country\n",
       "</th><th scope=col>Freedom in the World 2024[16]</th><th scope=col>Score change since 2023\n",
       "</th><th scope=col>Index of Economic Freedom 2024[17]</th><th scope=col>Score\n",
       "</th><th scope=col>Press Freedom Index 2023[3]</th><th scope=col>Score\n",
       "</th><th scope=col>Democracy Index 2023[18]</th><th scope=col>Score\n",
       "</th></tr>\n",
       "\t<tr><th scope=col>&lt;chr&gt;</th><th scope=col>&lt;chr&gt;</th><th scope=col>&lt;chr&gt;</th><th scope=col>&lt;chr&gt;</th><th scope=col>&lt;chr&gt;</th><th scope=col>&lt;chr&gt;</th><th scope=col>&lt;chr&gt;</th><th scope=col>&lt;chr&gt;</th><th scope=col>&lt;chr&gt;</th></tr>\n",
       "</thead>\n",
       "<tbody>\n",
       "\t<tr><td> Finland         </td><td>1 100</td><td>0 </td><td>2 mostly free    </td><td>76.3</td><td>1 good        </td><td>87.94</td><td>1 full democracy  </td><td>9.30</td></tr>\n",
       "\t<tr><td> New Zealand     </td><td>1 99 </td><td>0 </td><td>2 mostly free    </td><td>77.8</td><td>2 satisfactory</td><td>84.23</td><td>1 full democracy  </td><td>9.61</td></tr>\n",
       "\t<tr><td> Sweden          </td><td>1 99 </td><td>-1</td><td>2 mostly free    </td><td>77.5</td><td>1 good        </td><td>88.15</td><td>1 full democracy  </td><td>9.39</td></tr>\n",
       "\t<tr><td> Norway          </td><td>1 98 </td><td>-2</td><td>2 mostly free    </td><td>77.5</td><td>1 good        </td><td>95.18</td><td>1 full democracy  </td><td>9.81</td></tr>\n",
       "\t<tr><td> Canada          </td><td>1 97 </td><td>-1</td><td>2 mostly free    </td><td>72.4</td><td>2 satisfactory</td><td>83.53</td><td>1 full democracy  </td><td>8.69</td></tr>\n",
       "\t<tr><td> Denmark         </td><td>1 97 </td><td>0 </td><td>2 mostly free    </td><td>77.8</td><td>1 good        </td><td>89.48</td><td>1 full democracy  </td><td>9.28</td></tr>\n",
       "\t<tr><td> Ireland         </td><td>1 97 </td><td>0 </td><td>1 free           </td><td>82.6</td><td>1 good        </td><td>89.91</td><td>1 full democracy  </td><td>9.19</td></tr>\n",
       "\t<tr><td> Luxembourg      </td><td>1 97 </td><td>0 </td><td>2 mostly free    </td><td>79.2</td><td>2 satisfactory</td><td>81.98</td><td>1 full democracy  </td><td>8.81</td></tr>\n",
       "\t<tr><td> Netherlands     </td><td>1 97 </td><td>0 </td><td>2 mostly free    </td><td>77.3</td><td>1 good        </td><td>87   </td><td>1 full democracy  </td><td>9.00</td></tr>\n",
       "\t<tr><td> San Marino      </td><td>1 97 </td><td>0 </td><td>n/a              </td><td>â€” </td><td>n/a           </td><td>â€”  </td><td>n/a               </td><td>â€” </td></tr>\n",
       "\t<tr><td> Belgium         </td><td>1 96 </td><td>0 </td><td>3 moderately free</td><td>65.6</td><td>2 satisfactory</td><td>76.47</td><td>2 flawed democracy</td><td>7.64</td></tr>\n",
       "\t<tr><td> Japan           </td><td>1 96 </td><td>0 </td><td>3 moderately free</td><td>67.5</td><td>3 problematic </td><td>63.95</td><td>1 full democracy  </td><td>8.40</td></tr>\n",
       "\t<tr><td> Portugal        </td><td>1 96 </td><td>0 </td><td>3 moderately free</td><td>68.7</td><td>2 satisfactory</td><td>84.6 </td><td>2 flawed democracy</td><td>7.75</td></tr>\n",
       "\t<tr><td> Slovenia        </td><td>1 96 </td><td>+1</td><td>3 moderately free</td><td>65.9</td><td>2 satisfactory</td><td>70.59</td><td>2 flawed democracy</td><td>7.75</td></tr>\n",
       "\t<tr><td>  Switzerland    </td><td>1 96 </td><td>0 </td><td>1 free           </td><td>83.0</td><td>2 satisfactory</td><td>84.4 </td><td>1 full democracy  </td><td>9.14</td></tr>\n",
       "\t<tr><td> Uruguay         </td><td>1 96 </td><td>0 </td><td>3 moderately free</td><td>69.8</td><td>2 satisfactory</td><td>70.33</td><td>1 full democracy  </td><td>8.66</td></tr>\n",
       "\t<tr><td> Australia       </td><td>1 95 </td><td>0 </td><td>2 mostly free    </td><td>76.2</td><td>2 satisfactory</td><td>78.24</td><td>1 full democracy  </td><td>8.66</td></tr>\n",
       "\t<tr><td> Estonia         </td><td>1 95 </td><td>+1</td><td>2 mostly free    </td><td>77.8</td><td>1 good        </td><td>85.31</td><td>2 flawed democracy</td><td>7.96</td></tr>\n",
       "\t<tr><td> Barbados        </td><td>1 94 </td><td>0 </td><td>3 moderately free</td><td>66.8</td><td>n/a           </td><td>â€”  </td><td>n/a               </td><td>â€” </td></tr>\n",
       "\t<tr><td> Chile           </td><td>1 94 </td><td>0 </td><td>2 mostly free    </td><td>71.4</td><td>3 problematic </td><td>60.09</td><td>2 flawed democracy</td><td>7.98</td></tr>\n",
       "\t<tr><td> Czechia         </td><td>1 94 </td><td>+2</td><td>2 mostly free    </td><td>70.2</td><td>2 satisfactory</td><td>83.58</td><td>2 flawed democracy</td><td>7.97</td></tr>\n",
       "\t<tr><td> Iceland         </td><td>1 94 </td><td>0 </td><td>2 mostly free    </td><td>70.5</td><td>2 satisfactory</td><td>83.19</td><td>1 full democracy  </td><td>9.45</td></tr>\n",
       "\t<tr><td> Taiwan          </td><td>1 94 </td><td>0 </td><td>1 free           </td><td>80.0</td><td>2 satisfactory</td><td>75.54</td><td>1 full democracy  </td><td>8.92</td></tr>\n",
       "\t<tr><td> Andorra         </td><td>1 93 </td><td>0 </td><td>n/a              </td><td>â€” </td><td>2 satisfactory</td><td>75.05</td><td>n/a               </td><td>â€” </td></tr>\n",
       "\t<tr><td> Austria         </td><td>1 93 </td><td>0 </td><td>3 moderately free</td><td>68.4</td><td>2 satisfactory</td><td>77.3 </td><td>1 full democracy  </td><td>8.28</td></tr>\n",
       "\t<tr><td> Dominica        </td><td>1 93 </td><td>0 </td><td>4 mostly unfree  </td><td>54.0</td><td>3 problematic </td><td>58.36</td><td>n/a               </td><td>â€” </td></tr>\n",
       "\t<tr><td> Germany         </td><td>1 93 </td><td>-1</td><td>2 mostly free    </td><td>72.1</td><td>2 satisfactory</td><td>81.91</td><td>1 full democracy  </td><td>8.80</td></tr>\n",
       "\t<tr><td> Marshall Islands</td><td>1 93 </td><td>0 </td><td>n/a              </td><td>â€” </td><td>n/a           </td><td>â€”  </td><td>n/a               </td><td>â€” </td></tr>\n",
       "\t<tr><td> Tuvalu          </td><td>1 93 </td><td>0 </td><td>n/a              </td><td>â€” </td><td>n/a           </td><td>â€”  </td><td>n/a               </td><td>â€” </td></tr>\n",
       "\t<tr><td> Cabo Verde      </td><td>1 92 </td><td>0 </td><td>3 moderately free</td><td>65.8</td><td>2 satisfactory</td><td>75.72</td><td>2 flawed democracy</td><td>7.65</td></tr>\n",
       "\t<tr><td>⋮</td><td>⋮</td><td>⋮</td><td>⋮</td><td>⋮</td><td>⋮</td><td>⋮</td><td>⋮</td><td>⋮</td></tr>\n",
       "\t<tr><td> Nicaragua               </td><td>5 16</td><td>-3 </td><td>4 mostly unfree  </td><td>53.4</td><td>5 very serious</td><td>37.09</td><td>5 authoritarian</td><td>2.26</td></tr>\n",
       "\t<tr><td> Cameroon                </td><td>5 15</td><td>0  </td><td>4 mostly unfree  </td><td>53.6</td><td>4 difficult   </td><td>45.58</td><td>5 authoritarian</td><td>2.56</td></tr>\n",
       "\t<tr><td> Chad                    </td><td>5 15</td><td>0  </td><td>4 mostly unfree  </td><td>51.4</td><td>4 difficult   </td><td>53.73</td><td>5 authoritarian</td><td>1.67</td></tr>\n",
       "\t<tr><td> Venezuela               </td><td>5 15</td><td>0  </td><td>5 repressed      </td><td>28.1</td><td>5 very serious</td><td>36.99</td><td>5 authoritarian</td><td>2.31</td></tr>\n",
       "\t<tr><td> Burundi                 </td><td>5 14</td><td>0  </td><td>5 repressed      </td><td>38.4</td><td>4 difficult   </td><td>52.14</td><td>5 authoritarian</td><td>2.13</td></tr>\n",
       "\t<tr><td> Laos                    </td><td>5 13</td><td>0  </td><td>4 mostly unfree  </td><td>50.6</td><td>5 very serious</td><td>36.66</td><td>5 authoritarian</td><td>1.71</td></tr>\n",
       "\t<tr><td> Russia                  </td><td>5 13</td><td>-3 </td><td>4 mostly unfree  </td><td>52.0</td><td>5 very serious</td><td>34.77</td><td>5 hybrid regime</td><td>2.22</td></tr>\n",
       "\t<tr><td> Bahrain                 </td><td>5 12</td><td>0  </td><td>3 moderately free</td><td>63.4</td><td>5 very serious</td><td>30.59</td><td>5 authoritarian</td><td>2.52</td></tr>\n",
       "\t<tr><td> Cuba                    </td><td>5 12</td><td>0  </td><td>5 repressed      </td><td>25.7</td><td>5 very serious</td><td>29   </td><td>5 authoritarian</td><td>2.65</td></tr>\n",
       "\t<tr><td> Uzbekistan              </td><td>5 12</td><td>0  </td><td>4 mostly unfree  </td><td>55.9</td><td>4 difficult   </td><td>45.73</td><td>5 authoritarian</td><td>2.12</td></tr>\n",
       "\t<tr><td> Iran                    </td><td>5 11</td><td>-1 </td><td>5 repressed      </td><td>41.2</td><td>5 very serious</td><td>24.81</td><td>5 authoritarian</td><td>1.96</td></tr>\n",
       "\t<tr><td> Yemen                   </td><td>5 10</td><td>+1 </td><td>n/a              </td><td>â€” </td><td>5 very serious</td><td>32.78</td><td>5 authoritarian</td><td>1.95</td></tr>\n",
       "\t<tr><td> China                   </td><td>5 9 </td><td>0  </td><td>5 repressed      </td><td>48.5</td><td>5 very serious</td><td>22.97</td><td>5 authoritarian</td><td>2.12</td></tr>\n",
       "\t<tr><td> Libya                   </td><td>5 9 </td><td>-1 </td><td>n/a              </td><td>â€” </td><td>4 difficult   </td><td>40.22</td><td>5 authoritarian</td><td>1.78</td></tr>\n",
       "\t<tr><td> Belarus                 </td><td>5 8 </td><td>0  </td><td>5 repressed      </td><td>48.4</td><td>5 very serious</td><td>37.17</td><td>5 authoritarian</td><td>1.99</td></tr>\n",
       "\t<tr><td> Burma                   </td><td>5 8 </td><td>-1 </td><td>5 repressed      </td><td>42.2</td><td>5 very serious</td><td>28.26</td><td>5 authoritarian</td><td>0.85</td></tr>\n",
       "\t<tr><td> Saudi Arabia            </td><td>5 8 </td><td>0  </td><td>3 moderately free</td><td>61.9</td><td>5 very serious</td><td>32.43</td><td>5 authoritarian</td><td>2.08</td></tr>\n",
       "\t<tr><td> Somalia                 </td><td>5 8 </td><td>0  </td><td>n/a              </td><td>â€” </td><td>4 difficult   </td><td>44.24</td><td>n/a            </td><td>â€” </td></tr>\n",
       "\t<tr><td> Azerbaijan              </td><td>5 7 </td><td>-2 </td><td>3 moderately free</td><td>61.6</td><td>5 very serious</td><td>39.93</td><td>5 authoritarian</td><td>2.80</td></tr>\n",
       "\t<tr><td> Afghanistan             </td><td>5 6 </td><td>-2 </td><td>n/a              </td><td>â€” </td><td>5 very serious</td><td>39.75</td><td>5 authoritarian</td><td>0.26</td></tr>\n",
       "\t<tr><td> Sudan                   </td><td>5 6 </td><td>-4 </td><td>5 repressed      </td><td>33.9</td><td>4 difficult   </td><td>40.83</td><td>5 authoritarian</td><td>1.76</td></tr>\n",
       "\t<tr><td> Central African Republic</td><td>5 5 </td><td>-2 </td><td>5 repressed      </td><td>41.3</td><td>3 problematic </td><td>57.56</td><td>5 authoritarian</td><td>1.18</td></tr>\n",
       "\t<tr><td> Equatorial Guinea       </td><td>5 5 </td><td>0  </td><td>5 repressed      </td><td>47.7</td><td>4 difficult   </td><td>50.35</td><td>5 authoritarian</td><td>1.92</td></tr>\n",
       "\t<tr><td> Tajikistan              </td><td>5 5 </td><td>-2 </td><td>4 mostly unfree  </td><td>51.3</td><td>5 very serious</td><td>39.06</td><td>5 authoritarian</td><td>1.94</td></tr>\n",
       "\t<tr><td> Eritrea                 </td><td>5 3 </td><td>0  </td><td>5 repressed      </td><td>39.5</td><td>5 very serious</td><td>27.86</td><td>5 authoritarian</td><td>1.97</td></tr>\n",
       "\t<tr><td> North Korea             </td><td>5 3 </td><td>0  </td><td>5 repressed      </td><td>2.9 </td><td>5 very serious</td><td>21.72</td><td>5 authoritarian</td><td>1.08</td></tr>\n",
       "\t<tr><td> Turkmenistan            </td><td>5 2 </td><td>0  </td><td>5 repressed      </td><td>46.3</td><td>5 very serious</td><td>25.82</td><td>5 authoritarian</td><td>1.66</td></tr>\n",
       "\t<tr><td> South Sudan             </td><td>5 1 </td><td>0  </td><td>n/a              </td><td>â€” </td><td>4 difficult   </td><td>50.62</td><td>n/a            </td><td>â€” </td></tr>\n",
       "\t<tr><td> Syria                   </td><td>5 1 </td><td>0  </td><td>n/a              </td><td>â€” </td><td>5 very serious</td><td>27.22</td><td>5 authoritarian</td><td>1.43</td></tr>\n",
       "\t<tr><td> Palestine               </td><td>n/a </td><td>â€”</td><td>n/a              </td><td>â€” </td><td>5 very serious</td><td>37.86</td><td>5 authoritarian</td><td>3.47</td></tr>\n",
       "</tbody>\n",
       "</table>\n"
      ],
      "text/latex": [
       "A data.frame: 197 × 9\n",
       "\\begin{tabular}{lllllllll}\n",
       " Country\n",
       " & Freedom in the World 2024{[}16{]} & Score change since 2023\n",
       " & Index of Economic Freedom 2024{[}17{]} & Score\n",
       " & Press Freedom Index 2023{[}3{]} & Score\n",
       " & Democracy Index 2023{[}18{]} & Score\n",
       "\\\\\n",
       " <chr> & <chr> & <chr> & <chr> & <chr> & <chr> & <chr> & <chr> & <chr>\\\\\n",
       "\\hline\n",
       "\t  Finland          & 1 100 & 0  & 2 mostly free     & 76.3 & 1 good         & 87.94 & 1 full democracy   & 9.30\\\\\n",
       "\t  New Zealand      & 1 99  & 0  & 2 mostly free     & 77.8 & 2 satisfactory & 84.23 & 1 full democracy   & 9.61\\\\\n",
       "\t  Sweden           & 1 99  & -1 & 2 mostly free     & 77.5 & 1 good         & 88.15 & 1 full democracy   & 9.39\\\\\n",
       "\t  Norway           & 1 98  & -2 & 2 mostly free     & 77.5 & 1 good         & 95.18 & 1 full democracy   & 9.81\\\\\n",
       "\t  Canada           & 1 97  & -1 & 2 mostly free     & 72.4 & 2 satisfactory & 83.53 & 1 full democracy   & 8.69\\\\\n",
       "\t  Denmark          & 1 97  & 0  & 2 mostly free     & 77.8 & 1 good         & 89.48 & 1 full democracy   & 9.28\\\\\n",
       "\t  Ireland          & 1 97  & 0  & 1 free            & 82.6 & 1 good         & 89.91 & 1 full democracy   & 9.19\\\\\n",
       "\t  Luxembourg       & 1 97  & 0  & 2 mostly free     & 79.2 & 2 satisfactory & 81.98 & 1 full democracy   & 8.81\\\\\n",
       "\t  Netherlands      & 1 97  & 0  & 2 mostly free     & 77.3 & 1 good         & 87    & 1 full democracy   & 9.00\\\\\n",
       "\t  San Marino       & 1 97  & 0  & n/a               & â€”  & n/a            & â€”   & n/a                & â€” \\\\\n",
       "\t  Belgium          & 1 96  & 0  & 3 moderately free & 65.6 & 2 satisfactory & 76.47 & 2 flawed democracy & 7.64\\\\\n",
       "\t  Japan            & 1 96  & 0  & 3 moderately free & 67.5 & 3 problematic  & 63.95 & 1 full democracy   & 8.40\\\\\n",
       "\t  Portugal         & 1 96  & 0  & 3 moderately free & 68.7 & 2 satisfactory & 84.6  & 2 flawed democracy & 7.75\\\\\n",
       "\t  Slovenia         & 1 96  & +1 & 3 moderately free & 65.9 & 2 satisfactory & 70.59 & 2 flawed democracy & 7.75\\\\\n",
       "\t   Switzerland     & 1 96  & 0  & 1 free            & 83.0 & 2 satisfactory & 84.4  & 1 full democracy   & 9.14\\\\\n",
       "\t  Uruguay          & 1 96  & 0  & 3 moderately free & 69.8 & 2 satisfactory & 70.33 & 1 full democracy   & 8.66\\\\\n",
       "\t  Australia        & 1 95  & 0  & 2 mostly free     & 76.2 & 2 satisfactory & 78.24 & 1 full democracy   & 8.66\\\\\n",
       "\t  Estonia          & 1 95  & +1 & 2 mostly free     & 77.8 & 1 good         & 85.31 & 2 flawed democracy & 7.96\\\\\n",
       "\t  Barbados         & 1 94  & 0  & 3 moderately free & 66.8 & n/a            & â€”   & n/a                & â€” \\\\\n",
       "\t  Chile            & 1 94  & 0  & 2 mostly free     & 71.4 & 3 problematic  & 60.09 & 2 flawed democracy & 7.98\\\\\n",
       "\t  Czechia          & 1 94  & +2 & 2 mostly free     & 70.2 & 2 satisfactory & 83.58 & 2 flawed democracy & 7.97\\\\\n",
       "\t  Iceland          & 1 94  & 0  & 2 mostly free     & 70.5 & 2 satisfactory & 83.19 & 1 full democracy   & 9.45\\\\\n",
       "\t  Taiwan           & 1 94  & 0  & 1 free            & 80.0 & 2 satisfactory & 75.54 & 1 full democracy   & 8.92\\\\\n",
       "\t  Andorra          & 1 93  & 0  & n/a               & â€”  & 2 satisfactory & 75.05 & n/a                & â€” \\\\\n",
       "\t  Austria          & 1 93  & 0  & 3 moderately free & 68.4 & 2 satisfactory & 77.3  & 1 full democracy   & 8.28\\\\\n",
       "\t  Dominica         & 1 93  & 0  & 4 mostly unfree   & 54.0 & 3 problematic  & 58.36 & n/a                & â€” \\\\\n",
       "\t  Germany          & 1 93  & -1 & 2 mostly free     & 72.1 & 2 satisfactory & 81.91 & 1 full democracy   & 8.80\\\\\n",
       "\t  Marshall Islands & 1 93  & 0  & n/a               & â€”  & n/a            & â€”   & n/a                & â€” \\\\\n",
       "\t  Tuvalu           & 1 93  & 0  & n/a               & â€”  & n/a            & â€”   & n/a                & â€” \\\\\n",
       "\t  Cabo Verde       & 1 92  & 0  & 3 moderately free & 65.8 & 2 satisfactory & 75.72 & 2 flawed democracy & 7.65\\\\\n",
       "\t ⋮ & ⋮ & ⋮ & ⋮ & ⋮ & ⋮ & ⋮ & ⋮ & ⋮\\\\\n",
       "\t  Nicaragua                & 5 16 & -3  & 4 mostly unfree   & 53.4 & 5 very serious & 37.09 & 5 authoritarian & 2.26\\\\\n",
       "\t  Cameroon                 & 5 15 & 0   & 4 mostly unfree   & 53.6 & 4 difficult    & 45.58 & 5 authoritarian & 2.56\\\\\n",
       "\t  Chad                     & 5 15 & 0   & 4 mostly unfree   & 51.4 & 4 difficult    & 53.73 & 5 authoritarian & 1.67\\\\\n",
       "\t  Venezuela                & 5 15 & 0   & 5 repressed       & 28.1 & 5 very serious & 36.99 & 5 authoritarian & 2.31\\\\\n",
       "\t  Burundi                  & 5 14 & 0   & 5 repressed       & 38.4 & 4 difficult    & 52.14 & 5 authoritarian & 2.13\\\\\n",
       "\t  Laos                     & 5 13 & 0   & 4 mostly unfree   & 50.6 & 5 very serious & 36.66 & 5 authoritarian & 1.71\\\\\n",
       "\t  Russia                   & 5 13 & -3  & 4 mostly unfree   & 52.0 & 5 very serious & 34.77 & 5 hybrid regime & 2.22\\\\\n",
       "\t  Bahrain                  & 5 12 & 0   & 3 moderately free & 63.4 & 5 very serious & 30.59 & 5 authoritarian & 2.52\\\\\n",
       "\t  Cuba                     & 5 12 & 0   & 5 repressed       & 25.7 & 5 very serious & 29    & 5 authoritarian & 2.65\\\\\n",
       "\t  Uzbekistan               & 5 12 & 0   & 4 mostly unfree   & 55.9 & 4 difficult    & 45.73 & 5 authoritarian & 2.12\\\\\n",
       "\t  Iran                     & 5 11 & -1  & 5 repressed       & 41.2 & 5 very serious & 24.81 & 5 authoritarian & 1.96\\\\\n",
       "\t  Yemen                    & 5 10 & +1  & n/a               & â€”  & 5 very serious & 32.78 & 5 authoritarian & 1.95\\\\\n",
       "\t  China                    & 5 9  & 0   & 5 repressed       & 48.5 & 5 very serious & 22.97 & 5 authoritarian & 2.12\\\\\n",
       "\t  Libya                    & 5 9  & -1  & n/a               & â€”  & 4 difficult    & 40.22 & 5 authoritarian & 1.78\\\\\n",
       "\t  Belarus                  & 5 8  & 0   & 5 repressed       & 48.4 & 5 very serious & 37.17 & 5 authoritarian & 1.99\\\\\n",
       "\t  Burma                    & 5 8  & -1  & 5 repressed       & 42.2 & 5 very serious & 28.26 & 5 authoritarian & 0.85\\\\\n",
       "\t  Saudi Arabia             & 5 8  & 0   & 3 moderately free & 61.9 & 5 very serious & 32.43 & 5 authoritarian & 2.08\\\\\n",
       "\t  Somalia                  & 5 8  & 0   & n/a               & â€”  & 4 difficult    & 44.24 & n/a             & â€” \\\\\n",
       "\t  Azerbaijan               & 5 7  & -2  & 3 moderately free & 61.6 & 5 very serious & 39.93 & 5 authoritarian & 2.80\\\\\n",
       "\t  Afghanistan              & 5 6  & -2  & n/a               & â€”  & 5 very serious & 39.75 & 5 authoritarian & 0.26\\\\\n",
       "\t  Sudan                    & 5 6  & -4  & 5 repressed       & 33.9 & 4 difficult    & 40.83 & 5 authoritarian & 1.76\\\\\n",
       "\t  Central African Republic & 5 5  & -2  & 5 repressed       & 41.3 & 3 problematic  & 57.56 & 5 authoritarian & 1.18\\\\\n",
       "\t  Equatorial Guinea        & 5 5  & 0   & 5 repressed       & 47.7 & 4 difficult    & 50.35 & 5 authoritarian & 1.92\\\\\n",
       "\t  Tajikistan               & 5 5  & -2  & 4 mostly unfree   & 51.3 & 5 very serious & 39.06 & 5 authoritarian & 1.94\\\\\n",
       "\t  Eritrea                  & 5 3  & 0   & 5 repressed       & 39.5 & 5 very serious & 27.86 & 5 authoritarian & 1.97\\\\\n",
       "\t  North Korea              & 5 3  & 0   & 5 repressed       & 2.9  & 5 very serious & 21.72 & 5 authoritarian & 1.08\\\\\n",
       "\t  Turkmenistan             & 5 2  & 0   & 5 repressed       & 46.3 & 5 very serious & 25.82 & 5 authoritarian & 1.66\\\\\n",
       "\t  South Sudan              & 5 1  & 0   & n/a               & â€”  & 4 difficult    & 50.62 & n/a             & â€” \\\\\n",
       "\t  Syria                    & 5 1  & 0   & n/a               & â€”  & 5 very serious & 27.22 & 5 authoritarian & 1.43\\\\\n",
       "\t  Palestine                & n/a  & â€” & n/a               & â€”  & 5 very serious & 37.86 & 5 authoritarian & 3.47\\\\\n",
       "\\end{tabular}\n"
      ],
      "text/markdown": [
       "\n",
       "A data.frame: 197 × 9\n",
       "\n",
       "| Country\n",
       " &lt;chr&gt; | Freedom in the World 2024[16] &lt;chr&gt; | Score change since 2023\n",
       " &lt;chr&gt; | Index of Economic Freedom 2024[17] &lt;chr&gt; | Score\n",
       " &lt;chr&gt; | Press Freedom Index 2023[3] &lt;chr&gt; | Score\n",
       " &lt;chr&gt; | Democracy Index 2023[18] &lt;chr&gt; | Score\n",
       " &lt;chr&gt; |\n",
       "|---|---|---|---|---|---|---|---|---|\n",
       "|  Finland          | 1 100 | 0  | 2 mostly free     | 76.3 | 1 good         | 87.94 | 1 full democracy   | 9.30 |\n",
       "|  New Zealand      | 1 99  | 0  | 2 mostly free     | 77.8 | 2 satisfactory | 84.23 | 1 full democracy   | 9.61 |\n",
       "|  Sweden           | 1 99  | -1 | 2 mostly free     | 77.5 | 1 good         | 88.15 | 1 full democracy   | 9.39 |\n",
       "|  Norway           | 1 98  | -2 | 2 mostly free     | 77.5 | 1 good         | 95.18 | 1 full democracy   | 9.81 |\n",
       "|  Canada           | 1 97  | -1 | 2 mostly free     | 72.4 | 2 satisfactory | 83.53 | 1 full democracy   | 8.69 |\n",
       "|  Denmark          | 1 97  | 0  | 2 mostly free     | 77.8 | 1 good         | 89.48 | 1 full democracy   | 9.28 |\n",
       "|  Ireland          | 1 97  | 0  | 1 free            | 82.6 | 1 good         | 89.91 | 1 full democracy   | 9.19 |\n",
       "|  Luxembourg       | 1 97  | 0  | 2 mostly free     | 79.2 | 2 satisfactory | 81.98 | 1 full democracy   | 8.81 |\n",
       "|  Netherlands      | 1 97  | 0  | 2 mostly free     | 77.3 | 1 good         | 87    | 1 full democracy   | 9.00 |\n",
       "|  San Marino       | 1 97  | 0  | n/a               | â€”  | n/a            | â€”   | n/a                | â€”  |\n",
       "|  Belgium          | 1 96  | 0  | 3 moderately free | 65.6 | 2 satisfactory | 76.47 | 2 flawed democracy | 7.64 |\n",
       "|  Japan            | 1 96  | 0  | 3 moderately free | 67.5 | 3 problematic  | 63.95 | 1 full democracy   | 8.40 |\n",
       "|  Portugal         | 1 96  | 0  | 3 moderately free | 68.7 | 2 satisfactory | 84.6  | 2 flawed democracy | 7.75 |\n",
       "|  Slovenia         | 1 96  | +1 | 3 moderately free | 65.9 | 2 satisfactory | 70.59 | 2 flawed democracy | 7.75 |\n",
       "|   Switzerland     | 1 96  | 0  | 1 free            | 83.0 | 2 satisfactory | 84.4  | 1 full democracy   | 9.14 |\n",
       "|  Uruguay          | 1 96  | 0  | 3 moderately free | 69.8 | 2 satisfactory | 70.33 | 1 full democracy   | 8.66 |\n",
       "|  Australia        | 1 95  | 0  | 2 mostly free     | 76.2 | 2 satisfactory | 78.24 | 1 full democracy   | 8.66 |\n",
       "|  Estonia          | 1 95  | +1 | 2 mostly free     | 77.8 | 1 good         | 85.31 | 2 flawed democracy | 7.96 |\n",
       "|  Barbados         | 1 94  | 0  | 3 moderately free | 66.8 | n/a            | â€”   | n/a                | â€”  |\n",
       "|  Chile            | 1 94  | 0  | 2 mostly free     | 71.4 | 3 problematic  | 60.09 | 2 flawed democracy | 7.98 |\n",
       "|  Czechia          | 1 94  | +2 | 2 mostly free     | 70.2 | 2 satisfactory | 83.58 | 2 flawed democracy | 7.97 |\n",
       "|  Iceland          | 1 94  | 0  | 2 mostly free     | 70.5 | 2 satisfactory | 83.19 | 1 full democracy   | 9.45 |\n",
       "|  Taiwan           | 1 94  | 0  | 1 free            | 80.0 | 2 satisfactory | 75.54 | 1 full democracy   | 8.92 |\n",
       "|  Andorra          | 1 93  | 0  | n/a               | â€”  | 2 satisfactory | 75.05 | n/a                | â€”  |\n",
       "|  Austria          | 1 93  | 0  | 3 moderately free | 68.4 | 2 satisfactory | 77.3  | 1 full democracy   | 8.28 |\n",
       "|  Dominica         | 1 93  | 0  | 4 mostly unfree   | 54.0 | 3 problematic  | 58.36 | n/a                | â€”  |\n",
       "|  Germany          | 1 93  | -1 | 2 mostly free     | 72.1 | 2 satisfactory | 81.91 | 1 full democracy   | 8.80 |\n",
       "|  Marshall Islands | 1 93  | 0  | n/a               | â€”  | n/a            | â€”   | n/a                | â€”  |\n",
       "|  Tuvalu           | 1 93  | 0  | n/a               | â€”  | n/a            | â€”   | n/a                | â€”  |\n",
       "|  Cabo Verde       | 1 92  | 0  | 3 moderately free | 65.8 | 2 satisfactory | 75.72 | 2 flawed democracy | 7.65 |\n",
       "| ⋮ | ⋮ | ⋮ | ⋮ | ⋮ | ⋮ | ⋮ | ⋮ | ⋮ |\n",
       "|  Nicaragua                | 5 16 | -3  | 4 mostly unfree   | 53.4 | 5 very serious | 37.09 | 5 authoritarian | 2.26 |\n",
       "|  Cameroon                 | 5 15 | 0   | 4 mostly unfree   | 53.6 | 4 difficult    | 45.58 | 5 authoritarian | 2.56 |\n",
       "|  Chad                     | 5 15 | 0   | 4 mostly unfree   | 51.4 | 4 difficult    | 53.73 | 5 authoritarian | 1.67 |\n",
       "|  Venezuela                | 5 15 | 0   | 5 repressed       | 28.1 | 5 very serious | 36.99 | 5 authoritarian | 2.31 |\n",
       "|  Burundi                  | 5 14 | 0   | 5 repressed       | 38.4 | 4 difficult    | 52.14 | 5 authoritarian | 2.13 |\n",
       "|  Laos                     | 5 13 | 0   | 4 mostly unfree   | 50.6 | 5 very serious | 36.66 | 5 authoritarian | 1.71 |\n",
       "|  Russia                   | 5 13 | -3  | 4 mostly unfree   | 52.0 | 5 very serious | 34.77 | 5 hybrid regime | 2.22 |\n",
       "|  Bahrain                  | 5 12 | 0   | 3 moderately free | 63.4 | 5 very serious | 30.59 | 5 authoritarian | 2.52 |\n",
       "|  Cuba                     | 5 12 | 0   | 5 repressed       | 25.7 | 5 very serious | 29    | 5 authoritarian | 2.65 |\n",
       "|  Uzbekistan               | 5 12 | 0   | 4 mostly unfree   | 55.9 | 4 difficult    | 45.73 | 5 authoritarian | 2.12 |\n",
       "|  Iran                     | 5 11 | -1  | 5 repressed       | 41.2 | 5 very serious | 24.81 | 5 authoritarian | 1.96 |\n",
       "|  Yemen                    | 5 10 | +1  | n/a               | â€”  | 5 very serious | 32.78 | 5 authoritarian | 1.95 |\n",
       "|  China                    | 5 9  | 0   | 5 repressed       | 48.5 | 5 very serious | 22.97 | 5 authoritarian | 2.12 |\n",
       "|  Libya                    | 5 9  | -1  | n/a               | â€”  | 4 difficult    | 40.22 | 5 authoritarian | 1.78 |\n",
       "|  Belarus                  | 5 8  | 0   | 5 repressed       | 48.4 | 5 very serious | 37.17 | 5 authoritarian | 1.99 |\n",
       "|  Burma                    | 5 8  | -1  | 5 repressed       | 42.2 | 5 very serious | 28.26 | 5 authoritarian | 0.85 |\n",
       "|  Saudi Arabia             | 5 8  | 0   | 3 moderately free | 61.9 | 5 very serious | 32.43 | 5 authoritarian | 2.08 |\n",
       "|  Somalia                  | 5 8  | 0   | n/a               | â€”  | 4 difficult    | 44.24 | n/a             | â€”  |\n",
       "|  Azerbaijan               | 5 7  | -2  | 3 moderately free | 61.6 | 5 very serious | 39.93 | 5 authoritarian | 2.80 |\n",
       "|  Afghanistan              | 5 6  | -2  | n/a               | â€”  | 5 very serious | 39.75 | 5 authoritarian | 0.26 |\n",
       "|  Sudan                    | 5 6  | -4  | 5 repressed       | 33.9 | 4 difficult    | 40.83 | 5 authoritarian | 1.76 |\n",
       "|  Central African Republic | 5 5  | -2  | 5 repressed       | 41.3 | 3 problematic  | 57.56 | 5 authoritarian | 1.18 |\n",
       "|  Equatorial Guinea        | 5 5  | 0   | 5 repressed       | 47.7 | 4 difficult    | 50.35 | 5 authoritarian | 1.92 |\n",
       "|  Tajikistan               | 5 5  | -2  | 4 mostly unfree   | 51.3 | 5 very serious | 39.06 | 5 authoritarian | 1.94 |\n",
       "|  Eritrea                  | 5 3  | 0   | 5 repressed       | 39.5 | 5 very serious | 27.86 | 5 authoritarian | 1.97 |\n",
       "|  North Korea              | 5 3  | 0   | 5 repressed       | 2.9  | 5 very serious | 21.72 | 5 authoritarian | 1.08 |\n",
       "|  Turkmenistan             | 5 2  | 0   | 5 repressed       | 46.3 | 5 very serious | 25.82 | 5 authoritarian | 1.66 |\n",
       "|  South Sudan              | 5 1  | 0   | n/a               | â€”  | 4 difficult    | 50.62 | n/a             | â€”  |\n",
       "|  Syria                    | 5 1  | 0   | n/a               | â€”  | 5 very serious | 27.22 | 5 authoritarian | 1.43 |\n",
       "|  Palestine                | n/a  | â€” | n/a               | â€”  | 5 very serious | 37.86 | 5 authoritarian | 3.47 |\n",
       "\n"
      ],
      "text/plain": [
       "    Country\\n                 Freedom in the World 2024[16]\n",
       "1    Finland                  1 100                        \n",
       "2    New Zealand              1 99                         \n",
       "3    Sweden                   1 99                         \n",
       "4    Norway                   1 98                         \n",
       "5    Canada                   1 97                         \n",
       "6    Denmark                  1 97                         \n",
       "7    Ireland                  1 97                         \n",
       "8    Luxembourg               1 97                         \n",
       "9    Netherlands              1 97                         \n",
       "10   San Marino               1 97                         \n",
       "11   Belgium                  1 96                         \n",
       "12   Japan                    1 96                         \n",
       "13   Portugal                 1 96                         \n",
       "14   Slovenia                 1 96                         \n",
       "15    Switzerland             1 96                         \n",
       "16   Uruguay                  1 96                         \n",
       "17   Australia                1 95                         \n",
       "18   Estonia                  1 95                         \n",
       "19   Barbados                 1 94                         \n",
       "20   Chile                    1 94                         \n",
       "21   Czechia                  1 94                         \n",
       "22   Iceland                  1 94                         \n",
       "23   Taiwan                   1 94                         \n",
       "24   Andorra                  1 93                         \n",
       "25   Austria                  1 93                         \n",
       "26   Dominica                 1 93                         \n",
       "27   Germany                  1 93                         \n",
       "28   Marshall Islands         1 93                         \n",
       "29   Tuvalu                   1 93                         \n",
       "30   Cabo Verde               1 92                         \n",
       "⋮   ⋮                         ⋮                            \n",
       "168  Nicaragua                5 16                         \n",
       "169  Cameroon                 5 15                         \n",
       "170  Chad                     5 15                         \n",
       "171  Venezuela                5 15                         \n",
       "172  Burundi                  5 14                         \n",
       "173  Laos                     5 13                         \n",
       "174  Russia                   5 13                         \n",
       "175  Bahrain                  5 12                         \n",
       "176  Cuba                     5 12                         \n",
       "177  Uzbekistan               5 12                         \n",
       "178  Iran                     5 11                         \n",
       "179  Yemen                    5 10                         \n",
       "180  China                    5 9                          \n",
       "181  Libya                    5 9                          \n",
       "182  Belarus                  5 8                          \n",
       "183  Burma                    5 8                          \n",
       "184  Saudi Arabia             5 8                          \n",
       "185  Somalia                  5 8                          \n",
       "186  Azerbaijan               5 7                          \n",
       "187  Afghanistan              5 6                          \n",
       "188  Sudan                    5 6                          \n",
       "189  Central African Republic 5 5                          \n",
       "190  Equatorial Guinea        5 5                          \n",
       "191  Tajikistan               5 5                          \n",
       "192  Eritrea                  5 3                          \n",
       "193  North Korea              5 3                          \n",
       "194  Turkmenistan             5 2                          \n",
       "195  South Sudan              5 1                          \n",
       "196  Syria                    5 1                          \n",
       "197  Palestine                n/a                          \n",
       "    Score change since 2023\\n Index of Economic Freedom 2024[17] Score\\n\n",
       "1   0                         2 mostly free                      76.3   \n",
       "2   0                         2 mostly free                      77.8   \n",
       "3   -1                        2 mostly free                      77.5   \n",
       "4   -2                        2 mostly free                      77.5   \n",
       "5   -1                        2 mostly free                      72.4   \n",
       "6   0                         2 mostly free                      77.8   \n",
       "7   0                         1 free                             82.6   \n",
       "8   0                         2 mostly free                      79.2   \n",
       "9   0                         2 mostly free                      77.3   \n",
       "10  0                         n/a                                â€”    \n",
       "11  0                         3 moderately free                  65.6   \n",
       "12  0                         3 moderately free                  67.5   \n",
       "13  0                         3 moderately free                  68.7   \n",
       "14  +1                        3 moderately free                  65.9   \n",
       "15  0                         1 free                             83.0   \n",
       "16  0                         3 moderately free                  69.8   \n",
       "17  0                         2 mostly free                      76.2   \n",
       "18  +1                        2 mostly free                      77.8   \n",
       "19  0                         3 moderately free                  66.8   \n",
       "20  0                         2 mostly free                      71.4   \n",
       "21  +2                        2 mostly free                      70.2   \n",
       "22  0                         2 mostly free                      70.5   \n",
       "23  0                         1 free                             80.0   \n",
       "24  0                         n/a                                â€”    \n",
       "25  0                         3 moderately free                  68.4   \n",
       "26  0                         4 mostly unfree                    54.0   \n",
       "27  -1                        2 mostly free                      72.1   \n",
       "28  0                         n/a                                â€”    \n",
       "29  0                         n/a                                â€”    \n",
       "30  0                         3 moderately free                  65.8   \n",
       "⋮   ⋮                         ⋮                                  ⋮      \n",
       "168 -3                        4 mostly unfree                    53.4   \n",
       "169 0                         4 mostly unfree                    53.6   \n",
       "170 0                         4 mostly unfree                    51.4   \n",
       "171 0                         5 repressed                        28.1   \n",
       "172 0                         5 repressed                        38.4   \n",
       "173 0                         4 mostly unfree                    50.6   \n",
       "174 -3                        4 mostly unfree                    52.0   \n",
       "175 0                         3 moderately free                  63.4   \n",
       "176 0                         5 repressed                        25.7   \n",
       "177 0                         4 mostly unfree                    55.9   \n",
       "178 -1                        5 repressed                        41.2   \n",
       "179 +1                        n/a                                â€”    \n",
       "180 0                         5 repressed                        48.5   \n",
       "181 -1                        n/a                                â€”    \n",
       "182 0                         5 repressed                        48.4   \n",
       "183 -1                        5 repressed                        42.2   \n",
       "184 0                         3 moderately free                  61.9   \n",
       "185 0                         n/a                                â€”    \n",
       "186 -2                        3 moderately free                  61.6   \n",
       "187 -2                        n/a                                â€”    \n",
       "188 -4                        5 repressed                        33.9   \n",
       "189 -2                        5 repressed                        41.3   \n",
       "190 0                         5 repressed                        47.7   \n",
       "191 -2                        4 mostly unfree                    51.3   \n",
       "192 0                         5 repressed                        39.5   \n",
       "193 0                         5 repressed                        2.9    \n",
       "194 0                         5 repressed                        46.3   \n",
       "195 0                         n/a                                â€”    \n",
       "196 0                         n/a                                â€”    \n",
       "197 â€”                       n/a                                â€”    \n",
       "    Press Freedom Index 2023[3] Score\\n Democracy Index 2023[18] Score\\n\n",
       "1   1 good                      87.94   1 full democracy         9.30   \n",
       "2   2 satisfactory              84.23   1 full democracy         9.61   \n",
       "3   1 good                      88.15   1 full democracy         9.39   \n",
       "4   1 good                      95.18   1 full democracy         9.81   \n",
       "5   2 satisfactory              83.53   1 full democracy         8.69   \n",
       "6   1 good                      89.48   1 full democracy         9.28   \n",
       "7   1 good                      89.91   1 full democracy         9.19   \n",
       "8   2 satisfactory              81.98   1 full democracy         8.81   \n",
       "9   1 good                      87      1 full democracy         9.00   \n",
       "10  n/a                         â€”     n/a                      â€”    \n",
       "11  2 satisfactory              76.47   2 flawed democracy       7.64   \n",
       "12  3 problematic               63.95   1 full democracy         8.40   \n",
       "13  2 satisfactory              84.6    2 flawed democracy       7.75   \n",
       "14  2 satisfactory              70.59   2 flawed democracy       7.75   \n",
       "15  2 satisfactory              84.4    1 full democracy         9.14   \n",
       "16  2 satisfactory              70.33   1 full democracy         8.66   \n",
       "17  2 satisfactory              78.24   1 full democracy         8.66   \n",
       "18  1 good                      85.31   2 flawed democracy       7.96   \n",
       "19  n/a                         â€”     n/a                      â€”    \n",
       "20  3 problematic               60.09   2 flawed democracy       7.98   \n",
       "21  2 satisfactory              83.58   2 flawed democracy       7.97   \n",
       "22  2 satisfactory              83.19   1 full democracy         9.45   \n",
       "23  2 satisfactory              75.54   1 full democracy         8.92   \n",
       "24  2 satisfactory              75.05   n/a                      â€”    \n",
       "25  2 satisfactory              77.3    1 full democracy         8.28   \n",
       "26  3 problematic               58.36   n/a                      â€”    \n",
       "27  2 satisfactory              81.91   1 full democracy         8.80   \n",
       "28  n/a                         â€”     n/a                      â€”    \n",
       "29  n/a                         â€”     n/a                      â€”    \n",
       "30  2 satisfactory              75.72   2 flawed democracy       7.65   \n",
       "⋮   ⋮                           ⋮       ⋮                        ⋮      \n",
       "168 5 very serious              37.09   5 authoritarian          2.26   \n",
       "169 4 difficult                 45.58   5 authoritarian          2.56   \n",
       "170 4 difficult                 53.73   5 authoritarian          1.67   \n",
       "171 5 very serious              36.99   5 authoritarian          2.31   \n",
       "172 4 difficult                 52.14   5 authoritarian          2.13   \n",
       "173 5 very serious              36.66   5 authoritarian          1.71   \n",
       "174 5 very serious              34.77   5 hybrid regime          2.22   \n",
       "175 5 very serious              30.59   5 authoritarian          2.52   \n",
       "176 5 very serious              29      5 authoritarian          2.65   \n",
       "177 4 difficult                 45.73   5 authoritarian          2.12   \n",
       "178 5 very serious              24.81   5 authoritarian          1.96   \n",
       "179 5 very serious              32.78   5 authoritarian          1.95   \n",
       "180 5 very serious              22.97   5 authoritarian          2.12   \n",
       "181 4 difficult                 40.22   5 authoritarian          1.78   \n",
       "182 5 very serious              37.17   5 authoritarian          1.99   \n",
       "183 5 very serious              28.26   5 authoritarian          0.85   \n",
       "184 5 very serious              32.43   5 authoritarian          2.08   \n",
       "185 4 difficult                 44.24   n/a                      â€”    \n",
       "186 5 very serious              39.93   5 authoritarian          2.80   \n",
       "187 5 very serious              39.75   5 authoritarian          0.26   \n",
       "188 4 difficult                 40.83   5 authoritarian          1.76   \n",
       "189 3 problematic               57.56   5 authoritarian          1.18   \n",
       "190 4 difficult                 50.35   5 authoritarian          1.92   \n",
       "191 5 very serious              39.06   5 authoritarian          1.94   \n",
       "192 5 very serious              27.86   5 authoritarian          1.97   \n",
       "193 5 very serious              21.72   5 authoritarian          1.08   \n",
       "194 5 very serious              25.82   5 authoritarian          1.66   \n",
       "195 4 difficult                 50.62   n/a                      â€”    \n",
       "196 5 very serious              27.22   5 authoritarian          1.43   \n",
       "197 5 very serious              37.86   5 authoritarian          3.47   "
      ]
     },
     "metadata": {},
     "output_type": "display_data"
    }
   ],
   "source": [
    "freedomDFs[[2]]"
   ]
  },
  {
   "cell_type": "markdown",
   "metadata": {
    "id": "HQiAztAH08Xu"
   },
   "source": [
    "Let's keep it:"
   ]
  },
  {
   "cell_type": "code",
   "execution_count": 21,
   "metadata": {
    "colab": {
     "base_uri": "https://localhost:8080/",
     "height": 321
    },
    "id": "ff1KWNe308Xu",
    "outputId": "4b30f785-0369-49e5-cda6-1c470a1722f5"
   },
   "outputs": [
    {
     "data": {
      "text/html": [
       "<table class=\"dataframe\">\n",
       "<caption>A data.frame: 6 × 9</caption>\n",
       "<thead>\n",
       "\t<tr><th></th><th scope=col>Country\n",
       "</th><th scope=col>Freedom in the World 2024[16]</th><th scope=col>Score change since 2023\n",
       "</th><th scope=col>Index of Economic Freedom 2024[17]</th><th scope=col>Score\n",
       "</th><th scope=col>Press Freedom Index 2023[3]</th><th scope=col>Score\n",
       "</th><th scope=col>Democracy Index 2023[18]</th><th scope=col>Score\n",
       "</th></tr>\n",
       "\t<tr><th></th><th scope=col>&lt;chr&gt;</th><th scope=col>&lt;chr&gt;</th><th scope=col>&lt;chr&gt;</th><th scope=col>&lt;chr&gt;</th><th scope=col>&lt;chr&gt;</th><th scope=col>&lt;chr&gt;</th><th scope=col>&lt;chr&gt;</th><th scope=col>&lt;chr&gt;</th><th scope=col>&lt;chr&gt;</th></tr>\n",
       "</thead>\n",
       "<tbody>\n",
       "\t<tr><th scope=row>1</th><td> Finland    </td><td>1 100</td><td>0 </td><td>2 mostly free</td><td>76.3</td><td>1 good        </td><td>87.94</td><td>1 full democracy</td><td>9.30</td></tr>\n",
       "\t<tr><th scope=row>2</th><td> New Zealand</td><td>1 99 </td><td>0 </td><td>2 mostly free</td><td>77.8</td><td>2 satisfactory</td><td>84.23</td><td>1 full democracy</td><td>9.61</td></tr>\n",
       "\t<tr><th scope=row>3</th><td> Sweden     </td><td>1 99 </td><td>-1</td><td>2 mostly free</td><td>77.5</td><td>1 good        </td><td>88.15</td><td>1 full democracy</td><td>9.39</td></tr>\n",
       "\t<tr><th scope=row>4</th><td> Norway     </td><td>1 98 </td><td>-2</td><td>2 mostly free</td><td>77.5</td><td>1 good        </td><td>95.18</td><td>1 full democracy</td><td>9.81</td></tr>\n",
       "\t<tr><th scope=row>5</th><td> Canada     </td><td>1 97 </td><td>-1</td><td>2 mostly free</td><td>72.4</td><td>2 satisfactory</td><td>83.53</td><td>1 full democracy</td><td>8.69</td></tr>\n",
       "\t<tr><th scope=row>6</th><td> Denmark    </td><td>1 97 </td><td>0 </td><td>2 mostly free</td><td>77.8</td><td>1 good        </td><td>89.48</td><td>1 full democracy</td><td>9.28</td></tr>\n",
       "</tbody>\n",
       "</table>\n"
      ],
      "text/latex": [
       "A data.frame: 6 × 9\n",
       "\\begin{tabular}{r|lllllllll}\n",
       "  & Country\n",
       " & Freedom in the World 2024{[}16{]} & Score change since 2023\n",
       " & Index of Economic Freedom 2024{[}17{]} & Score\n",
       " & Press Freedom Index 2023{[}3{]} & Score\n",
       " & Democracy Index 2023{[}18{]} & Score\n",
       "\\\\\n",
       "  & <chr> & <chr> & <chr> & <chr> & <chr> & <chr> & <chr> & <chr> & <chr>\\\\\n",
       "\\hline\n",
       "\t1 &  Finland     & 1 100 & 0  & 2 mostly free & 76.3 & 1 good         & 87.94 & 1 full democracy & 9.30\\\\\n",
       "\t2 &  New Zealand & 1 99  & 0  & 2 mostly free & 77.8 & 2 satisfactory & 84.23 & 1 full democracy & 9.61\\\\\n",
       "\t3 &  Sweden      & 1 99  & -1 & 2 mostly free & 77.5 & 1 good         & 88.15 & 1 full democracy & 9.39\\\\\n",
       "\t4 &  Norway      & 1 98  & -2 & 2 mostly free & 77.5 & 1 good         & 95.18 & 1 full democracy & 9.81\\\\\n",
       "\t5 &  Canada      & 1 97  & -1 & 2 mostly free & 72.4 & 2 satisfactory & 83.53 & 1 full democracy & 8.69\\\\\n",
       "\t6 &  Denmark     & 1 97  & 0  & 2 mostly free & 77.8 & 1 good         & 89.48 & 1 full democracy & 9.28\\\\\n",
       "\\end{tabular}\n"
      ],
      "text/markdown": [
       "\n",
       "A data.frame: 6 × 9\n",
       "\n",
       "| <!--/--> | Country\n",
       " &lt;chr&gt; | Freedom in the World 2024[16] &lt;chr&gt; | Score change since 2023\n",
       " &lt;chr&gt; | Index of Economic Freedom 2024[17] &lt;chr&gt; | Score\n",
       " &lt;chr&gt; | Press Freedom Index 2023[3] &lt;chr&gt; | Score\n",
       " &lt;chr&gt; | Democracy Index 2023[18] &lt;chr&gt; | Score\n",
       " &lt;chr&gt; |\n",
       "|---|---|---|---|---|---|---|---|---|---|\n",
       "| 1 |  Finland     | 1 100 | 0  | 2 mostly free | 76.3 | 1 good         | 87.94 | 1 full democracy | 9.30 |\n",
       "| 2 |  New Zealand | 1 99  | 0  | 2 mostly free | 77.8 | 2 satisfactory | 84.23 | 1 full democracy | 9.61 |\n",
       "| 3 |  Sweden      | 1 99  | -1 | 2 mostly free | 77.5 | 1 good         | 88.15 | 1 full democracy | 9.39 |\n",
       "| 4 |  Norway      | 1 98  | -2 | 2 mostly free | 77.5 | 1 good         | 95.18 | 1 full democracy | 9.81 |\n",
       "| 5 |  Canada      | 1 97  | -1 | 2 mostly free | 72.4 | 2 satisfactory | 83.53 | 1 full democracy | 8.69 |\n",
       "| 6 |  Denmark     | 1 97  | 0  | 2 mostly free | 77.8 | 1 good         | 89.48 | 1 full democracy | 9.28 |\n",
       "\n"
      ],
      "text/plain": [
       "  Country\\n    Freedom in the World 2024[16] Score change since 2023\\n\n",
       "1  Finland     1 100                         0                        \n",
       "2  New Zealand 1 99                          0                        \n",
       "3  Sweden      1 99                          -1                       \n",
       "4  Norway      1 98                          -2                       \n",
       "5  Canada      1 97                          -1                       \n",
       "6  Denmark     1 97                          0                        \n",
       "  Index of Economic Freedom 2024[17] Score\\n Press Freedom Index 2023[3]\n",
       "1 2 mostly free                      76.3    1 good                     \n",
       "2 2 mostly free                      77.8    2 satisfactory             \n",
       "3 2 mostly free                      77.5    1 good                     \n",
       "4 2 mostly free                      77.5    1 good                     \n",
       "5 2 mostly free                      72.4    2 satisfactory             \n",
       "6 2 mostly free                      77.8    1 good                     \n",
       "  Score\\n Democracy Index 2023[18] Score\\n\n",
       "1 87.94   1 full democracy         9.30   \n",
       "2 84.23   1 full democracy         9.61   \n",
       "3 88.15   1 full democracy         9.39   \n",
       "4 95.18   1 full democracy         9.81   \n",
       "5 83.53   1 full democracy         8.69   \n",
       "6 89.48   1 full democracy         9.28   "
      ]
     },
     "metadata": {},
     "output_type": "display_data"
    }
   ],
   "source": [
    "freedom=freedomDFs[[2]]\n",
    "head(freedom)"
   ]
  },
  {
   "cell_type": "markdown",
   "metadata": {
    "id": "uI4mhwIg08Xu"
   },
   "source": [
    "## The cleaning process\n",
    "\n",
    "### The headers\n",
    "\n",
    "We need to clean before formatting."
   ]
  },
  {
   "cell_type": "code",
   "execution_count": 22,
   "metadata": {
    "colab": {
     "base_uri": "https://localhost:8080/",
     "height": 34
    },
    "id": "QHaAQVeT08Xu",
    "outputId": "2b7b7f58-6ffc-4e7d-902f-8ec00f05af85"
   },
   "outputs": [
    {
     "data": {
      "text/html": [
       "<style>\n",
       ".list-inline {list-style: none; margin:0; padding: 0}\n",
       ".list-inline>li {display: inline-block}\n",
       ".list-inline>li:not(:last-child)::after {content: \"\\00b7\"; padding: 0 .5ex}\n",
       "</style>\n",
       "<ol class=list-inline><li>'Country\\n'</li><li>'Freedom in the World 2024[16]'</li><li>'Score change since 2023\\n'</li><li>'Index of Economic Freedom 2024[17]'</li><li>'Score\\n'</li><li>'Press Freedom Index 2023[3]'</li><li>'Score\\n'</li><li>'Democracy Index 2023[18]'</li><li>'Score\\n'</li></ol>\n"
      ],
      "text/latex": [
       "\\begin{enumerate*}\n",
       "\\item 'Country\\textbackslash{}n'\n",
       "\\item 'Freedom in the World 2024{[}16{]}'\n",
       "\\item 'Score change since 2023\\textbackslash{}n'\n",
       "\\item 'Index of Economic Freedom 2024{[}17{]}'\n",
       "\\item 'Score\\textbackslash{}n'\n",
       "\\item 'Press Freedom Index 2023{[}3{]}'\n",
       "\\item 'Score\\textbackslash{}n'\n",
       "\\item 'Democracy Index 2023{[}18{]}'\n",
       "\\item 'Score\\textbackslash{}n'\n",
       "\\end{enumerate*}\n"
      ],
      "text/markdown": [
       "1. 'Country\\n'\n",
       "2. 'Freedom in the World 2024[16]'\n",
       "3. 'Score change since 2023\\n'\n",
       "4. 'Index of Economic Freedom 2024[17]'\n",
       "5. 'Score\\n'\n",
       "6. 'Press Freedom Index 2023[3]'\n",
       "7. 'Score\\n'\n",
       "8. 'Democracy Index 2023[18]'\n",
       "9. 'Score\\n'\n",
       "\n",
       "\n"
      ],
      "text/plain": [
       "[1] \"Country\\n\"                          \"Freedom in the World 2024[16]\"     \n",
       "[3] \"Score change since 2023\\n\"          \"Index of Economic Freedom 2024[17]\"\n",
       "[5] \"Score\\n\"                            \"Press Freedom Index 2023[3]\"       \n",
       "[7] \"Score\\n\"                            \"Democracy Index 2023[18]\"          \n",
       "[9] \"Score\\n\"                           "
      ]
     },
     "metadata": {},
     "output_type": "display_data"
    }
   ],
   "source": [
    "# check headers\n",
    "names(freedom)"
   ]
  },
  {
   "cell_type": "markdown",
   "metadata": {
    "id": "p_MMovKU08Xu"
   },
   "source": [
    "The plan here is:\n",
    "\n",
    "1. No footnotes\n",
    "2. No year\n",
    "3. No trailing/leading spaces\n",
    "4. Lower case for all names\n",
    "5. No unwanted columns (third column)\n",
    "6. Try the simplest names that keep meaning of the column\n",
    "7. Give proper names that benefit similarity and difference\n",
    "\n",
    "Let's start:\n",
    "\n",
    "**1. No footnotes**"
   ]
  },
  {
   "cell_type": "code",
   "execution_count": 23,
   "metadata": {},
   "outputs": [
    {
     "data": {
      "text/html": [
       "<style>\n",
       ".list-inline {list-style: none; margin:0; padding: 0}\n",
       ".list-inline>li {display: inline-block}\n",
       ".list-inline>li:not(:last-child)::after {content: \"\\00b7\"; padding: 0 .5ex}\n",
       "</style>\n",
       "<ol class=list-inline><li>'Country\\n'</li><li>'Freedom in the World 2024'</li><li>'Score change since 2023\\n'</li><li>'Index of Economic Freedom 2024'</li><li>'Score\\n'</li><li>'Press Freedom Index 2023'</li><li>'Score\\n'</li><li>'Democracy Index 2023'</li><li>'Score\\n'</li></ol>\n"
      ],
      "text/latex": [
       "\\begin{enumerate*}\n",
       "\\item 'Country\\textbackslash{}n'\n",
       "\\item 'Freedom in the World 2024'\n",
       "\\item 'Score change since 2023\\textbackslash{}n'\n",
       "\\item 'Index of Economic Freedom 2024'\n",
       "\\item 'Score\\textbackslash{}n'\n",
       "\\item 'Press Freedom Index 2023'\n",
       "\\item 'Score\\textbackslash{}n'\n",
       "\\item 'Democracy Index 2023'\n",
       "\\item 'Score\\textbackslash{}n'\n",
       "\\end{enumerate*}\n"
      ],
      "text/markdown": [
       "1. 'Country\\n'\n",
       "2. 'Freedom in the World 2024'\n",
       "3. 'Score change since 2023\\n'\n",
       "4. 'Index of Economic Freedom 2024'\n",
       "5. 'Score\\n'\n",
       "6. 'Press Freedom Index 2023'\n",
       "7. 'Score\\n'\n",
       "8. 'Democracy Index 2023'\n",
       "9. 'Score\\n'\n",
       "\n",
       "\n"
      ],
      "text/plain": [
       "[1] \"Country\\n\"                      \"Freedom in the World 2024\"     \n",
       "[3] \"Score change since 2023\\n\"      \"Index of Economic Freedom 2024\"\n",
       "[5] \"Score\\n\"                        \"Press Freedom Index 2023\"      \n",
       "[7] \"Score\\n\"                        \"Democracy Index 2023\"          \n",
       "[9] \"Score\\n\"                       "
      ]
     },
     "metadata": {},
     "output_type": "display_data"
    }
   ],
   "source": [
    "patternFootnotes='\\\\[.*\\\\]'\n",
    "\n",
    "names(freedom)=gsub(patternFootnotes,\"\" ,names(freedom))\n",
    "names(freedom)"
   ]
  },
  {
   "cell_type": "markdown",
   "metadata": {},
   "source": [
    "**2. No year**"
   ]
  },
  {
   "cell_type": "code",
   "execution_count": 24,
   "metadata": {},
   "outputs": [
    {
     "data": {
      "text/html": [
       "<style>\n",
       ".list-inline {list-style: none; margin:0; padding: 0}\n",
       ".list-inline>li {display: inline-block}\n",
       ".list-inline>li:not(:last-child)::after {content: \"\\00b7\"; padding: 0 .5ex}\n",
       "</style>\n",
       "<ol class=list-inline><li>'Country\\n'</li><li>'Freedom in the World '</li><li>'Score change since \\n'</li><li>'Index of Economic Freedom '</li><li>'Score\\n'</li><li>'Press Freedom Index '</li><li>'Score\\n'</li><li>'Democracy Index '</li><li>'Score\\n'</li></ol>\n"
      ],
      "text/latex": [
       "\\begin{enumerate*}\n",
       "\\item 'Country\\textbackslash{}n'\n",
       "\\item 'Freedom in the World '\n",
       "\\item 'Score change since \\textbackslash{}n'\n",
       "\\item 'Index of Economic Freedom '\n",
       "\\item 'Score\\textbackslash{}n'\n",
       "\\item 'Press Freedom Index '\n",
       "\\item 'Score\\textbackslash{}n'\n",
       "\\item 'Democracy Index '\n",
       "\\item 'Score\\textbackslash{}n'\n",
       "\\end{enumerate*}\n"
      ],
      "text/markdown": [
       "1. 'Country\\n'\n",
       "2. 'Freedom in the World '\n",
       "3. 'Score change since \\n'\n",
       "4. 'Index of Economic Freedom '\n",
       "5. 'Score\\n'\n",
       "6. 'Press Freedom Index '\n",
       "7. 'Score\\n'\n",
       "8. 'Democracy Index '\n",
       "9. 'Score\\n'\n",
       "\n",
       "\n"
      ],
      "text/plain": [
       "[1] \"Country\\n\"                  \"Freedom in the World \"     \n",
       "[3] \"Score change since \\n\"      \"Index of Economic Freedom \"\n",
       "[5] \"Score\\n\"                    \"Press Freedom Index \"      \n",
       "[7] \"Score\\n\"                    \"Democracy Index \"          \n",
       "[9] \"Score\\n\"                   "
      ]
     },
     "metadata": {},
     "output_type": "display_data"
    }
   ],
   "source": [
    "patternYear='\\\\d{4}'\n",
    "\n",
    "names(freedom)=gsub(patternYear,\"\" ,names(freedom))\n",
    "names(freedom)"
   ]
  },
  {
   "cell_type": "markdown",
   "metadata": {},
   "source": [
    "**3. No trailing/leading spaces**"
   ]
  },
  {
   "cell_type": "code",
   "execution_count": 25,
   "metadata": {},
   "outputs": [
    {
     "data": {
      "text/html": [
       "<style>\n",
       ".list-inline {list-style: none; margin:0; padding: 0}\n",
       ".list-inline>li {display: inline-block}\n",
       ".list-inline>li:not(:last-child)::after {content: \"\\00b7\"; padding: 0 .5ex}\n",
       "</style>\n",
       "<ol class=list-inline><li>'Country'</li><li>'Freedom in the World'</li><li>'Score change since'</li><li>'Index of Economic Freedom'</li><li>'Score'</li><li>'Press Freedom Index'</li><li>'Score'</li><li>'Democracy Index'</li><li>'Score'</li></ol>\n"
      ],
      "text/latex": [
       "\\begin{enumerate*}\n",
       "\\item 'Country'\n",
       "\\item 'Freedom in the World'\n",
       "\\item 'Score change since'\n",
       "\\item 'Index of Economic Freedom'\n",
       "\\item 'Score'\n",
       "\\item 'Press Freedom Index'\n",
       "\\item 'Score'\n",
       "\\item 'Democracy Index'\n",
       "\\item 'Score'\n",
       "\\end{enumerate*}\n"
      ],
      "text/markdown": [
       "1. 'Country'\n",
       "2. 'Freedom in the World'\n",
       "3. 'Score change since'\n",
       "4. 'Index of Economic Freedom'\n",
       "5. 'Score'\n",
       "6. 'Press Freedom Index'\n",
       "7. 'Score'\n",
       "8. 'Democracy Index'\n",
       "9. 'Score'\n",
       "\n",
       "\n"
      ],
      "text/plain": [
       "[1] \"Country\"                   \"Freedom in the World\"     \n",
       "[3] \"Score change since\"        \"Index of Economic Freedom\"\n",
       "[5] \"Score\"                     \"Press Freedom Index\"      \n",
       "[7] \"Score\"                     \"Democracy Index\"          \n",
       "[9] \"Score\"                    "
      ]
     },
     "metadata": {},
     "output_type": "display_data"
    }
   ],
   "source": [
    "\n",
    "names(freedom)=trimws(names(freedom)) # valid for \\n, too\n",
    "names(freedom)"
   ]
  },
  {
   "cell_type": "markdown",
   "metadata": {},
   "source": [
    "**4. Lower case for all names**"
   ]
  },
  {
   "cell_type": "code",
   "execution_count": 26,
   "metadata": {},
   "outputs": [
    {
     "data": {
      "text/html": [
       "<style>\n",
       ".list-inline {list-style: none; margin:0; padding: 0}\n",
       ".list-inline>li {display: inline-block}\n",
       ".list-inline>li:not(:last-child)::after {content: \"\\00b7\"; padding: 0 .5ex}\n",
       "</style>\n",
       "<ol class=list-inline><li>'country'</li><li>'freedom in the world'</li><li>'score change since'</li><li>'index of economic freedom'</li><li>'score'</li><li>'press freedom index'</li><li>'score'</li><li>'democracy index'</li><li>'score'</li></ol>\n"
      ],
      "text/latex": [
       "\\begin{enumerate*}\n",
       "\\item 'country'\n",
       "\\item 'freedom in the world'\n",
       "\\item 'score change since'\n",
       "\\item 'index of economic freedom'\n",
       "\\item 'score'\n",
       "\\item 'press freedom index'\n",
       "\\item 'score'\n",
       "\\item 'democracy index'\n",
       "\\item 'score'\n",
       "\\end{enumerate*}\n"
      ],
      "text/markdown": [
       "1. 'country'\n",
       "2. 'freedom in the world'\n",
       "3. 'score change since'\n",
       "4. 'index of economic freedom'\n",
       "5. 'score'\n",
       "6. 'press freedom index'\n",
       "7. 'score'\n",
       "8. 'democracy index'\n",
       "9. 'score'\n",
       "\n",
       "\n"
      ],
      "text/plain": [
       "[1] \"country\"                   \"freedom in the world\"     \n",
       "[3] \"score change since\"        \"index of economic freedom\"\n",
       "[5] \"score\"                     \"press freedom index\"      \n",
       "[7] \"score\"                     \"democracy index\"          \n",
       "[9] \"score\"                    "
      ]
     },
     "metadata": {},
     "output_type": "display_data"
    }
   ],
   "source": [
    "names(freedom)=tolower(names(freedom)) # valid for \\n, too\n",
    "names(freedom)"
   ]
  },
  {
   "cell_type": "code",
   "execution_count": 27,
   "metadata": {
    "colab": {
     "base_uri": "https://localhost:8080/",
     "height": 34
    },
    "id": "KYPqNZlp08Xu",
    "outputId": "1d330471-df1e-4d61-ad42-0ca43209ddf7"
   },
   "outputs": [],
   "source": [
    "# patternFootnotes='\\\\[.*\\\\]'\n",
    "# patternYear='\\\\d{4}'\n",
    "# pattern_NoYear_NoFootns='\\\\[.*\\\\]|\\\\d{4}' # this shortens coding\n",
    "\n",
    "# library(magrittr) # for %>%\n",
    "# names(freedom)=gsub(pattern_NoYear_NoFootns,\"\" ,names(freedom))%>%trimws()%>%tolower()\n",
    "# names(freedom)"
   ]
  },
  {
   "cell_type": "markdown",
   "metadata": {
    "id": "OtRSaLzL08Xv"
   },
   "source": [
    "**5. No unwanted columns (third column)**"
   ]
  },
  {
   "cell_type": "code",
   "execution_count": 28,
   "metadata": {
    "colab": {
     "base_uri": "https://localhost:8080/",
     "height": 34
    },
    "id": "7J9T6lJO08Xv",
    "outputId": "031fe22b-142a-4cee-bc91-d4084e70e1ee"
   },
   "outputs": [
    {
     "data": {
      "text/html": [
       "<style>\n",
       ".list-inline {list-style: none; margin:0; padding: 0}\n",
       ".list-inline>li {display: inline-block}\n",
       ".list-inline>li:not(:last-child)::after {content: \"\\00b7\"; padding: 0 .5ex}\n",
       "</style>\n",
       "<ol class=list-inline><li>'country'</li><li>'freedom in the world'</li><li>'index of economic freedom'</li><li>'score'</li><li>'press freedom index'</li><li>'score.1'</li><li>'democracy index'</li><li>'score.2'</li></ol>\n"
      ],
      "text/latex": [
       "\\begin{enumerate*}\n",
       "\\item 'country'\n",
       "\\item 'freedom in the world'\n",
       "\\item 'index of economic freedom'\n",
       "\\item 'score'\n",
       "\\item 'press freedom index'\n",
       "\\item 'score.1'\n",
       "\\item 'democracy index'\n",
       "\\item 'score.2'\n",
       "\\end{enumerate*}\n"
      ],
      "text/markdown": [
       "1. 'country'\n",
       "2. 'freedom in the world'\n",
       "3. 'index of economic freedom'\n",
       "4. 'score'\n",
       "5. 'press freedom index'\n",
       "6. 'score.1'\n",
       "7. 'democracy index'\n",
       "8. 'score.2'\n",
       "\n",
       "\n"
      ],
      "text/plain": [
       "[1] \"country\"                   \"freedom in the world\"     \n",
       "[3] \"index of economic freedom\" \"score\"                    \n",
       "[5] \"press freedom index\"       \"score.1\"                  \n",
       "[7] \"democracy index\"           \"score.2\"                  "
      ]
     },
     "metadata": {},
     "output_type": "display_data"
    }
   ],
   "source": [
    "freedom=freedom[,-3]\n",
    "names(freedom)"
   ]
  },
  {
   "cell_type": "markdown",
   "metadata": {
    "id": "zHJ5GSnB08Xv"
   },
   "source": [
    "**6. Try the simplest names that keep meaning of the column**"
   ]
  },
  {
   "cell_type": "code",
   "execution_count": 29,
   "metadata": {
    "colab": {
     "base_uri": "https://localhost:8080/",
     "height": 34
    },
    "id": "VTvZyvDu08Xv",
    "outputId": "5c6f67c4-3fb3-4fd0-ee4f-c1603424cbc0"
   },
   "outputs": [
    {
     "data": {
      "text/html": [
       "<style>\n",
       ".list-inline {list-style: none; margin:0; padding: 0}\n",
       ".list-inline>li {display: inline-block}\n",
       ".list-inline>li:not(:last-child)::after {content: \"\\00b7\"; padding: 0 .5ex}\n",
       "</style>\n",
       "<ol class=list-inline><li>'country'</li><li>'world'</li><li>'economic'</li><li>'score'</li><li>'press'</li><li>'score.1'</li><li>'democracy'</li><li>'score.2'</li></ol>\n"
      ],
      "text/latex": [
       "\\begin{enumerate*}\n",
       "\\item 'country'\n",
       "\\item 'world'\n",
       "\\item 'economic'\n",
       "\\item 'score'\n",
       "\\item 'press'\n",
       "\\item 'score.1'\n",
       "\\item 'democracy'\n",
       "\\item 'score.2'\n",
       "\\end{enumerate*}\n"
      ],
      "text/markdown": [
       "1. 'country'\n",
       "2. 'world'\n",
       "3. 'economic'\n",
       "4. 'score'\n",
       "5. 'press'\n",
       "6. 'score.1'\n",
       "7. 'democracy'\n",
       "8. 'score.2'\n",
       "\n",
       "\n"
      ],
      "text/plain": [
       "[1] \"country\"   \"world\"     \"economic\"  \"score\"     \"press\"     \"score.1\"  \n",
       "[7] \"democracy\" \"score.2\"  "
      ]
     },
     "metadata": {},
     "output_type": "display_data"
    }
   ],
   "source": [
    "\n",
    "pattern_bye=\"\\\\s|index|of|freedom|in|the\"\n",
    "names(freedom)=gsub(pattern_bye,\"\" ,names(freedom))\n",
    "names(freedom)\n"
   ]
  },
  {
   "cell_type": "markdown",
   "metadata": {
    "id": "OnUDFTjEztiT"
   },
   "source": [
    "**7. Give proper names that benefit similarity and difference**\n",
    "\n",
    "There are columns with scores, and other with categories, let's use that in the names:"
   ]
  },
  {
   "cell_type": "code",
   "execution_count": 30,
   "metadata": {
    "colab": {
     "base_uri": "https://localhost:8080/",
     "height": 34
    },
    "id": "54LWjuoFz6p9",
    "outputId": "e21cfb10-6989-478c-aabb-532d4496c495"
   },
   "outputs": [
    {
     "data": {
      "text/html": [
       "<style>\n",
       ".list-inline {list-style: none; margin:0; padding: 0}\n",
       ".list-inline>li {display: inline-block}\n",
       ".list-inline>li:not(:last-child)::after {content: \"\\00b7\"; padding: 0 .5ex}\n",
       "</style>\n",
       "<ol class=list-inline><li>'economic_score'</li><li>'press_score'</li><li>'democracy_score'</li></ol>\n"
      ],
      "text/latex": [
       "\\begin{enumerate*}\n",
       "\\item 'economic\\_score'\n",
       "\\item 'press\\_score'\n",
       "\\item 'democracy\\_score'\n",
       "\\end{enumerate*}\n"
      ],
      "text/markdown": [
       "1. 'economic_score'\n",
       "2. 'press_score'\n",
       "3. 'democracy_score'\n",
       "\n",
       "\n"
      ],
      "text/plain": [
       "[1] \"economic_score\"  \"press_score\"     \"democracy_score\""
      ]
     },
     "metadata": {},
     "output_type": "display_data"
    }
   ],
   "source": [
    "paste0(names(freedom)[seq(3,7,2)],\"_score\")"
   ]
  },
  {
   "cell_type": "code",
   "execution_count": 31,
   "metadata": {
    "colab": {
     "base_uri": "https://localhost:8080/",
     "height": 34
    },
    "id": "yyjV34Ir0eyy",
    "outputId": "bca89ba2-47c6-43d8-9081-69f75f8394ad"
   },
   "outputs": [
    {
     "data": {
      "text/html": [
       "<style>\n",
       ".list-inline {list-style: none; margin:0; padding: 0}\n",
       ".list-inline>li {display: inline-block}\n",
       ".list-inline>li:not(:last-child)::after {content: \"\\00b7\"; padding: 0 .5ex}\n",
       "</style>\n",
       "<ol class=list-inline><li>'score'</li><li>'score.1'</li><li>'score.2'</li></ol>\n"
      ],
      "text/latex": [
       "\\begin{enumerate*}\n",
       "\\item 'score'\n",
       "\\item 'score.1'\n",
       "\\item 'score.2'\n",
       "\\end{enumerate*}\n"
      ],
      "text/markdown": [
       "1. 'score'\n",
       "2. 'score.1'\n",
       "3. 'score.2'\n",
       "\n",
       "\n"
      ],
      "text/plain": [
       "[1] \"score\"   \"score.1\" \"score.2\""
      ]
     },
     "metadata": {},
     "output_type": "display_data"
    }
   ],
   "source": [
    "names(freedom)[seq(4,8,2)]"
   ]
  },
  {
   "cell_type": "code",
   "execution_count": 32,
   "metadata": {
    "colab": {
     "base_uri": "https://localhost:8080/",
     "height": 34
    },
    "id": "IN3bA2t70lhS",
    "outputId": "aa3b0f03-970a-458b-8443-7f7d9c1db08c"
   },
   "outputs": [
    {
     "data": {
      "text/html": [
       "<style>\n",
       ".list-inline {list-style: none; margin:0; padding: 0}\n",
       ".list-inline>li {display: inline-block}\n",
       ".list-inline>li:not(:last-child)::after {content: \"\\00b7\"; padding: 0 .5ex}\n",
       "</style>\n",
       "<ol class=list-inline><li>'country'</li><li>'world'</li><li>'economic'</li><li>'economic_score'</li><li>'press'</li><li>'press_score'</li><li>'democracy'</li><li>'democracy_score'</li></ol>\n"
      ],
      "text/latex": [
       "\\begin{enumerate*}\n",
       "\\item 'country'\n",
       "\\item 'world'\n",
       "\\item 'economic'\n",
       "\\item 'economic\\_score'\n",
       "\\item 'press'\n",
       "\\item 'press\\_score'\n",
       "\\item 'democracy'\n",
       "\\item 'democracy\\_score'\n",
       "\\end{enumerate*}\n"
      ],
      "text/markdown": [
       "1. 'country'\n",
       "2. 'world'\n",
       "3. 'economic'\n",
       "4. 'economic_score'\n",
       "5. 'press'\n",
       "6. 'press_score'\n",
       "7. 'democracy'\n",
       "8. 'democracy_score'\n",
       "\n",
       "\n"
      ],
      "text/plain": [
       "[1] \"country\"         \"world\"           \"economic\"        \"economic_score\" \n",
       "[5] \"press\"           \"press_score\"     \"democracy\"       \"democracy_score\""
      ]
     },
     "metadata": {},
     "output_type": "display_data"
    }
   ],
   "source": [
    "names(freedom)[seq(4,8,2)]=paste0(names(freedom)[seq(3,7,2)],\"_score\")\n",
    "\n",
    "names(freedom)"
   ]
  },
  {
   "cell_type": "markdown",
   "metadata": {
    "id": "meqgMmIk08Xv"
   },
   "source": [
    "Since we have Freedom in the World as a _score_, let's rename it:"
   ]
  },
  {
   "cell_type": "code",
   "execution_count": 33,
   "metadata": {
    "colab": {
     "base_uri": "https://localhost:8080/",
     "height": 286
    },
    "id": "_W54RM6308Xv",
    "outputId": "75d2ec08-b034-4bee-fa10-8492d656d034"
   },
   "outputs": [
    {
     "data": {
      "text/html": [
       "<table class=\"dataframe\">\n",
       "<caption>A data.frame: 6 × 8</caption>\n",
       "<thead>\n",
       "\t<tr><th></th><th scope=col>country</th><th scope=col>world_score</th><th scope=col>economic</th><th scope=col>economic_score</th><th scope=col>press</th><th scope=col>press_score</th><th scope=col>democracy</th><th scope=col>democracy_score</th></tr>\n",
       "\t<tr><th></th><th scope=col>&lt;chr&gt;</th><th scope=col>&lt;chr&gt;</th><th scope=col>&lt;chr&gt;</th><th scope=col>&lt;chr&gt;</th><th scope=col>&lt;chr&gt;</th><th scope=col>&lt;chr&gt;</th><th scope=col>&lt;chr&gt;</th><th scope=col>&lt;chr&gt;</th></tr>\n",
       "</thead>\n",
       "<tbody>\n",
       "\t<tr><th scope=row>1</th><td> Finland    </td><td>1 100</td><td>2 mostly free</td><td>76.3</td><td>1 good        </td><td>87.94</td><td>1 full democracy</td><td>9.30</td></tr>\n",
       "\t<tr><th scope=row>2</th><td> New Zealand</td><td>1 99 </td><td>2 mostly free</td><td>77.8</td><td>2 satisfactory</td><td>84.23</td><td>1 full democracy</td><td>9.61</td></tr>\n",
       "\t<tr><th scope=row>3</th><td> Sweden     </td><td>1 99 </td><td>2 mostly free</td><td>77.5</td><td>1 good        </td><td>88.15</td><td>1 full democracy</td><td>9.39</td></tr>\n",
       "\t<tr><th scope=row>4</th><td> Norway     </td><td>1 98 </td><td>2 mostly free</td><td>77.5</td><td>1 good        </td><td>95.18</td><td>1 full democracy</td><td>9.81</td></tr>\n",
       "\t<tr><th scope=row>5</th><td> Canada     </td><td>1 97 </td><td>2 mostly free</td><td>72.4</td><td>2 satisfactory</td><td>83.53</td><td>1 full democracy</td><td>8.69</td></tr>\n",
       "\t<tr><th scope=row>6</th><td> Denmark    </td><td>1 97 </td><td>2 mostly free</td><td>77.8</td><td>1 good        </td><td>89.48</td><td>1 full democracy</td><td>9.28</td></tr>\n",
       "</tbody>\n",
       "</table>\n"
      ],
      "text/latex": [
       "A data.frame: 6 × 8\n",
       "\\begin{tabular}{r|llllllll}\n",
       "  & country & world\\_score & economic & economic\\_score & press & press\\_score & democracy & democracy\\_score\\\\\n",
       "  & <chr> & <chr> & <chr> & <chr> & <chr> & <chr> & <chr> & <chr>\\\\\n",
       "\\hline\n",
       "\t1 &  Finland     & 1 100 & 2 mostly free & 76.3 & 1 good         & 87.94 & 1 full democracy & 9.30\\\\\n",
       "\t2 &  New Zealand & 1 99  & 2 mostly free & 77.8 & 2 satisfactory & 84.23 & 1 full democracy & 9.61\\\\\n",
       "\t3 &  Sweden      & 1 99  & 2 mostly free & 77.5 & 1 good         & 88.15 & 1 full democracy & 9.39\\\\\n",
       "\t4 &  Norway      & 1 98  & 2 mostly free & 77.5 & 1 good         & 95.18 & 1 full democracy & 9.81\\\\\n",
       "\t5 &  Canada      & 1 97  & 2 mostly free & 72.4 & 2 satisfactory & 83.53 & 1 full democracy & 8.69\\\\\n",
       "\t6 &  Denmark     & 1 97  & 2 mostly free & 77.8 & 1 good         & 89.48 & 1 full democracy & 9.28\\\\\n",
       "\\end{tabular}\n"
      ],
      "text/markdown": [
       "\n",
       "A data.frame: 6 × 8\n",
       "\n",
       "| <!--/--> | country &lt;chr&gt; | world_score &lt;chr&gt; | economic &lt;chr&gt; | economic_score &lt;chr&gt; | press &lt;chr&gt; | press_score &lt;chr&gt; | democracy &lt;chr&gt; | democracy_score &lt;chr&gt; |\n",
       "|---|---|---|---|---|---|---|---|---|\n",
       "| 1 |  Finland     | 1 100 | 2 mostly free | 76.3 | 1 good         | 87.94 | 1 full democracy | 9.30 |\n",
       "| 2 |  New Zealand | 1 99  | 2 mostly free | 77.8 | 2 satisfactory | 84.23 | 1 full democracy | 9.61 |\n",
       "| 3 |  Sweden      | 1 99  | 2 mostly free | 77.5 | 1 good         | 88.15 | 1 full democracy | 9.39 |\n",
       "| 4 |  Norway      | 1 98  | 2 mostly free | 77.5 | 1 good         | 95.18 | 1 full democracy | 9.81 |\n",
       "| 5 |  Canada      | 1 97  | 2 mostly free | 72.4 | 2 satisfactory | 83.53 | 1 full democracy | 8.69 |\n",
       "| 6 |  Denmark     | 1 97  | 2 mostly free | 77.8 | 1 good         | 89.48 | 1 full democracy | 9.28 |\n",
       "\n"
      ],
      "text/plain": [
       "  country      world_score economic      economic_score press         \n",
       "1  Finland     1 100       2 mostly free 76.3           1 good        \n",
       "2  New Zealand 1 99        2 mostly free 77.8           2 satisfactory\n",
       "3  Sweden      1 99        2 mostly free 77.5           1 good        \n",
       "4  Norway      1 98        2 mostly free 77.5           1 good        \n",
       "5  Canada      1 97        2 mostly free 72.4           2 satisfactory\n",
       "6  Denmark     1 97        2 mostly free 77.8           1 good        \n",
       "  press_score democracy        democracy_score\n",
       "1 87.94       1 full democracy 9.30           \n",
       "2 84.23       1 full democracy 9.61           \n",
       "3 88.15       1 full democracy 9.39           \n",
       "4 95.18       1 full democracy 9.81           \n",
       "5 83.53       1 full democracy 8.69           \n",
       "6 89.48       1 full democracy 9.28           "
      ]
     },
     "metadata": {},
     "output_type": "display_data"
    }
   ],
   "source": [
    "names(freedom)[2]='world_score'\n",
    "head(freedom)"
   ]
  },
  {
   "cell_type": "markdown",
   "metadata": {
    "id": "L5XHDuIr3otU"
   },
   "source": [
    "We should give a particular name to categories:"
   ]
  },
  {
   "cell_type": "code",
   "execution_count": 34,
   "metadata": {
    "colab": {
     "base_uri": "https://localhost:8080/",
     "height": 286
    },
    "id": "iuKazlxi3pkx",
    "outputId": "be9e9446-6af6-4825-a40b-033536523fc1"
   },
   "outputs": [
    {
     "data": {
      "text/html": [
       "<table class=\"dataframe\">\n",
       "<caption>A data.frame: 6 × 8</caption>\n",
       "<thead>\n",
       "\t<tr><th></th><th scope=col>country</th><th scope=col>world_score</th><th scope=col>economic_level</th><th scope=col>economic_score</th><th scope=col>press_level</th><th scope=col>press_score</th><th scope=col>democracy_level</th><th scope=col>democracy_score</th></tr>\n",
       "\t<tr><th></th><th scope=col>&lt;chr&gt;</th><th scope=col>&lt;chr&gt;</th><th scope=col>&lt;chr&gt;</th><th scope=col>&lt;chr&gt;</th><th scope=col>&lt;chr&gt;</th><th scope=col>&lt;chr&gt;</th><th scope=col>&lt;chr&gt;</th><th scope=col>&lt;chr&gt;</th></tr>\n",
       "</thead>\n",
       "<tbody>\n",
       "\t<tr><th scope=row>1</th><td> Finland    </td><td>1 100</td><td>2 mostly free</td><td>76.3</td><td>1 good        </td><td>87.94</td><td>1 full democracy</td><td>9.30</td></tr>\n",
       "\t<tr><th scope=row>2</th><td> New Zealand</td><td>1 99 </td><td>2 mostly free</td><td>77.8</td><td>2 satisfactory</td><td>84.23</td><td>1 full democracy</td><td>9.61</td></tr>\n",
       "\t<tr><th scope=row>3</th><td> Sweden     </td><td>1 99 </td><td>2 mostly free</td><td>77.5</td><td>1 good        </td><td>88.15</td><td>1 full democracy</td><td>9.39</td></tr>\n",
       "\t<tr><th scope=row>4</th><td> Norway     </td><td>1 98 </td><td>2 mostly free</td><td>77.5</td><td>1 good        </td><td>95.18</td><td>1 full democracy</td><td>9.81</td></tr>\n",
       "\t<tr><th scope=row>5</th><td> Canada     </td><td>1 97 </td><td>2 mostly free</td><td>72.4</td><td>2 satisfactory</td><td>83.53</td><td>1 full democracy</td><td>8.69</td></tr>\n",
       "\t<tr><th scope=row>6</th><td> Denmark    </td><td>1 97 </td><td>2 mostly free</td><td>77.8</td><td>1 good        </td><td>89.48</td><td>1 full democracy</td><td>9.28</td></tr>\n",
       "</tbody>\n",
       "</table>\n"
      ],
      "text/latex": [
       "A data.frame: 6 × 8\n",
       "\\begin{tabular}{r|llllllll}\n",
       "  & country & world\\_score & economic\\_level & economic\\_score & press\\_level & press\\_score & democracy\\_level & democracy\\_score\\\\\n",
       "  & <chr> & <chr> & <chr> & <chr> & <chr> & <chr> & <chr> & <chr>\\\\\n",
       "\\hline\n",
       "\t1 &  Finland     & 1 100 & 2 mostly free & 76.3 & 1 good         & 87.94 & 1 full democracy & 9.30\\\\\n",
       "\t2 &  New Zealand & 1 99  & 2 mostly free & 77.8 & 2 satisfactory & 84.23 & 1 full democracy & 9.61\\\\\n",
       "\t3 &  Sweden      & 1 99  & 2 mostly free & 77.5 & 1 good         & 88.15 & 1 full democracy & 9.39\\\\\n",
       "\t4 &  Norway      & 1 98  & 2 mostly free & 77.5 & 1 good         & 95.18 & 1 full democracy & 9.81\\\\\n",
       "\t5 &  Canada      & 1 97  & 2 mostly free & 72.4 & 2 satisfactory & 83.53 & 1 full democracy & 8.69\\\\\n",
       "\t6 &  Denmark     & 1 97  & 2 mostly free & 77.8 & 1 good         & 89.48 & 1 full democracy & 9.28\\\\\n",
       "\\end{tabular}\n"
      ],
      "text/markdown": [
       "\n",
       "A data.frame: 6 × 8\n",
       "\n",
       "| <!--/--> | country &lt;chr&gt; | world_score &lt;chr&gt; | economic_level &lt;chr&gt; | economic_score &lt;chr&gt; | press_level &lt;chr&gt; | press_score &lt;chr&gt; | democracy_level &lt;chr&gt; | democracy_score &lt;chr&gt; |\n",
       "|---|---|---|---|---|---|---|---|---|\n",
       "| 1 |  Finland     | 1 100 | 2 mostly free | 76.3 | 1 good         | 87.94 | 1 full democracy | 9.30 |\n",
       "| 2 |  New Zealand | 1 99  | 2 mostly free | 77.8 | 2 satisfactory | 84.23 | 1 full democracy | 9.61 |\n",
       "| 3 |  Sweden      | 1 99  | 2 mostly free | 77.5 | 1 good         | 88.15 | 1 full democracy | 9.39 |\n",
       "| 4 |  Norway      | 1 98  | 2 mostly free | 77.5 | 1 good         | 95.18 | 1 full democracy | 9.81 |\n",
       "| 5 |  Canada      | 1 97  | 2 mostly free | 72.4 | 2 satisfactory | 83.53 | 1 full democracy | 8.69 |\n",
       "| 6 |  Denmark     | 1 97  | 2 mostly free | 77.8 | 1 good         | 89.48 | 1 full democracy | 9.28 |\n",
       "\n"
      ],
      "text/plain": [
       "  country      world_score economic_level economic_score press_level   \n",
       "1  Finland     1 100       2 mostly free  76.3           1 good        \n",
       "2  New Zealand 1 99        2 mostly free  77.8           2 satisfactory\n",
       "3  Sweden      1 99        2 mostly free  77.5           1 good        \n",
       "4  Norway      1 98        2 mostly free  77.5           1 good        \n",
       "5  Canada      1 97        2 mostly free  72.4           2 satisfactory\n",
       "6  Denmark     1 97        2 mostly free  77.8           1 good        \n",
       "  press_score democracy_level  democracy_score\n",
       "1 87.94       1 full democracy 9.30           \n",
       "2 84.23       1 full democracy 9.61           \n",
       "3 88.15       1 full democracy 9.39           \n",
       "4 95.18       1 full democracy 9.81           \n",
       "5 83.53       1 full democracy 8.69           \n",
       "6 89.48       1 full democracy 9.28           "
      ]
     },
     "metadata": {},
     "output_type": "display_data"
    }
   ],
   "source": [
    "names(freedom)[seq(3,7,2)]=paste0(names(freedom)[seq(3,7,2)],\"_level\")\n",
    "\n",
    "head(freedom)"
   ]
  },
  {
   "cell_type": "markdown",
   "metadata": {
    "id": "1xKab_gi08Xw"
   },
   "source": [
    "### The Contents\n",
    "\n",
    "The plan at this stage is:\n",
    "\n",
    "1. Solve the issue found in World_score: two strings\n",
    "2. Do preventive cleaning in columns with text\n",
    "3. Verify the levels of categorical values have no misstypings\n",
    "4. Check what is causing that numeric data columns are interpreted in a different way.\n",
    "\n",
    "Let's start!\n",
    "\n",
    "**1. Solve the issue found in World_score: two strings**"
   ]
  },
  {
   "cell_type": "code",
   "execution_count": 36,
   "metadata": {
    "colab": {
     "base_uri": "https://localhost:8080/",
     "height": 139
    },
    "id": "iguBfTEfFiao",
    "outputId": "34398127-f9a0-4abc-f686-9bf34bf0310c"
   },
   "outputs": [
    {
     "data": {
      "text/html": [
       "<style>\n",
       ".list-inline {list-style: none; margin:0; padding: 0}\n",
       ".list-inline>li {display: inline-block}\n",
       ".list-inline>li:not(:last-child)::after {content: \"\\00b7\"; padding: 0 .5ex}\n",
       "</style>\n",
       "<ol class=list-inline><li>'1 100'</li><li>'1 99'</li><li>'1 99'</li><li>'1 98'</li><li>'1 97'</li><li>'1 97'</li></ol>\n"
      ],
      "text/latex": [
       "\\begin{enumerate*}\n",
       "\\item '1 100'\n",
       "\\item '1 99'\n",
       "\\item '1 99'\n",
       "\\item '1 98'\n",
       "\\item '1 97'\n",
       "\\item '1 97'\n",
       "\\end{enumerate*}\n"
      ],
      "text/markdown": [
       "1. '1 100'\n",
       "2. '1 99'\n",
       "3. '1 99'\n",
       "4. '1 98'\n",
       "5. '1 97'\n",
       "6. '1 97'\n",
       "\n",
       "\n"
      ],
      "text/plain": [
       "[1] \"1 100\" \"1 99\"  \"1 99\"  \"1 98\"  \"1 97\"  \"1 97\" "
      ]
     },
     "metadata": {},
     "output_type": "display_data"
    }
   ],
   "source": [
    "head(freedom$world_score)"
   ]
  },
  {
   "cell_type": "code",
   "execution_count": 37,
   "metadata": {},
   "outputs": [
    {
     "data": {
      "text/html": [
       "<style>\n",
       ".list-inline {list-style: none; margin:0; padding: 0}\n",
       ".list-inline>li {display: inline-block}\n",
       ".list-inline>li:not(:last-child)::after {content: \"\\00b7\"; padding: 0 .5ex}\n",
       "</style>\n",
       "<ol class=list-inline><li>'5 3'</li><li>'5 3'</li><li>'5 2'</li><li>'5 1'</li><li>'5 1'</li><li>'n/a'</li></ol>\n"
      ],
      "text/latex": [
       "\\begin{enumerate*}\n",
       "\\item '5 3'\n",
       "\\item '5 3'\n",
       "\\item '5 2'\n",
       "\\item '5 1'\n",
       "\\item '5 1'\n",
       "\\item 'n/a'\n",
       "\\end{enumerate*}\n"
      ],
      "text/markdown": [
       "1. '5 3'\n",
       "2. '5 3'\n",
       "3. '5 2'\n",
       "4. '5 1'\n",
       "5. '5 1'\n",
       "6. 'n/a'\n",
       "\n",
       "\n"
      ],
      "text/plain": [
       "[1] \"5 3\" \"5 3\" \"5 2\" \"5 1\" \"5 1\" \"n/a\""
      ]
     },
     "metadata": {},
     "output_type": "display_data"
    }
   ],
   "source": [
    "tail(freedom$world_score)"
   ]
  },
  {
   "cell_type": "markdown",
   "metadata": {},
   "source": [
    "Sometimes, it is better to get the character that can split the cell:"
   ]
  },
  {
   "cell_type": "code",
   "execution_count": 39,
   "metadata": {
    "colab": {
     "base_uri": "https://localhost:8080/",
     "height": 34
    },
    "id": "1wnEQus_Uc8A",
    "outputId": "a6ed4f81-9fb5-413a-d43e-7caf4d319bed"
   },
   "outputs": [
    {
     "data": {
      "text/html": [
       "' '"
      ],
      "text/latex": [
       "' '"
      ],
      "text/markdown": [
       "' '"
      ],
      "text/plain": [
       "[1] \" \""
      ]
     },
     "metadata": {},
     "output_type": "display_data"
    }
   ],
   "source": [
    "# find the separator\n",
    "separator=substr(freedom$world_score,2,2)[1]\n",
    "separator"
   ]
  },
  {
   "cell_type": "markdown",
   "metadata": {},
   "source": [
    "Let's see how it works:"
   ]
  },
  {
   "cell_type": "code",
   "execution_count": 41,
   "metadata": {},
   "outputs": [
    {
     "data": {
      "text/html": [
       "<ol>\n",
       "\t<li><style>\n",
       ".list-inline {list-style: none; margin:0; padding: 0}\n",
       ".list-inline>li {display: inline-block}\n",
       ".list-inline>li:not(:last-child)::after {content: \"\\00b7\"; padding: 0 .5ex}\n",
       "</style>\n",
       "<ol class=list-inline><li>'1'</li><li>'100'</li></ol>\n",
       "</li>\n",
       "\t<li><style>\n",
       ".list-inline {list-style: none; margin:0; padding: 0}\n",
       ".list-inline>li {display: inline-block}\n",
       ".list-inline>li:not(:last-child)::after {content: \"\\00b7\"; padding: 0 .5ex}\n",
       "</style>\n",
       "<ol class=list-inline><li>'1'</li><li>'99'</li></ol>\n",
       "</li>\n",
       "\t<li><style>\n",
       ".list-inline {list-style: none; margin:0; padding: 0}\n",
       ".list-inline>li {display: inline-block}\n",
       ".list-inline>li:not(:last-child)::after {content: \"\\00b7\"; padding: 0 .5ex}\n",
       "</style>\n",
       "<ol class=list-inline><li>'1'</li><li>'99'</li></ol>\n",
       "</li>\n",
       "\t<li><style>\n",
       ".list-inline {list-style: none; margin:0; padding: 0}\n",
       ".list-inline>li {display: inline-block}\n",
       ".list-inline>li:not(:last-child)::after {content: \"\\00b7\"; padding: 0 .5ex}\n",
       "</style>\n",
       "<ol class=list-inline><li>'1'</li><li>'98'</li></ol>\n",
       "</li>\n",
       "\t<li><style>\n",
       ".list-inline {list-style: none; margin:0; padding: 0}\n",
       ".list-inline>li {display: inline-block}\n",
       ".list-inline>li:not(:last-child)::after {content: \"\\00b7\"; padding: 0 .5ex}\n",
       "</style>\n",
       "<ol class=list-inline><li>'1'</li><li>'97'</li></ol>\n",
       "</li>\n",
       "\t<li><style>\n",
       ".list-inline {list-style: none; margin:0; padding: 0}\n",
       ".list-inline>li {display: inline-block}\n",
       ".list-inline>li:not(:last-child)::after {content: \"\\00b7\"; padding: 0 .5ex}\n",
       "</style>\n",
       "<ol class=list-inline><li>'1'</li><li>'97'</li></ol>\n",
       "</li>\n",
       "</ol>\n"
      ],
      "text/latex": [
       "\\begin{enumerate}\n",
       "\\item \\begin{enumerate*}\n",
       "\\item '1'\n",
       "\\item '100'\n",
       "\\end{enumerate*}\n",
       "\n",
       "\\item \\begin{enumerate*}\n",
       "\\item '1'\n",
       "\\item '99'\n",
       "\\end{enumerate*}\n",
       "\n",
       "\\item \\begin{enumerate*}\n",
       "\\item '1'\n",
       "\\item '99'\n",
       "\\end{enumerate*}\n",
       "\n",
       "\\item \\begin{enumerate*}\n",
       "\\item '1'\n",
       "\\item '98'\n",
       "\\end{enumerate*}\n",
       "\n",
       "\\item \\begin{enumerate*}\n",
       "\\item '1'\n",
       "\\item '97'\n",
       "\\end{enumerate*}\n",
       "\n",
       "\\item \\begin{enumerate*}\n",
       "\\item '1'\n",
       "\\item '97'\n",
       "\\end{enumerate*}\n",
       "\n",
       "\\end{enumerate}\n"
      ],
      "text/markdown": [
       "1. 1. '1'\n",
       "2. '100'\n",
       "\n",
       "\n",
       "\n",
       "2. 1. '1'\n",
       "2. '99'\n",
       "\n",
       "\n",
       "\n",
       "3. 1. '1'\n",
       "2. '99'\n",
       "\n",
       "\n",
       "\n",
       "4. 1. '1'\n",
       "2. '98'\n",
       "\n",
       "\n",
       "\n",
       "5. 1. '1'\n",
       "2. '97'\n",
       "\n",
       "\n",
       "\n",
       "6. 1. '1'\n",
       "2. '97'\n",
       "\n",
       "\n",
       "\n",
       "\n",
       "\n"
      ],
      "text/plain": [
       "[[1]]\n",
       "[1] \"1\"   \"100\"\n",
       "\n",
       "[[2]]\n",
       "[1] \"1\"  \"99\"\n",
       "\n",
       "[[3]]\n",
       "[1] \"1\"  \"99\"\n",
       "\n",
       "[[4]]\n",
       "[1] \"1\"  \"98\"\n",
       "\n",
       "[[5]]\n",
       "[1] \"1\"  \"97\"\n",
       "\n",
       "[[6]]\n",
       "[1] \"1\"  \"97\"\n"
      ]
     },
     "metadata": {},
     "output_type": "display_data"
    }
   ],
   "source": [
    "# Applying strsplit to the second column of 'freedom'\n",
    "head(strsplit(freedom$world_score,split = separator))"
   ]
  },
  {
   "cell_type": "code",
   "execution_count": 43,
   "metadata": {},
   "outputs": [
    {
     "data": {
      "text/html": [
       "<ol>\n",
       "\t<li><style>\n",
       ".list-inline {list-style: none; margin:0; padding: 0}\n",
       ".list-inline>li {display: inline-block}\n",
       ".list-inline>li:not(:last-child)::after {content: \"\\00b7\"; padding: 0 .5ex}\n",
       "</style>\n",
       "<ol class=list-inline><li>'5'</li><li>'3'</li></ol>\n",
       "</li>\n",
       "\t<li><style>\n",
       ".list-inline {list-style: none; margin:0; padding: 0}\n",
       ".list-inline>li {display: inline-block}\n",
       ".list-inline>li:not(:last-child)::after {content: \"\\00b7\"; padding: 0 .5ex}\n",
       "</style>\n",
       "<ol class=list-inline><li>'5'</li><li>'3'</li></ol>\n",
       "</li>\n",
       "\t<li><style>\n",
       ".list-inline {list-style: none; margin:0; padding: 0}\n",
       ".list-inline>li {display: inline-block}\n",
       ".list-inline>li:not(:last-child)::after {content: \"\\00b7\"; padding: 0 .5ex}\n",
       "</style>\n",
       "<ol class=list-inline><li>'5'</li><li>'2'</li></ol>\n",
       "</li>\n",
       "\t<li><style>\n",
       ".list-inline {list-style: none; margin:0; padding: 0}\n",
       ".list-inline>li {display: inline-block}\n",
       ".list-inline>li:not(:last-child)::after {content: \"\\00b7\"; padding: 0 .5ex}\n",
       "</style>\n",
       "<ol class=list-inline><li>'5'</li><li>'1'</li></ol>\n",
       "</li>\n",
       "\t<li><style>\n",
       ".list-inline {list-style: none; margin:0; padding: 0}\n",
       ".list-inline>li {display: inline-block}\n",
       ".list-inline>li:not(:last-child)::after {content: \"\\00b7\"; padding: 0 .5ex}\n",
       "</style>\n",
       "<ol class=list-inline><li>'5'</li><li>'1'</li></ol>\n",
       "</li>\n",
       "\t<li>'n/a'</li>\n",
       "</ol>\n"
      ],
      "text/latex": [
       "\\begin{enumerate}\n",
       "\\item \\begin{enumerate*}\n",
       "\\item '5'\n",
       "\\item '3'\n",
       "\\end{enumerate*}\n",
       "\n",
       "\\item \\begin{enumerate*}\n",
       "\\item '5'\n",
       "\\item '3'\n",
       "\\end{enumerate*}\n",
       "\n",
       "\\item \\begin{enumerate*}\n",
       "\\item '5'\n",
       "\\item '2'\n",
       "\\end{enumerate*}\n",
       "\n",
       "\\item \\begin{enumerate*}\n",
       "\\item '5'\n",
       "\\item '1'\n",
       "\\end{enumerate*}\n",
       "\n",
       "\\item \\begin{enumerate*}\n",
       "\\item '5'\n",
       "\\item '1'\n",
       "\\end{enumerate*}\n",
       "\n",
       "\\item 'n/a'\n",
       "\\end{enumerate}\n"
      ],
      "text/markdown": [
       "1. 1. '5'\n",
       "2. '3'\n",
       "\n",
       "\n",
       "\n",
       "2. 1. '5'\n",
       "2. '3'\n",
       "\n",
       "\n",
       "\n",
       "3. 1. '5'\n",
       "2. '2'\n",
       "\n",
       "\n",
       "\n",
       "4. 1. '5'\n",
       "2. '1'\n",
       "\n",
       "\n",
       "\n",
       "5. 1. '5'\n",
       "2. '1'\n",
       "\n",
       "\n",
       "\n",
       "6. 'n/a'\n",
       "\n",
       "\n"
      ],
      "text/plain": [
       "[[1]]\n",
       "[1] \"5\" \"3\"\n",
       "\n",
       "[[2]]\n",
       "[1] \"5\" \"3\"\n",
       "\n",
       "[[3]]\n",
       "[1] \"5\" \"2\"\n",
       "\n",
       "[[4]]\n",
       "[1] \"5\" \"1\"\n",
       "\n",
       "[[5]]\n",
       "[1] \"5\" \"1\"\n",
       "\n",
       "[[6]]\n",
       "[1] \"n/a\"\n"
      ]
     },
     "metadata": {},
     "output_type": "display_data"
    }
   ],
   "source": [
    "tail(strsplit(freedom$world_score,split = separator))"
   ]
  },
  {
   "cell_type": "markdown",
   "metadata": {},
   "source": [
    "Let's create two columns:"
   ]
  },
  {
   "cell_type": "code",
   "execution_count": 49,
   "metadata": {},
   "outputs": [],
   "source": [
    "resultSplitIn2=strsplit(freedom$world_score,split = separator)"
   ]
  },
  {
   "cell_type": "code",
   "execution_count": 50,
   "metadata": {},
   "outputs": [
    {
     "name": "stderr",
     "output_type": "stream",
     "text": [
      "Warning message in matrix(unlist(resultSplitIn2), ncol = 2, byrow = T):\n",
      "“data length [393] is not a sub-multiple or multiple of the number of rows [197]”\n"
     ]
    }
   ],
   "source": [
    "# use result (resultSplitIn2), unlist it, and turn it into a matrix\n",
    "freedom[,c('world_level','world_score')]=matrix(unlist(resultSplitIn2),ncol=2,byrow=T)"
   ]
  },
  {
   "cell_type": "markdown",
   "metadata": {},
   "source": [
    "Let's check"
   ]
  },
  {
   "cell_type": "code",
   "execution_count": 51,
   "metadata": {},
   "outputs": [
    {
     "data": {
      "text/html": [
       "<table class=\"dataframe\">\n",
       "<caption>A data.frame: 6 × 9</caption>\n",
       "<thead>\n",
       "\t<tr><th></th><th scope=col>country</th><th scope=col>world_score</th><th scope=col>economic_level</th><th scope=col>economic_score</th><th scope=col>press_level</th><th scope=col>press_score</th><th scope=col>democracy_level</th><th scope=col>democracy_score</th><th scope=col>world_level</th></tr>\n",
       "\t<tr><th></th><th scope=col>&lt;chr&gt;</th><th scope=col>&lt;chr&gt;</th><th scope=col>&lt;chr&gt;</th><th scope=col>&lt;chr&gt;</th><th scope=col>&lt;chr&gt;</th><th scope=col>&lt;chr&gt;</th><th scope=col>&lt;chr&gt;</th><th scope=col>&lt;chr&gt;</th><th scope=col>&lt;chr&gt;</th></tr>\n",
       "</thead>\n",
       "<tbody>\n",
       "\t<tr><th scope=row>1</th><td> Finland    </td><td>100</td><td>2 mostly free</td><td>76.3</td><td>1 good        </td><td>87.94</td><td>1 full democracy</td><td>9.30</td><td>1</td></tr>\n",
       "\t<tr><th scope=row>2</th><td> New Zealand</td><td>99 </td><td>2 mostly free</td><td>77.8</td><td>2 satisfactory</td><td>84.23</td><td>1 full democracy</td><td>9.61</td><td>1</td></tr>\n",
       "\t<tr><th scope=row>3</th><td> Sweden     </td><td>99 </td><td>2 mostly free</td><td>77.5</td><td>1 good        </td><td>88.15</td><td>1 full democracy</td><td>9.39</td><td>1</td></tr>\n",
       "\t<tr><th scope=row>4</th><td> Norway     </td><td>98 </td><td>2 mostly free</td><td>77.5</td><td>1 good        </td><td>95.18</td><td>1 full democracy</td><td>9.81</td><td>1</td></tr>\n",
       "\t<tr><th scope=row>5</th><td> Canada     </td><td>97 </td><td>2 mostly free</td><td>72.4</td><td>2 satisfactory</td><td>83.53</td><td>1 full democracy</td><td>8.69</td><td>1</td></tr>\n",
       "\t<tr><th scope=row>6</th><td> Denmark    </td><td>97 </td><td>2 mostly free</td><td>77.8</td><td>1 good        </td><td>89.48</td><td>1 full democracy</td><td>9.28</td><td>1</td></tr>\n",
       "</tbody>\n",
       "</table>\n"
      ],
      "text/latex": [
       "A data.frame: 6 × 9\n",
       "\\begin{tabular}{r|lllllllll}\n",
       "  & country & world\\_score & economic\\_level & economic\\_score & press\\_level & press\\_score & democracy\\_level & democracy\\_score & world\\_level\\\\\n",
       "  & <chr> & <chr> & <chr> & <chr> & <chr> & <chr> & <chr> & <chr> & <chr>\\\\\n",
       "\\hline\n",
       "\t1 &  Finland     & 100 & 2 mostly free & 76.3 & 1 good         & 87.94 & 1 full democracy & 9.30 & 1\\\\\n",
       "\t2 &  New Zealand & 99  & 2 mostly free & 77.8 & 2 satisfactory & 84.23 & 1 full democracy & 9.61 & 1\\\\\n",
       "\t3 &  Sweden      & 99  & 2 mostly free & 77.5 & 1 good         & 88.15 & 1 full democracy & 9.39 & 1\\\\\n",
       "\t4 &  Norway      & 98  & 2 mostly free & 77.5 & 1 good         & 95.18 & 1 full democracy & 9.81 & 1\\\\\n",
       "\t5 &  Canada      & 97  & 2 mostly free & 72.4 & 2 satisfactory & 83.53 & 1 full democracy & 8.69 & 1\\\\\n",
       "\t6 &  Denmark     & 97  & 2 mostly free & 77.8 & 1 good         & 89.48 & 1 full democracy & 9.28 & 1\\\\\n",
       "\\end{tabular}\n"
      ],
      "text/markdown": [
       "\n",
       "A data.frame: 6 × 9\n",
       "\n",
       "| <!--/--> | country &lt;chr&gt; | world_score &lt;chr&gt; | economic_level &lt;chr&gt; | economic_score &lt;chr&gt; | press_level &lt;chr&gt; | press_score &lt;chr&gt; | democracy_level &lt;chr&gt; | democracy_score &lt;chr&gt; | world_level &lt;chr&gt; |\n",
       "|---|---|---|---|---|---|---|---|---|---|\n",
       "| 1 |  Finland     | 100 | 2 mostly free | 76.3 | 1 good         | 87.94 | 1 full democracy | 9.30 | 1 |\n",
       "| 2 |  New Zealand | 99  | 2 mostly free | 77.8 | 2 satisfactory | 84.23 | 1 full democracy | 9.61 | 1 |\n",
       "| 3 |  Sweden      | 99  | 2 mostly free | 77.5 | 1 good         | 88.15 | 1 full democracy | 9.39 | 1 |\n",
       "| 4 |  Norway      | 98  | 2 mostly free | 77.5 | 1 good         | 95.18 | 1 full democracy | 9.81 | 1 |\n",
       "| 5 |  Canada      | 97  | 2 mostly free | 72.4 | 2 satisfactory | 83.53 | 1 full democracy | 8.69 | 1 |\n",
       "| 6 |  Denmark     | 97  | 2 mostly free | 77.8 | 1 good         | 89.48 | 1 full democracy | 9.28 | 1 |\n",
       "\n"
      ],
      "text/plain": [
       "  country      world_score economic_level economic_score press_level   \n",
       "1  Finland     100         2 mostly free  76.3           1 good        \n",
       "2  New Zealand 99          2 mostly free  77.8           2 satisfactory\n",
       "3  Sweden      99          2 mostly free  77.5           1 good        \n",
       "4  Norway      98          2 mostly free  77.5           1 good        \n",
       "5  Canada      97          2 mostly free  72.4           2 satisfactory\n",
       "6  Denmark     97          2 mostly free  77.8           1 good        \n",
       "  press_score democracy_level  democracy_score world_level\n",
       "1 87.94       1 full democracy 9.30            1          \n",
       "2 84.23       1 full democracy 9.61            1          \n",
       "3 88.15       1 full democracy 9.39            1          \n",
       "4 95.18       1 full democracy 9.81            1          \n",
       "5 83.53       1 full democracy 8.69            1          \n",
       "6 89.48       1 full democracy 9.28            1          "
      ]
     },
     "metadata": {},
     "output_type": "display_data"
    }
   ],
   "source": [
    "head(freedom)"
   ]
  },
  {
   "cell_type": "code",
   "execution_count": 52,
   "metadata": {},
   "outputs": [
    {
     "data": {
      "text/html": [
       "<table class=\"dataframe\">\n",
       "<caption>A data.frame: 6 × 9</caption>\n",
       "<thead>\n",
       "\t<tr><th></th><th scope=col>country</th><th scope=col>world_score</th><th scope=col>economic_level</th><th scope=col>economic_score</th><th scope=col>press_level</th><th scope=col>press_score</th><th scope=col>democracy_level</th><th scope=col>democracy_score</th><th scope=col>world_level</th></tr>\n",
       "\t<tr><th></th><th scope=col>&lt;chr&gt;</th><th scope=col>&lt;chr&gt;</th><th scope=col>&lt;chr&gt;</th><th scope=col>&lt;chr&gt;</th><th scope=col>&lt;chr&gt;</th><th scope=col>&lt;chr&gt;</th><th scope=col>&lt;chr&gt;</th><th scope=col>&lt;chr&gt;</th><th scope=col>&lt;chr&gt;</th></tr>\n",
       "</thead>\n",
       "<tbody>\n",
       "\t<tr><th scope=row>192</th><td> Eritrea     </td><td>3</td><td>5 repressed</td><td>39.5</td><td>5 very serious</td><td>27.86</td><td>5 authoritarian</td><td>1.97</td><td>5  </td></tr>\n",
       "\t<tr><th scope=row>193</th><td> North Korea </td><td>3</td><td>5 repressed</td><td>2.9 </td><td>5 very serious</td><td>21.72</td><td>5 authoritarian</td><td>1.08</td><td>5  </td></tr>\n",
       "\t<tr><th scope=row>194</th><td> Turkmenistan</td><td>2</td><td>5 repressed</td><td>46.3</td><td>5 very serious</td><td>25.82</td><td>5 authoritarian</td><td>1.66</td><td>5  </td></tr>\n",
       "\t<tr><th scope=row>195</th><td> South Sudan </td><td>1</td><td>n/a        </td><td>â€” </td><td>4 difficult   </td><td>50.62</td><td>n/a            </td><td>â€” </td><td>5  </td></tr>\n",
       "\t<tr><th scope=row>196</th><td> Syria       </td><td>1</td><td>n/a        </td><td>â€” </td><td>5 very serious</td><td>27.22</td><td>5 authoritarian</td><td>1.43</td><td>5  </td></tr>\n",
       "\t<tr><th scope=row>197</th><td> Palestine   </td><td>1</td><td>n/a        </td><td>â€” </td><td>5 very serious</td><td>37.86</td><td>5 authoritarian</td><td>3.47</td><td>n/a</td></tr>\n",
       "</tbody>\n",
       "</table>\n"
      ],
      "text/latex": [
       "A data.frame: 6 × 9\n",
       "\\begin{tabular}{r|lllllllll}\n",
       "  & country & world\\_score & economic\\_level & economic\\_score & press\\_level & press\\_score & democracy\\_level & democracy\\_score & world\\_level\\\\\n",
       "  & <chr> & <chr> & <chr> & <chr> & <chr> & <chr> & <chr> & <chr> & <chr>\\\\\n",
       "\\hline\n",
       "\t192 &  Eritrea      & 3 & 5 repressed & 39.5 & 5 very serious & 27.86 & 5 authoritarian & 1.97 & 5  \\\\\n",
       "\t193 &  North Korea  & 3 & 5 repressed & 2.9  & 5 very serious & 21.72 & 5 authoritarian & 1.08 & 5  \\\\\n",
       "\t194 &  Turkmenistan & 2 & 5 repressed & 46.3 & 5 very serious & 25.82 & 5 authoritarian & 1.66 & 5  \\\\\n",
       "\t195 &  South Sudan  & 1 & n/a         & â€”  & 4 difficult    & 50.62 & n/a             & â€”  & 5  \\\\\n",
       "\t196 &  Syria        & 1 & n/a         & â€”  & 5 very serious & 27.22 & 5 authoritarian & 1.43 & 5  \\\\\n",
       "\t197 &  Palestine    & 1 & n/a         & â€”  & 5 very serious & 37.86 & 5 authoritarian & 3.47 & n/a\\\\\n",
       "\\end{tabular}\n"
      ],
      "text/markdown": [
       "\n",
       "A data.frame: 6 × 9\n",
       "\n",
       "| <!--/--> | country &lt;chr&gt; | world_score &lt;chr&gt; | economic_level &lt;chr&gt; | economic_score &lt;chr&gt; | press_level &lt;chr&gt; | press_score &lt;chr&gt; | democracy_level &lt;chr&gt; | democracy_score &lt;chr&gt; | world_level &lt;chr&gt; |\n",
       "|---|---|---|---|---|---|---|---|---|---|\n",
       "| 192 |  Eritrea      | 3 | 5 repressed | 39.5 | 5 very serious | 27.86 | 5 authoritarian | 1.97 | 5   |\n",
       "| 193 |  North Korea  | 3 | 5 repressed | 2.9  | 5 very serious | 21.72 | 5 authoritarian | 1.08 | 5   |\n",
       "| 194 |  Turkmenistan | 2 | 5 repressed | 46.3 | 5 very serious | 25.82 | 5 authoritarian | 1.66 | 5   |\n",
       "| 195 |  South Sudan  | 1 | n/a         | â€”  | 4 difficult    | 50.62 | n/a             | â€”  | 5   |\n",
       "| 196 |  Syria        | 1 | n/a         | â€”  | 5 very serious | 27.22 | 5 authoritarian | 1.43 | 5   |\n",
       "| 197 |  Palestine    | 1 | n/a         | â€”  | 5 very serious | 37.86 | 5 authoritarian | 3.47 | n/a |\n",
       "\n"
      ],
      "text/plain": [
       "    country       world_score economic_level economic_score press_level   \n",
       "192  Eritrea      3           5 repressed    39.5           5 very serious\n",
       "193  North Korea  3           5 repressed    2.9            5 very serious\n",
       "194  Turkmenistan 2           5 repressed    46.3           5 very serious\n",
       "195  South Sudan  1           n/a            â€”            4 difficult   \n",
       "196  Syria        1           n/a            â€”            5 very serious\n",
       "197  Palestine    1           n/a            â€”            5 very serious\n",
       "    press_score democracy_level democracy_score world_level\n",
       "192 27.86       5 authoritarian 1.97            5          \n",
       "193 21.72       5 authoritarian 1.08            5          \n",
       "194 25.82       5 authoritarian 1.66            5          \n",
       "195 50.62       n/a             â€”             5          \n",
       "196 27.22       5 authoritarian 1.43            5          \n",
       "197 37.86       5 authoritarian 3.47            n/a        "
      ]
     },
     "metadata": {},
     "output_type": "display_data"
    }
   ],
   "source": [
    "tail(freedom)"
   ]
  },
  {
   "cell_type": "code",
   "execution_count": 53,
   "metadata": {
    "colab": {
     "base_uri": "https://localhost:8080/",
     "height": 286
    },
    "id": "plZT5GT1Njc_",
    "outputId": "ba45027b-6469-4e5c-87c2-757e981fc03e"
   },
   "outputs": [],
   "source": [
    "### alternatively\n",
    "\n",
    "# library(stringr)\n",
    "# freedom[,c('world_level','world_score')]=str_split_fixed(freedom$world_score,separator, n=2)"
   ]
  },
  {
   "cell_type": "markdown",
   "metadata": {
    "id": "x27pLbTYYFSy"
   },
   "source": [
    "Let me check the *world_level*:"
   ]
  },
  {
   "cell_type": "code",
   "execution_count": 54,
   "metadata": {
    "colab": {
     "base_uri": "https://localhost:8080/",
     "height": 71
    },
    "id": "MLlwCAiHYJ4U",
    "outputId": "b7d592aa-9bf9-46df-d01c-57ea3795066e"
   },
   "outputs": [
    {
     "data": {
      "text/plain": [
       "\n",
       "   1    3    5  n/a <NA> \n",
       "  83   56   57    1    0 "
      ]
     },
     "metadata": {},
     "output_type": "display_data"
    }
   ],
   "source": [
    "table(freedom$world_level,useNA = 'always')"
   ]
  },
  {
   "cell_type": "markdown",
   "metadata": {},
   "source": [
    "We will solve that bad missing in the next step.\n",
    "\n",
    "**2. Do preventive cleaning in columns with text**\n",
    "\n",
    "Here, we get rid of trailing/leading spaces in cells with strings"
   ]
  },
  {
   "cell_type": "code",
   "execution_count": 55,
   "metadata": {},
   "outputs": [
    {
     "data": {
      "text/html": [
       "<style>\n",
       ".list-inline {list-style: none; margin:0; padding: 0}\n",
       ".list-inline>li {display: inline-block}\n",
       ".list-inline>li:not(:last-child)::after {content: \"\\00b7\"; padding: 0 .5ex}\n",
       "</style>\n",
       "<ol class=list-inline><li>1</li><li>3</li><li>5</li><li>7</li><li>9</li></ol>\n"
      ],
      "text/latex": [
       "\\begin{enumerate*}\n",
       "\\item 1\n",
       "\\item 3\n",
       "\\item 5\n",
       "\\item 7\n",
       "\\item 9\n",
       "\\end{enumerate*}\n"
      ],
      "text/markdown": [
       "1. 1\n",
       "2. 3\n",
       "3. 5\n",
       "4. 7\n",
       "5. 9\n",
       "\n",
       "\n"
      ],
      "text/plain": [
       "[1] 1 3 5 7 9"
      ]
     },
     "metadata": {},
     "output_type": "display_data"
    }
   ],
   "source": [
    "allTextCols=c(1,grep('level',names(freedom)))\n",
    "allTextCols"
   ]
  },
  {
   "cell_type": "code",
   "execution_count": 56,
   "metadata": {
    "colab": {
     "base_uri": "https://localhost:8080/",
     "height": 286
    },
    "id": "VvGJWf7z1VW6",
    "outputId": "fee2dbfc-d23a-40d4-bc65-ee6868c458a2"
   },
   "outputs": [
    {
     "data": {
      "text/html": [
       "<table class=\"dataframe\">\n",
       "<caption>A data.frame: 6 × 5</caption>\n",
       "<thead>\n",
       "\t<tr><th></th><th scope=col>country</th><th scope=col>economic_level</th><th scope=col>press_level</th><th scope=col>democracy_level</th><th scope=col>world_level</th></tr>\n",
       "\t<tr><th></th><th scope=col>&lt;chr&gt;</th><th scope=col>&lt;chr&gt;</th><th scope=col>&lt;chr&gt;</th><th scope=col>&lt;chr&gt;</th><th scope=col>&lt;chr&gt;</th></tr>\n",
       "</thead>\n",
       "<tbody>\n",
       "\t<tr><th scope=row>1</th><td> Finland    </td><td>2 mostly free</td><td>1 good        </td><td>1 full democracy</td><td>1</td></tr>\n",
       "\t<tr><th scope=row>2</th><td> New Zealand</td><td>2 mostly free</td><td>2 satisfactory</td><td>1 full democracy</td><td>1</td></tr>\n",
       "\t<tr><th scope=row>3</th><td> Sweden     </td><td>2 mostly free</td><td>1 good        </td><td>1 full democracy</td><td>1</td></tr>\n",
       "\t<tr><th scope=row>4</th><td> Norway     </td><td>2 mostly free</td><td>1 good        </td><td>1 full democracy</td><td>1</td></tr>\n",
       "\t<tr><th scope=row>5</th><td> Canada     </td><td>2 mostly free</td><td>2 satisfactory</td><td>1 full democracy</td><td>1</td></tr>\n",
       "\t<tr><th scope=row>6</th><td> Denmark    </td><td>2 mostly free</td><td>1 good        </td><td>1 full democracy</td><td>1</td></tr>\n",
       "</tbody>\n",
       "</table>\n"
      ],
      "text/latex": [
       "A data.frame: 6 × 5\n",
       "\\begin{tabular}{r|lllll}\n",
       "  & country & economic\\_level & press\\_level & democracy\\_level & world\\_level\\\\\n",
       "  & <chr> & <chr> & <chr> & <chr> & <chr>\\\\\n",
       "\\hline\n",
       "\t1 &  Finland     & 2 mostly free & 1 good         & 1 full democracy & 1\\\\\n",
       "\t2 &  New Zealand & 2 mostly free & 2 satisfactory & 1 full democracy & 1\\\\\n",
       "\t3 &  Sweden      & 2 mostly free & 1 good         & 1 full democracy & 1\\\\\n",
       "\t4 &  Norway      & 2 mostly free & 1 good         & 1 full democracy & 1\\\\\n",
       "\t5 &  Canada      & 2 mostly free & 2 satisfactory & 1 full democracy & 1\\\\\n",
       "\t6 &  Denmark     & 2 mostly free & 1 good         & 1 full democracy & 1\\\\\n",
       "\\end{tabular}\n"
      ],
      "text/markdown": [
       "\n",
       "A data.frame: 6 × 5\n",
       "\n",
       "| <!--/--> | country &lt;chr&gt; | economic_level &lt;chr&gt; | press_level &lt;chr&gt; | democracy_level &lt;chr&gt; | world_level &lt;chr&gt; |\n",
       "|---|---|---|---|---|---|\n",
       "| 1 |  Finland     | 2 mostly free | 1 good         | 1 full democracy | 1 |\n",
       "| 2 |  New Zealand | 2 mostly free | 2 satisfactory | 1 full democracy | 1 |\n",
       "| 3 |  Sweden      | 2 mostly free | 1 good         | 1 full democracy | 1 |\n",
       "| 4 |  Norway      | 2 mostly free | 1 good         | 1 full democracy | 1 |\n",
       "| 5 |  Canada      | 2 mostly free | 2 satisfactory | 1 full democracy | 1 |\n",
       "| 6 |  Denmark     | 2 mostly free | 1 good         | 1 full democracy | 1 |\n",
       "\n"
      ],
      "text/plain": [
       "  country      economic_level press_level    democracy_level  world_level\n",
       "1  Finland     2 mostly free  1 good         1 full democracy 1          \n",
       "2  New Zealand 2 mostly free  2 satisfactory 1 full democracy 1          \n",
       "3  Sweden      2 mostly free  1 good         1 full democracy 1          \n",
       "4  Norway      2 mostly free  1 good         1 full democracy 1          \n",
       "5  Canada      2 mostly free  2 satisfactory 1 full democracy 1          \n",
       "6  Denmark     2 mostly free  1 good         1 full democracy 1          "
      ]
     },
     "metadata": {},
     "output_type": "display_data"
    }
   ],
   "source": [
    "# all the columns with text\n",
    "head(freedom[,allTextCols])"
   ]
  },
  {
   "cell_type": "code",
   "execution_count": 57,
   "metadata": {
    "id": "D93XxO_608Xw"
   },
   "outputs": [],
   "source": [
    "# preventive cleaning\n",
    "\n",
    "freedom[,allTextCols]=sapply(freedom[,allTextCols],trimws,whitespace = \"[\\\\h\\\\v]\")"
   ]
  },
  {
   "cell_type": "markdown",
   "metadata": {
    "id": "V1slbNyV08Xw"
   },
   "source": [
    "**3. Verify the levels of categorical values have no mistypings**"
   ]
  },
  {
   "cell_type": "code",
   "execution_count": 58,
   "metadata": {
    "colab": {
     "base_uri": "https://localhost:8080/",
     "height": 374
    },
    "id": "5vy0uIYW08Xw",
    "outputId": "a8822677-adf8-4c01-c24c-27bc144da240"
   },
   "outputs": [
    {
     "data": {
      "text/plain": [
       "$economic_level\n",
       "\n",
       "           1 free     2 mostly free 3 moderately free   4 mostly unfree \n",
       "                4                22                55                62 \n",
       "      5 repressed     mostly unfree               n/a              <NA> \n",
       "               33                 1                20                 0 \n",
       "\n",
       "$press_level\n",
       "\n",
       "        1 good 2 satisfactory  3 problematic    4 difficult 5 very serious \n",
       "             8             44             59             42             31 \n",
       "           n/a           <NA> \n",
       "            13              0 \n",
       "\n",
       "$democracy_level\n",
       "\n",
       "1 flawed democracy   1 full democracy    1full democracy 2 flawed democracy \n",
       "                 1                 21                  2                 50 \n",
       "   3 hybrid regime    5 authoritarian    5 hybrid regime                n/a \n",
       "                35                 57                  1                 30 \n",
       "              <NA> \n",
       "                 0 \n",
       "\n",
       "$world_level\n",
       "\n",
       "   1    3    5  n/a <NA> \n",
       "  83   56   57    1    0 \n"
      ]
     },
     "metadata": {},
     "output_type": "display_data"
    }
   ],
   "source": [
    "# just an exploration.\n",
    "\n",
    "allCatCols=grep('level',names(freedom))\n",
    "\n",
    "\n",
    "sapply(freedom[,allCatCols],table,useNA='always')"
   ]
  },
  {
   "cell_type": "markdown",
   "metadata": {
    "id": "FaALIitvBy7I"
   },
   "source": [
    "Notice there are two kind of issues:\n",
    "* The cell has has values poorly written\n",
    "* The whole cell value is wrong.\n",
    "\n",
    "Let's proceed:"
   ]
  },
  {
   "cell_type": "code",
   "execution_count": 60,
   "metadata": {},
   "outputs": [
    {
     "data": {
      "text/html": [
       "'1'"
      ],
      "text/latex": [
       "'1'"
      ],
      "text/markdown": [
       "'1'"
      ],
      "text/plain": [
       "[1] \"1\""
      ]
     },
     "metadata": {},
     "output_type": "display_data"
    }
   ],
   "source": [
    "freedom$world_level[1]"
   ]
  },
  {
   "cell_type": "code",
   "execution_count": 62,
   "metadata": {},
   "outputs": [
    {
     "data": {
      "text/html": [
       "<style>\n",
       ".list-inline {list-style: none; margin:0; padding: 0}\n",
       ".list-inline>li {display: inline-block}\n",
       ".list-inline>li:not(:last-child)::after {content: \"\\00b7\"; padding: 0 .5ex}\n",
       "</style>\n",
       "<ol class=list-inline><li>'1'</li><li>'1'</li><li>'1'</li><li>'1'</li><li>'1'</li><li>'1'</li><li>'1'</li><li>'1'</li><li>'1'</li><li>'1'</li><li>'1'</li><li>'1'</li><li>'1'</li><li>'1'</li><li>'1'</li><li>'1'</li><li>'1'</li><li>'1'</li><li>'1'</li><li>'1'</li><li>'1'</li><li>'1'</li><li>'1'</li><li>'1'</li><li>'1'</li><li>'1'</li><li>'1'</li><li>'1'</li><li>'1'</li><li>'1'</li><li>'1'</li><li>'1'</li><li>'1'</li><li>'1'</li><li>'1'</li><li>'1'</li><li>'1'</li><li>'1'</li><li>'1'</li><li>'1'</li><li>'1'</li><li>'1'</li><li>'1'</li><li>'1'</li><li>'1'</li><li>'1'</li><li>'1'</li><li>'1'</li><li>'1'</li><li>'1'</li><li>'1'</li><li>'1'</li><li>'1'</li><li>'1'</li><li>'1'</li><li>'1'</li><li>'1'</li><li>'1'</li><li>'1'</li><li>'1'</li><li>'1'</li><li>'1'</li><li>'1'</li><li>'1'</li><li>'1'</li><li>'1'</li><li>'1'</li><li>'1'</li><li>'1'</li><li>'1'</li><li>'1'</li><li>'1'</li><li>'1'</li><li>'1'</li><li>'1'</li><li>'1'</li><li>'1'</li><li>'1'</li><li>'1'</li><li>'1'</li><li>'1'</li><li>'1'</li><li>'3'</li><li>'3'</li><li>'3'</li><li>'3'</li><li>'3'</li><li>'3'</li><li>'3'</li><li>'3'</li><li>'3'</li><li>'1'</li><li>'3'</li><li>'3'</li><li>'3'</li><li>'3'</li><li>'3'</li><li>'3'</li><li>'3'</li><li>'3'</li><li>'3'</li><li>'3'</li><li>'3'</li><li>'3'</li><li>'3'</li><li>'3'</li><li>'3'</li><li>'3'</li><li>'3'</li><li>'3'</li><li>'3'</li><li>'3'</li><li>'3'</li><li>'3'</li><li>'3'</li><li>'3'</li><li>'3'</li><li>'3'</li><li>'3'</li><li>'3'</li><li>'3'</li><li>'3'</li><li>'3'</li><li>'3'</li><li>'3'</li><li>'3'</li><li>'3'</li><li>'3'</li><li>'3'</li><li>'3'</li><li>'3'</li><li>'3'</li><li>'3'</li><li>'3'</li><li>'3'</li><li>'3'</li><li>'3'</li><li>'3'</li><li>'3'</li><li>'5'</li><li>'5'</li><li>'5'</li><li>'5'</li><li>'5'</li><li>'5'</li><li>'5'</li><li>'5'</li><li>'5'</li><li>'5'</li><li>'5'</li><li>'5'</li><li>'5'</li><li>'5'</li><li>'5'</li><li>'5'</li><li>'5'</li><li>'5'</li><li>'5'</li><li>'5'</li><li>'5'</li><li>'5'</li><li>'5'</li><li>'5'</li><li>'5'</li><li>'5'</li><li>'5'</li><li>'5'</li><li>'5'</li><li>'5'</li><li>'5'</li><li>'5'</li><li>'5'</li><li>'5'</li><li>'5'</li><li>'5'</li><li>'5'</li><li>'5'</li><li>'5'</li><li>'5'</li><li>'5'</li><li>'5'</li><li>'5'</li><li>'5'</li><li>'5'</li><li>'5'</li><li>'5'</li><li>'5'</li><li>'5'</li><li>'5'</li><li>'5'</li><li>'5'</li><li>'5'</li><li>'5'</li><li>'5'</li><li>'5'</li><li>'5'</li><li>'n/a'</li></ol>\n"
      ],
      "text/latex": [
       "\\begin{enumerate*}\n",
       "\\item '1'\n",
       "\\item '1'\n",
       "\\item '1'\n",
       "\\item '1'\n",
       "\\item '1'\n",
       "\\item '1'\n",
       "\\item '1'\n",
       "\\item '1'\n",
       "\\item '1'\n",
       "\\item '1'\n",
       "\\item '1'\n",
       "\\item '1'\n",
       "\\item '1'\n",
       "\\item '1'\n",
       "\\item '1'\n",
       "\\item '1'\n",
       "\\item '1'\n",
       "\\item '1'\n",
       "\\item '1'\n",
       "\\item '1'\n",
       "\\item '1'\n",
       "\\item '1'\n",
       "\\item '1'\n",
       "\\item '1'\n",
       "\\item '1'\n",
       "\\item '1'\n",
       "\\item '1'\n",
       "\\item '1'\n",
       "\\item '1'\n",
       "\\item '1'\n",
       "\\item '1'\n",
       "\\item '1'\n",
       "\\item '1'\n",
       "\\item '1'\n",
       "\\item '1'\n",
       "\\item '1'\n",
       "\\item '1'\n",
       "\\item '1'\n",
       "\\item '1'\n",
       "\\item '1'\n",
       "\\item '1'\n",
       "\\item '1'\n",
       "\\item '1'\n",
       "\\item '1'\n",
       "\\item '1'\n",
       "\\item '1'\n",
       "\\item '1'\n",
       "\\item '1'\n",
       "\\item '1'\n",
       "\\item '1'\n",
       "\\item '1'\n",
       "\\item '1'\n",
       "\\item '1'\n",
       "\\item '1'\n",
       "\\item '1'\n",
       "\\item '1'\n",
       "\\item '1'\n",
       "\\item '1'\n",
       "\\item '1'\n",
       "\\item '1'\n",
       "\\item '1'\n",
       "\\item '1'\n",
       "\\item '1'\n",
       "\\item '1'\n",
       "\\item '1'\n",
       "\\item '1'\n",
       "\\item '1'\n",
       "\\item '1'\n",
       "\\item '1'\n",
       "\\item '1'\n",
       "\\item '1'\n",
       "\\item '1'\n",
       "\\item '1'\n",
       "\\item '1'\n",
       "\\item '1'\n",
       "\\item '1'\n",
       "\\item '1'\n",
       "\\item '1'\n",
       "\\item '1'\n",
       "\\item '1'\n",
       "\\item '1'\n",
       "\\item '1'\n",
       "\\item '3'\n",
       "\\item '3'\n",
       "\\item '3'\n",
       "\\item '3'\n",
       "\\item '3'\n",
       "\\item '3'\n",
       "\\item '3'\n",
       "\\item '3'\n",
       "\\item '3'\n",
       "\\item '1'\n",
       "\\item '3'\n",
       "\\item '3'\n",
       "\\item '3'\n",
       "\\item '3'\n",
       "\\item '3'\n",
       "\\item '3'\n",
       "\\item '3'\n",
       "\\item '3'\n",
       "\\item '3'\n",
       "\\item '3'\n",
       "\\item '3'\n",
       "\\item '3'\n",
       "\\item '3'\n",
       "\\item '3'\n",
       "\\item '3'\n",
       "\\item '3'\n",
       "\\item '3'\n",
       "\\item '3'\n",
       "\\item '3'\n",
       "\\item '3'\n",
       "\\item '3'\n",
       "\\item '3'\n",
       "\\item '3'\n",
       "\\item '3'\n",
       "\\item '3'\n",
       "\\item '3'\n",
       "\\item '3'\n",
       "\\item '3'\n",
       "\\item '3'\n",
       "\\item '3'\n",
       "\\item '3'\n",
       "\\item '3'\n",
       "\\item '3'\n",
       "\\item '3'\n",
       "\\item '3'\n",
       "\\item '3'\n",
       "\\item '3'\n",
       "\\item '3'\n",
       "\\item '3'\n",
       "\\item '3'\n",
       "\\item '3'\n",
       "\\item '3'\n",
       "\\item '3'\n",
       "\\item '3'\n",
       "\\item '3'\n",
       "\\item '3'\n",
       "\\item '3'\n",
       "\\item '5'\n",
       "\\item '5'\n",
       "\\item '5'\n",
       "\\item '5'\n",
       "\\item '5'\n",
       "\\item '5'\n",
       "\\item '5'\n",
       "\\item '5'\n",
       "\\item '5'\n",
       "\\item '5'\n",
       "\\item '5'\n",
       "\\item '5'\n",
       "\\item '5'\n",
       "\\item '5'\n",
       "\\item '5'\n",
       "\\item '5'\n",
       "\\item '5'\n",
       "\\item '5'\n",
       "\\item '5'\n",
       "\\item '5'\n",
       "\\item '5'\n",
       "\\item '5'\n",
       "\\item '5'\n",
       "\\item '5'\n",
       "\\item '5'\n",
       "\\item '5'\n",
       "\\item '5'\n",
       "\\item '5'\n",
       "\\item '5'\n",
       "\\item '5'\n",
       "\\item '5'\n",
       "\\item '5'\n",
       "\\item '5'\n",
       "\\item '5'\n",
       "\\item '5'\n",
       "\\item '5'\n",
       "\\item '5'\n",
       "\\item '5'\n",
       "\\item '5'\n",
       "\\item '5'\n",
       "\\item '5'\n",
       "\\item '5'\n",
       "\\item '5'\n",
       "\\item '5'\n",
       "\\item '5'\n",
       "\\item '5'\n",
       "\\item '5'\n",
       "\\item '5'\n",
       "\\item '5'\n",
       "\\item '5'\n",
       "\\item '5'\n",
       "\\item '5'\n",
       "\\item '5'\n",
       "\\item '5'\n",
       "\\item '5'\n",
       "\\item '5'\n",
       "\\item '5'\n",
       "\\item 'n/a'\n",
       "\\end{enumerate*}\n"
      ],
      "text/markdown": [
       "1. '1'\n",
       "2. '1'\n",
       "3. '1'\n",
       "4. '1'\n",
       "5. '1'\n",
       "6. '1'\n",
       "7. '1'\n",
       "8. '1'\n",
       "9. '1'\n",
       "10. '1'\n",
       "11. '1'\n",
       "12. '1'\n",
       "13. '1'\n",
       "14. '1'\n",
       "15. '1'\n",
       "16. '1'\n",
       "17. '1'\n",
       "18. '1'\n",
       "19. '1'\n",
       "20. '1'\n",
       "21. '1'\n",
       "22. '1'\n",
       "23. '1'\n",
       "24. '1'\n",
       "25. '1'\n",
       "26. '1'\n",
       "27. '1'\n",
       "28. '1'\n",
       "29. '1'\n",
       "30. '1'\n",
       "31. '1'\n",
       "32. '1'\n",
       "33. '1'\n",
       "34. '1'\n",
       "35. '1'\n",
       "36. '1'\n",
       "37. '1'\n",
       "38. '1'\n",
       "39. '1'\n",
       "40. '1'\n",
       "41. '1'\n",
       "42. '1'\n",
       "43. '1'\n",
       "44. '1'\n",
       "45. '1'\n",
       "46. '1'\n",
       "47. '1'\n",
       "48. '1'\n",
       "49. '1'\n",
       "50. '1'\n",
       "51. '1'\n",
       "52. '1'\n",
       "53. '1'\n",
       "54. '1'\n",
       "55. '1'\n",
       "56. '1'\n",
       "57. '1'\n",
       "58. '1'\n",
       "59. '1'\n",
       "60. '1'\n",
       "61. '1'\n",
       "62. '1'\n",
       "63. '1'\n",
       "64. '1'\n",
       "65. '1'\n",
       "66. '1'\n",
       "67. '1'\n",
       "68. '1'\n",
       "69. '1'\n",
       "70. '1'\n",
       "71. '1'\n",
       "72. '1'\n",
       "73. '1'\n",
       "74. '1'\n",
       "75. '1'\n",
       "76. '1'\n",
       "77. '1'\n",
       "78. '1'\n",
       "79. '1'\n",
       "80. '1'\n",
       "81. '1'\n",
       "82. '1'\n",
       "83. '3'\n",
       "84. '3'\n",
       "85. '3'\n",
       "86. '3'\n",
       "87. '3'\n",
       "88. '3'\n",
       "89. '3'\n",
       "90. '3'\n",
       "91. '3'\n",
       "92. '1'\n",
       "93. '3'\n",
       "94. '3'\n",
       "95. '3'\n",
       "96. '3'\n",
       "97. '3'\n",
       "98. '3'\n",
       "99. '3'\n",
       "100. '3'\n",
       "101. '3'\n",
       "102. '3'\n",
       "103. '3'\n",
       "104. '3'\n",
       "105. '3'\n",
       "106. '3'\n",
       "107. '3'\n",
       "108. '3'\n",
       "109. '3'\n",
       "110. '3'\n",
       "111. '3'\n",
       "112. '3'\n",
       "113. '3'\n",
       "114. '3'\n",
       "115. '3'\n",
       "116. '3'\n",
       "117. '3'\n",
       "118. '3'\n",
       "119. '3'\n",
       "120. '3'\n",
       "121. '3'\n",
       "122. '3'\n",
       "123. '3'\n",
       "124. '3'\n",
       "125. '3'\n",
       "126. '3'\n",
       "127. '3'\n",
       "128. '3'\n",
       "129. '3'\n",
       "130. '3'\n",
       "131. '3'\n",
       "132. '3'\n",
       "133. '3'\n",
       "134. '3'\n",
       "135. '3'\n",
       "136. '3'\n",
       "137. '3'\n",
       "138. '3'\n",
       "139. '3'\n",
       "140. '5'\n",
       "141. '5'\n",
       "142. '5'\n",
       "143. '5'\n",
       "144. '5'\n",
       "145. '5'\n",
       "146. '5'\n",
       "147. '5'\n",
       "148. '5'\n",
       "149. '5'\n",
       "150. '5'\n",
       "151. '5'\n",
       "152. '5'\n",
       "153. '5'\n",
       "154. '5'\n",
       "155. '5'\n",
       "156. '5'\n",
       "157. '5'\n",
       "158. '5'\n",
       "159. '5'\n",
       "160. '5'\n",
       "161. '5'\n",
       "162. '5'\n",
       "163. '5'\n",
       "164. '5'\n",
       "165. '5'\n",
       "166. '5'\n",
       "167. '5'\n",
       "168. '5'\n",
       "169. '5'\n",
       "170. '5'\n",
       "171. '5'\n",
       "172. '5'\n",
       "173. '5'\n",
       "174. '5'\n",
       "175. '5'\n",
       "176. '5'\n",
       "177. '5'\n",
       "178. '5'\n",
       "179. '5'\n",
       "180. '5'\n",
       "181. '5'\n",
       "182. '5'\n",
       "183. '5'\n",
       "184. '5'\n",
       "185. '5'\n",
       "186. '5'\n",
       "187. '5'\n",
       "188. '5'\n",
       "189. '5'\n",
       "190. '5'\n",
       "191. '5'\n",
       "192. '5'\n",
       "193. '5'\n",
       "194. '5'\n",
       "195. '5'\n",
       "196. '5'\n",
       "197. 'n/a'\n",
       "\n",
       "\n"
      ],
      "text/plain": [
       "  [1] \"1\"   \"1\"   \"1\"   \"1\"   \"1\"   \"1\"   \"1\"   \"1\"   \"1\"   \"1\"   \"1\"   \"1\"  \n",
       " [13] \"1\"   \"1\"   \"1\"   \"1\"   \"1\"   \"1\"   \"1\"   \"1\"   \"1\"   \"1\"   \"1\"   \"1\"  \n",
       " [25] \"1\"   \"1\"   \"1\"   \"1\"   \"1\"   \"1\"   \"1\"   \"1\"   \"1\"   \"1\"   \"1\"   \"1\"  \n",
       " [37] \"1\"   \"1\"   \"1\"   \"1\"   \"1\"   \"1\"   \"1\"   \"1\"   \"1\"   \"1\"   \"1\"   \"1\"  \n",
       " [49] \"1\"   \"1\"   \"1\"   \"1\"   \"1\"   \"1\"   \"1\"   \"1\"   \"1\"   \"1\"   \"1\"   \"1\"  \n",
       " [61] \"1\"   \"1\"   \"1\"   \"1\"   \"1\"   \"1\"   \"1\"   \"1\"   \"1\"   \"1\"   \"1\"   \"1\"  \n",
       " [73] \"1\"   \"1\"   \"1\"   \"1\"   \"1\"   \"1\"   \"1\"   \"1\"   \"1\"   \"1\"   \"3\"   \"3\"  \n",
       " [85] \"3\"   \"3\"   \"3\"   \"3\"   \"3\"   \"3\"   \"3\"   \"1\"   \"3\"   \"3\"   \"3\"   \"3\"  \n",
       " [97] \"3\"   \"3\"   \"3\"   \"3\"   \"3\"   \"3\"   \"3\"   \"3\"   \"3\"   \"3\"   \"3\"   \"3\"  \n",
       "[109] \"3\"   \"3\"   \"3\"   \"3\"   \"3\"   \"3\"   \"3\"   \"3\"   \"3\"   \"3\"   \"3\"   \"3\"  \n",
       "[121] \"3\"   \"3\"   \"3\"   \"3\"   \"3\"   \"3\"   \"3\"   \"3\"   \"3\"   \"3\"   \"3\"   \"3\"  \n",
       "[133] \"3\"   \"3\"   \"3\"   \"3\"   \"3\"   \"3\"   \"3\"   \"5\"   \"5\"   \"5\"   \"5\"   \"5\"  \n",
       "[145] \"5\"   \"5\"   \"5\"   \"5\"   \"5\"   \"5\"   \"5\"   \"5\"   \"5\"   \"5\"   \"5\"   \"5\"  \n",
       "[157] \"5\"   \"5\"   \"5\"   \"5\"   \"5\"   \"5\"   \"5\"   \"5\"   \"5\"   \"5\"   \"5\"   \"5\"  \n",
       "[169] \"5\"   \"5\"   \"5\"   \"5\"   \"5\"   \"5\"   \"5\"   \"5\"   \"5\"   \"5\"   \"5\"   \"5\"  \n",
       "[181] \"5\"   \"5\"   \"5\"   \"5\"   \"5\"   \"5\"   \"5\"   \"5\"   \"5\"   \"5\"   \"5\"   \"5\"  \n",
       "[193] \"5\"   \"5\"   \"5\"   \"5\"   \"n/a\""
      ]
     },
     "metadata": {},
     "output_type": "display_data"
    }
   ],
   "source": [
    "# notice that you can not simply delete digits in all these columns, because you will alter \"World_level\"\n",
    "# so you need a particular regex\n",
    "gsub(\"\\\\d+\\\\s*(?=\\\\w+)\", \"\", freedom$world_level, perl = TRUE) # replace if the number is followed by text"
   ]
  },
  {
   "cell_type": "code",
   "execution_count": 63,
   "metadata": {
    "id": "jrdltWIPCBX_"
   },
   "outputs": [],
   "source": [
    "# changing PART of the cell poorly written\n",
    "\n",
    "byeNum=\"\\\\d+\\\\s*(?=\\\\w+)\" # good in case a space follows\n",
    "freedom[,allCatCols]=lapply(freedom[,allCatCols],function(col) gsub(byeNum, \"\", col,, perl = TRUE))"
   ]
  },
  {
   "cell_type": "markdown",
   "metadata": {
    "id": "alEhIs6ULt5t"
   },
   "source": [
    "Now the other issue, cells showing a wrong missing value representation:"
   ]
  },
  {
   "cell_type": "code",
   "execution_count": 64,
   "metadata": {
    "id": "tnc_xrCMLs8g"
   },
   "outputs": [],
   "source": [
    "BadMissing_cat=c('n/a')\n",
    "\n",
    "# create a function\n",
    "replaceto_NA_inColumn=function(column,badMissing) #input a column and the vector of bad missing\n",
    "                        ifelse((column %in% badMissing), NA, column) #change the content of the cell conditionally\n",
    "\n",
    "# apply the function to all categorical columns\n",
    "freedom[,allCatCols]=lapply(freedom[,allCatCols],replaceto_NA_inColumn,BadMissing_cat)"
   ]
  },
  {
   "cell_type": "markdown",
   "metadata": {
    "id": "Xi1IEbpCDBrs"
   },
   "source": [
    "Let's recheck:"
   ]
  },
  {
   "cell_type": "code",
   "execution_count": 65,
   "metadata": {
    "colab": {
     "base_uri": "https://localhost:8080/",
     "height": 338
    },
    "id": "PiYGcaOHDDqP",
    "outputId": "ec9660bb-13d7-4069-ff1e-cd5280c6cb78"
   },
   "outputs": [
    {
     "data": {
      "text/plain": [
       "$economic_level\n",
       "\n",
       "           free moderately free     mostly free   mostly unfree       repressed \n",
       "              4              55              22              63              33 \n",
       "           <NA> \n",
       "             20 \n",
       "\n",
       "$press_level\n",
       "\n",
       "   difficult         good  problematic satisfactory very serious         <NA> \n",
       "          42            8           59           44           31           13 \n",
       "\n",
       "$democracy_level\n",
       "\n",
       "   authoritarian flawed democracy   full democracy    hybrid regime \n",
       "              57               51               23               36 \n",
       "            <NA> \n",
       "              30 \n",
       "\n",
       "$world_level\n",
       "\n",
       "   1    3    5 <NA> \n",
       "  83   56   57    1 \n"
      ]
     },
     "metadata": {},
     "output_type": "display_data"
    }
   ],
   "source": [
    "sapply(freedom[,allCatCols],table,useNA='always')"
   ]
  },
  {
   "cell_type": "markdown",
   "metadata": {},
   "source": [
    "We should get rid of those spaces in the levels:"
   ]
  },
  {
   "cell_type": "code",
   "execution_count": 66,
   "metadata": {},
   "outputs": [],
   "source": [
    "byeNum=\"\\\\s\" \n",
    "freedom[,allCatCols]=lapply(freedom[,allCatCols],function(col) gsub(byeNum, \"_\", col,, perl = TRUE))"
   ]
  },
  {
   "cell_type": "markdown",
   "metadata": {
    "id": "2jGq_KcO08Xw"
   },
   "source": [
    "The categories are well written now.\n",
    "\n",
    "Let's do the fourth step; here, we see how the numeric columns are identified:"
   ]
  },
  {
   "cell_type": "code",
   "execution_count": 67,
   "metadata": {},
   "outputs": [
    {
     "data": {
      "text/html": [
       "<style>\n",
       ".list-inline {list-style: none; margin:0; padding: 0}\n",
       ".list-inline>li {display: inline-block}\n",
       ".list-inline>li:not(:last-child)::after {content: \"\\00b7\"; padding: 0 .5ex}\n",
       "</style>\n",
       "<ol class=list-inline><li>2</li><li>4</li><li>6</li><li>8</li></ol>\n"
      ],
      "text/latex": [
       "\\begin{enumerate*}\n",
       "\\item 2\n",
       "\\item 4\n",
       "\\item 6\n",
       "\\item 8\n",
       "\\end{enumerate*}\n"
      ],
      "text/markdown": [
       "1. 2\n",
       "2. 4\n",
       "3. 6\n",
       "4. 8\n",
       "\n",
       "\n"
      ],
      "text/plain": [
       "[1] 2 4 6 8"
      ]
     },
     "metadata": {},
     "output_type": "display_data"
    }
   ],
   "source": [
    "theNumericPosition=grep('score',names(freedom))\n",
    "theNumericPosition"
   ]
  },
  {
   "cell_type": "code",
   "execution_count": 68,
   "metadata": {
    "colab": {
     "base_uri": "https://localhost:8080/"
    },
    "id": "uugVzQmV08Xw",
    "outputId": "880a1163-e784-4ee8-9bd1-118a1723b4e3"
   },
   "outputs": [
    {
     "name": "stdout",
     "output_type": "stream",
     "text": [
      "'data.frame':\t197 obs. of  4 variables:\n",
      " $ world_score    : chr  \"100\" \"99\" \"99\" \"98\" ...\n",
      " $ economic_score : chr  \"76.3\" \"77.8\" \"77.5\" \"77.5\" ...\n",
      " $ press_score    : chr  \"87.94\" \"84.23\" \"88.15\" \"95.18\" ...\n",
      " $ democracy_score: chr  \"9.30\" \"9.61\" \"9.39\" \"9.81\" ...\n"
     ]
    }
   ],
   "source": [
    "str(freedom[,theNumericPosition])"
   ]
  },
  {
   "cell_type": "markdown",
   "metadata": {
    "id": "BbwCX-1e08Xw"
   },
   "source": [
    "Let's clean all the  column with scores (currently \"characters\"). \n",
    "\n",
    "Let's see the missing values:"
   ]
  },
  {
   "cell_type": "code",
   "execution_count": 69,
   "metadata": {},
   "outputs": [
    {
     "data": {
      "text/html": [
       "<table class=\"dataframe\">\n",
       "<caption>A data.frame: 0 × 9</caption>\n",
       "<thead>\n",
       "\t<tr><th scope=col>country</th><th scope=col>world_score</th><th scope=col>economic_level</th><th scope=col>economic_score</th><th scope=col>press_level</th><th scope=col>press_score</th><th scope=col>democracy_level</th><th scope=col>democracy_score</th><th scope=col>world_level</th></tr>\n",
       "\t<tr><th scope=col>&lt;chr&gt;</th><th scope=col>&lt;chr&gt;</th><th scope=col>&lt;chr&gt;</th><th scope=col>&lt;chr&gt;</th><th scope=col>&lt;chr&gt;</th><th scope=col>&lt;chr&gt;</th><th scope=col>&lt;chr&gt;</th><th scope=col>&lt;chr&gt;</th><th scope=col>&lt;chr&gt;</th></tr>\n",
       "</thead>\n",
       "<tbody>\n",
       "</tbody>\n",
       "</table>\n"
      ],
      "text/latex": [
       "A data.frame: 0 × 9\n",
       "\\begin{tabular}{lllllllll}\n",
       " country & world\\_score & economic\\_level & economic\\_score & press\\_level & press\\_score & democracy\\_level & democracy\\_score & world\\_level\\\\\n",
       " <chr> & <chr> & <chr> & <chr> & <chr> & <chr> & <chr> & <chr> & <chr>\\\\\n",
       "\\hline\n",
       "\\end{tabular}\n"
      ],
      "text/markdown": [
       "\n",
       "A data.frame: 0 × 9\n",
       "\n",
       "| country &lt;chr&gt; | world_score &lt;chr&gt; | economic_level &lt;chr&gt; | economic_score &lt;chr&gt; | press_level &lt;chr&gt; | press_score &lt;chr&gt; | democracy_level &lt;chr&gt; | democracy_score &lt;chr&gt; | world_level &lt;chr&gt; |\n",
       "|---|---|---|---|---|---|---|---|---|\n",
       "\n"
      ],
      "text/plain": [
       "     country world_score economic_level economic_score press_level press_score\n",
       "     democracy_level democracy_score world_level"
      ]
     },
     "metadata": {},
     "output_type": "display_data"
    }
   ],
   "source": [
    "freedom[!complete.cases(freedom[,theNumericPosition]),]"
   ]
  },
  {
   "cell_type": "markdown",
   "metadata": {},
   "source": [
    "As there are non-missing values, there can be cells using a different way to represent them. Let's see:"
   ]
  },
  {
   "cell_type": "code",
   "execution_count": 70,
   "metadata": {},
   "outputs": [
    {
     "data": {
      "text/html": [
       "<style>\n",
       ".list-inline {list-style: none; margin:0; padding: 0}\n",
       ".list-inline>li {display: inline-block}\n",
       ".list-inline>li:not(:last-child)::after {content: \"\\00b7\"; padding: 0 .5ex}\n",
       "</style>\n",
       "<ol class=list-inline><li>NA</li><li>NA</li><li>NA</li><li>NA</li><li>NA</li><li>NA</li><li>NA</li><li>NA</li><li>NA</li><li>'â€”'</li><li>NA</li><li>NA</li><li>NA</li><li>NA</li><li>NA</li><li>NA</li><li>NA</li><li>NA</li><li>NA</li><li>NA</li><li>NA</li><li>NA</li><li>NA</li><li>'â€”'</li><li>NA</li><li>NA</li><li>NA</li><li>'â€”'</li><li>'â€”'</li><li>NA</li><li>NA</li><li>NA</li><li>'â€”'</li><li>NA</li><li>NA</li><li>NA</li><li>NA</li><li>NA</li><li>NA</li><li>'â€”'</li><li>NA</li><li>NA</li><li>NA</li><li>NA</li><li>'â€”'</li><li>NA</li><li>'â€”'</li><li>NA</li><li>NA</li><li>NA</li><li>'â€”'</li><li>NA</li><li>NA</li><li>NA</li><li>NA</li><li>NA</li><li>NA</li><li>NA</li><li>NA</li><li>NA</li><li>NA</li><li>NA</li><li>'â€”'</li><li>NA</li><li>NA</li><li>NA</li><li>NA</li><li>NA</li><li>NA</li><li>NA</li><li>NA</li><li>NA</li><li>NA</li><li>NA</li><li>'â€”'</li><li>NA</li><li>NA</li><li>NA</li><li>NA</li><li>NA</li><li>NA</li><li>NA</li><li>NA</li><li>NA</li><li>NA</li><li>NA</li><li>NA</li><li>NA</li><li>NA</li><li>NA</li><li>NA</li><li>NA</li><li>NA</li><li>NA</li><li>NA</li><li>NA</li><li>NA</li><li>NA</li><li>NA</li><li>NA</li><li>NA</li><li>NA</li><li>NA</li><li>NA</li><li>NA</li><li>NA</li><li>NA</li><li>NA</li><li>NA</li><li>NA</li><li>NA</li><li>NA</li><li>NA</li><li>NA</li><li>NA</li><li>NA</li><li>NA</li><li>NA</li><li>NA</li><li>NA</li><li>'â€”'</li><li>NA</li><li>NA</li><li>NA</li><li>NA</li><li>NA</li><li>NA</li><li>NA</li><li>NA</li><li>NA</li><li>NA</li><li>'â€”'</li><li>NA</li><li>NA</li><li>NA</li><li>NA</li><li>NA</li><li>NA</li><li>NA</li><li>NA</li><li>NA</li><li>NA</li><li>NA</li><li>NA</li><li>NA</li><li>NA</li><li>'â€”'</li><li>NA</li><li>NA</li><li>NA</li><li>NA</li><li>NA</li><li>NA</li><li>NA</li><li>NA</li><li>NA</li><li>NA</li><li>NA</li><li>NA</li><li>NA</li><li>NA</li><li>NA</li><li>NA</li><li>NA</li><li>NA</li><li>NA</li><li>NA</li><li>NA</li><li>NA</li><li>NA</li><li>NA</li><li>NA</li><li>NA</li><li>NA</li><li>NA</li><li>NA</li><li>NA</li><li>NA</li><li>'â€”'</li><li>NA</li><li>'â€”'</li><li>NA</li><li>NA</li><li>NA</li><li>'â€”'</li><li>NA</li><li>'â€”'</li><li>NA</li><li>NA</li><li>NA</li><li>NA</li><li>NA</li><li>NA</li><li>NA</li><li>'â€”'</li><li>'â€”'</li><li>'â€”'</li></ol>\n"
      ],
      "text/latex": [
       "\\begin{enumerate*}\n",
       "\\item NA\n",
       "\\item NA\n",
       "\\item NA\n",
       "\\item NA\n",
       "\\item NA\n",
       "\\item NA\n",
       "\\item NA\n",
       "\\item NA\n",
       "\\item NA\n",
       "\\item 'â€”'\n",
       "\\item NA\n",
       "\\item NA\n",
       "\\item NA\n",
       "\\item NA\n",
       "\\item NA\n",
       "\\item NA\n",
       "\\item NA\n",
       "\\item NA\n",
       "\\item NA\n",
       "\\item NA\n",
       "\\item NA\n",
       "\\item NA\n",
       "\\item NA\n",
       "\\item 'â€”'\n",
       "\\item NA\n",
       "\\item NA\n",
       "\\item NA\n",
       "\\item 'â€”'\n",
       "\\item 'â€”'\n",
       "\\item NA\n",
       "\\item NA\n",
       "\\item NA\n",
       "\\item 'â€”'\n",
       "\\item NA\n",
       "\\item NA\n",
       "\\item NA\n",
       "\\item NA\n",
       "\\item NA\n",
       "\\item NA\n",
       "\\item 'â€”'\n",
       "\\item NA\n",
       "\\item NA\n",
       "\\item NA\n",
       "\\item NA\n",
       "\\item 'â€”'\n",
       "\\item NA\n",
       "\\item 'â€”'\n",
       "\\item NA\n",
       "\\item NA\n",
       "\\item NA\n",
       "\\item 'â€”'\n",
       "\\item NA\n",
       "\\item NA\n",
       "\\item NA\n",
       "\\item NA\n",
       "\\item NA\n",
       "\\item NA\n",
       "\\item NA\n",
       "\\item NA\n",
       "\\item NA\n",
       "\\item NA\n",
       "\\item NA\n",
       "\\item 'â€”'\n",
       "\\item NA\n",
       "\\item NA\n",
       "\\item NA\n",
       "\\item NA\n",
       "\\item NA\n",
       "\\item NA\n",
       "\\item NA\n",
       "\\item NA\n",
       "\\item NA\n",
       "\\item NA\n",
       "\\item NA\n",
       "\\item 'â€”'\n",
       "\\item NA\n",
       "\\item NA\n",
       "\\item NA\n",
       "\\item NA\n",
       "\\item NA\n",
       "\\item NA\n",
       "\\item NA\n",
       "\\item NA\n",
       "\\item NA\n",
       "\\item NA\n",
       "\\item NA\n",
       "\\item NA\n",
       "\\item NA\n",
       "\\item NA\n",
       "\\item NA\n",
       "\\item NA\n",
       "\\item NA\n",
       "\\item NA\n",
       "\\item NA\n",
       "\\item NA\n",
       "\\item NA\n",
       "\\item NA\n",
       "\\item NA\n",
       "\\item NA\n",
       "\\item NA\n",
       "\\item NA\n",
       "\\item NA\n",
       "\\item NA\n",
       "\\item NA\n",
       "\\item NA\n",
       "\\item NA\n",
       "\\item NA\n",
       "\\item NA\n",
       "\\item NA\n",
       "\\item NA\n",
       "\\item NA\n",
       "\\item NA\n",
       "\\item NA\n",
       "\\item NA\n",
       "\\item NA\n",
       "\\item NA\n",
       "\\item NA\n",
       "\\item NA\n",
       "\\item NA\n",
       "\\item NA\n",
       "\\item 'â€”'\n",
       "\\item NA\n",
       "\\item NA\n",
       "\\item NA\n",
       "\\item NA\n",
       "\\item NA\n",
       "\\item NA\n",
       "\\item NA\n",
       "\\item NA\n",
       "\\item NA\n",
       "\\item NA\n",
       "\\item 'â€”'\n",
       "\\item NA\n",
       "\\item NA\n",
       "\\item NA\n",
       "\\item NA\n",
       "\\item NA\n",
       "\\item NA\n",
       "\\item NA\n",
       "\\item NA\n",
       "\\item NA\n",
       "\\item NA\n",
       "\\item NA\n",
       "\\item NA\n",
       "\\item NA\n",
       "\\item NA\n",
       "\\item 'â€”'\n",
       "\\item NA\n",
       "\\item NA\n",
       "\\item NA\n",
       "\\item NA\n",
       "\\item NA\n",
       "\\item NA\n",
       "\\item NA\n",
       "\\item NA\n",
       "\\item NA\n",
       "\\item NA\n",
       "\\item NA\n",
       "\\item NA\n",
       "\\item NA\n",
       "\\item NA\n",
       "\\item NA\n",
       "\\item NA\n",
       "\\item NA\n",
       "\\item NA\n",
       "\\item NA\n",
       "\\item NA\n",
       "\\item NA\n",
       "\\item NA\n",
       "\\item NA\n",
       "\\item NA\n",
       "\\item NA\n",
       "\\item NA\n",
       "\\item NA\n",
       "\\item NA\n",
       "\\item NA\n",
       "\\item NA\n",
       "\\item NA\n",
       "\\item 'â€”'\n",
       "\\item NA\n",
       "\\item 'â€”'\n",
       "\\item NA\n",
       "\\item NA\n",
       "\\item NA\n",
       "\\item 'â€”'\n",
       "\\item NA\n",
       "\\item 'â€”'\n",
       "\\item NA\n",
       "\\item NA\n",
       "\\item NA\n",
       "\\item NA\n",
       "\\item NA\n",
       "\\item NA\n",
       "\\item NA\n",
       "\\item 'â€”'\n",
       "\\item 'â€”'\n",
       "\\item 'â€”'\n",
       "\\end{enumerate*}\n"
      ],
      "text/markdown": [
       "1. NA\n",
       "2. NA\n",
       "3. NA\n",
       "4. NA\n",
       "5. NA\n",
       "6. NA\n",
       "7. NA\n",
       "8. NA\n",
       "9. NA\n",
       "10. 'â€”'\n",
       "11. NA\n",
       "12. NA\n",
       "13. NA\n",
       "14. NA\n",
       "15. NA\n",
       "16. NA\n",
       "17. NA\n",
       "18. NA\n",
       "19. NA\n",
       "20. NA\n",
       "21. NA\n",
       "22. NA\n",
       "23. NA\n",
       "24. 'â€”'\n",
       "25. NA\n",
       "26. NA\n",
       "27. NA\n",
       "28. 'â€”'\n",
       "29. 'â€”'\n",
       "30. NA\n",
       "31. NA\n",
       "32. NA\n",
       "33. 'â€”'\n",
       "34. NA\n",
       "35. NA\n",
       "36. NA\n",
       "37. NA\n",
       "38. NA\n",
       "39. NA\n",
       "40. 'â€”'\n",
       "41. NA\n",
       "42. NA\n",
       "43. NA\n",
       "44. NA\n",
       "45. 'â€”'\n",
       "46. NA\n",
       "47. 'â€”'\n",
       "48. NA\n",
       "49. NA\n",
       "50. NA\n",
       "51. 'â€”'\n",
       "52. NA\n",
       "53. NA\n",
       "54. NA\n",
       "55. NA\n",
       "56. NA\n",
       "57. NA\n",
       "58. NA\n",
       "59. NA\n",
       "60. NA\n",
       "61. NA\n",
       "62. NA\n",
       "63. 'â€”'\n",
       "64. NA\n",
       "65. NA\n",
       "66. NA\n",
       "67. NA\n",
       "68. NA\n",
       "69. NA\n",
       "70. NA\n",
       "71. NA\n",
       "72. NA\n",
       "73. NA\n",
       "74. NA\n",
       "75. 'â€”'\n",
       "76. NA\n",
       "77. NA\n",
       "78. NA\n",
       "79. NA\n",
       "80. NA\n",
       "81. NA\n",
       "82. NA\n",
       "83. NA\n",
       "84. NA\n",
       "85. NA\n",
       "86. NA\n",
       "87. NA\n",
       "88. NA\n",
       "89. NA\n",
       "90. NA\n",
       "91. NA\n",
       "92. NA\n",
       "93. NA\n",
       "94. NA\n",
       "95. NA\n",
       "96. NA\n",
       "97. NA\n",
       "98. NA\n",
       "99. NA\n",
       "100. NA\n",
       "101. NA\n",
       "102. NA\n",
       "103. NA\n",
       "104. NA\n",
       "105. NA\n",
       "106. NA\n",
       "107. NA\n",
       "108. NA\n",
       "109. NA\n",
       "110. NA\n",
       "111. NA\n",
       "112. NA\n",
       "113. NA\n",
       "114. NA\n",
       "115. NA\n",
       "116. NA\n",
       "117. NA\n",
       "118. NA\n",
       "119. NA\n",
       "120. NA\n",
       "121. 'â€”'\n",
       "122. NA\n",
       "123. NA\n",
       "124. NA\n",
       "125. NA\n",
       "126. NA\n",
       "127. NA\n",
       "128. NA\n",
       "129. NA\n",
       "130. NA\n",
       "131. NA\n",
       "132. 'â€”'\n",
       "133. NA\n",
       "134. NA\n",
       "135. NA\n",
       "136. NA\n",
       "137. NA\n",
       "138. NA\n",
       "139. NA\n",
       "140. NA\n",
       "141. NA\n",
       "142. NA\n",
       "143. NA\n",
       "144. NA\n",
       "145. NA\n",
       "146. NA\n",
       "147. 'â€”'\n",
       "148. NA\n",
       "149. NA\n",
       "150. NA\n",
       "151. NA\n",
       "152. NA\n",
       "153. NA\n",
       "154. NA\n",
       "155. NA\n",
       "156. NA\n",
       "157. NA\n",
       "158. NA\n",
       "159. NA\n",
       "160. NA\n",
       "161. NA\n",
       "162. NA\n",
       "163. NA\n",
       "164. NA\n",
       "165. NA\n",
       "166. NA\n",
       "167. NA\n",
       "168. NA\n",
       "169. NA\n",
       "170. NA\n",
       "171. NA\n",
       "172. NA\n",
       "173. NA\n",
       "174. NA\n",
       "175. NA\n",
       "176. NA\n",
       "177. NA\n",
       "178. NA\n",
       "179. 'â€”'\n",
       "180. NA\n",
       "181. 'â€”'\n",
       "182. NA\n",
       "183. NA\n",
       "184. NA\n",
       "185. 'â€”'\n",
       "186. NA\n",
       "187. 'â€”'\n",
       "188. NA\n",
       "189. NA\n",
       "190. NA\n",
       "191. NA\n",
       "192. NA\n",
       "193. NA\n",
       "194. NA\n",
       "195. 'â€”'\n",
       "196. 'â€”'\n",
       "197. 'â€”'\n",
       "\n",
       "\n"
      ],
      "text/plain": [
       "  [1] NA    NA    NA    NA    NA    NA    NA    NA    NA    \"â€”\" NA    NA   \n",
       " [13] NA    NA    NA    NA    NA    NA    NA    NA    NA    NA    NA    \"â€”\"\n",
       " [25] NA    NA    NA    \"â€”\" \"â€”\" NA    NA    NA    \"â€”\" NA    NA    NA   \n",
       " [37] NA    NA    NA    \"â€”\" NA    NA    NA    NA    \"â€”\" NA    \"â€”\" NA   \n",
       " [49] NA    NA    \"â€”\" NA    NA    NA    NA    NA    NA    NA    NA    NA   \n",
       " [61] NA    NA    \"â€”\" NA    NA    NA    NA    NA    NA    NA    NA    NA   \n",
       " [73] NA    NA    \"â€”\" NA    NA    NA    NA    NA    NA    NA    NA    NA   \n",
       " [85] NA    NA    NA    NA    NA    NA    NA    NA    NA    NA    NA    NA   \n",
       " [97] NA    NA    NA    NA    NA    NA    NA    NA    NA    NA    NA    NA   \n",
       "[109] NA    NA    NA    NA    NA    NA    NA    NA    NA    NA    NA    NA   \n",
       "[121] \"â€”\" NA    NA    NA    NA    NA    NA    NA    NA    NA    NA    \"â€”\"\n",
       "[133] NA    NA    NA    NA    NA    NA    NA    NA    NA    NA    NA    NA   \n",
       "[145] NA    NA    \"â€”\" NA    NA    NA    NA    NA    NA    NA    NA    NA   \n",
       "[157] NA    NA    NA    NA    NA    NA    NA    NA    NA    NA    NA    NA   \n",
       "[169] NA    NA    NA    NA    NA    NA    NA    NA    NA    NA    \"â€”\" NA   \n",
       "[181] \"â€”\" NA    NA    NA    \"â€”\" NA    \"â€”\" NA    NA    NA    NA    NA   \n",
       "[193] NA    NA    \"â€”\" \"â€”\" \"â€”\""
      ]
     },
     "metadata": {},
     "output_type": "display_data"
    }
   ],
   "source": [
    "numericFormat=\"^\\\\d+.*\\\\d*$\"\n",
    "\n",
    "# revealing the bad missing values\n",
    "gsub(numericFormat,NA,freedom$economic_score)"
   ]
  },
  {
   "cell_type": "code",
   "execution_count": 71,
   "metadata": {},
   "outputs": [
    {
     "data": {
      "text/html": [
       "<style>\n",
       ".list-inline {list-style: none; margin:0; padding: 0}\n",
       ".list-inline>li {display: inline-block}\n",
       ".list-inline>li:not(:last-child)::after {content: \"\\00b7\"; padding: 0 .5ex}\n",
       "</style>\n",
       "<ol class=list-inline><li>'â€”'</li><li>'â€”'</li><li>'â€”'</li><li>'â€”'</li><li>'â€”'</li><li>'â€”'</li><li>'â€”'</li><li>'â€”'</li><li>'â€”'</li><li>'â€”'</li><li>'â€”'</li><li>'â€”'</li><li>'â€”'</li><li>'â€”'</li><li>'â€”'</li><li>'â€”'</li><li>'â€”'</li><li>'â€”'</li><li>'â€”'</li><li>'â€”'</li><li>'â€”'</li></ol>\n"
      ],
      "text/latex": [
       "\\begin{enumerate*}\n",
       "\\item 'â€”'\n",
       "\\item 'â€”'\n",
       "\\item 'â€”'\n",
       "\\item 'â€”'\n",
       "\\item 'â€”'\n",
       "\\item 'â€”'\n",
       "\\item 'â€”'\n",
       "\\item 'â€”'\n",
       "\\item 'â€”'\n",
       "\\item 'â€”'\n",
       "\\item 'â€”'\n",
       "\\item 'â€”'\n",
       "\\item 'â€”'\n",
       "\\item 'â€”'\n",
       "\\item 'â€”'\n",
       "\\item 'â€”'\n",
       "\\item 'â€”'\n",
       "\\item 'â€”'\n",
       "\\item 'â€”'\n",
       "\\item 'â€”'\n",
       "\\item 'â€”'\n",
       "\\end{enumerate*}\n"
      ],
      "text/markdown": [
       "1. 'â€”'\n",
       "2. 'â€”'\n",
       "3. 'â€”'\n",
       "4. 'â€”'\n",
       "5. 'â€”'\n",
       "6. 'â€”'\n",
       "7. 'â€”'\n",
       "8. 'â€”'\n",
       "9. 'â€”'\n",
       "10. 'â€”'\n",
       "11. 'â€”'\n",
       "12. 'â€”'\n",
       "13. 'â€”'\n",
       "14. 'â€”'\n",
       "15. 'â€”'\n",
       "16. 'â€”'\n",
       "17. 'â€”'\n",
       "18. 'â€”'\n",
       "19. 'â€”'\n",
       "20. 'â€”'\n",
       "21. 'â€”'\n",
       "\n",
       "\n"
      ],
      "text/plain": [
       " [1] \"â€”\" \"â€”\" \"â€”\" \"â€”\" \"â€”\" \"â€”\" \"â€”\" \"â€”\" \"â€”\" \"â€”\" \"â€”\" \"â€”\"\n",
       "[13] \"â€”\" \"â€”\" \"â€”\" \"â€”\" \"â€”\" \"â€”\" \"â€”\" \"â€”\" \"â€”\""
      ]
     },
     "metadata": {},
     "output_type": "display_data"
    }
   ],
   "source": [
    "freedom$economic_score[complete.cases(gsub(numericFormat,NA,freedom$economic_score))]"
   ]
  },
  {
   "cell_type": "code",
   "execution_count": 73,
   "metadata": {},
   "outputs": [
    {
     "data": {
      "text/html": [
       "'â€”'"
      ],
      "text/latex": [
       "'â€”'"
      ],
      "text/markdown": [
       "'â€”'"
      ],
      "text/plain": [
       "[1] \"â€”\""
      ]
     },
     "metadata": {},
     "output_type": "display_data"
    }
   ],
   "source": [
    "# here you are\n",
    "unique(freedom$economic_score[complete.cases(gsub(numericFormat,NA,freedom$economic_score))])"
   ]
  },
  {
   "cell_type": "markdown",
   "metadata": {},
   "source": [
    "Let's apply this logic to all the columns creating a function on the run:"
   ]
  },
  {
   "cell_type": "code",
   "execution_count": 74,
   "metadata": {},
   "outputs": [
    {
     "data": {
      "text/html": [
       "<dl>\n",
       "\t<dt>$world_score</dt>\n",
       "\t\t<dd></dd>\n",
       "\t<dt>$economic_score</dt>\n",
       "\t\t<dd>'â€”'</dd>\n",
       "\t<dt>$press_score</dt>\n",
       "\t\t<dd>'â€”'</dd>\n",
       "\t<dt>$democracy_score</dt>\n",
       "\t\t<dd>'â€”'</dd>\n",
       "</dl>\n"
      ],
      "text/latex": [
       "\\begin{description}\n",
       "\\item[\\$world\\_score] \n",
       "\\item[\\$economic\\_score] 'â€”'\n",
       "\\item[\\$press\\_score] 'â€”'\n",
       "\\item[\\$democracy\\_score] 'â€”'\n",
       "\\end{description}\n"
      ],
      "text/markdown": [
       "$world_score\n",
       ":   \n",
       "$economic_score\n",
       ":   'â€”'\n",
       "$press_score\n",
       ":   'â€”'\n",
       "$democracy_score\n",
       ":   'â€”'\n",
       "\n",
       "\n"
      ],
      "text/plain": [
       "$world_score\n",
       "character(0)\n",
       "\n",
       "$economic_score\n",
       "[1] \"â€”\"\n",
       "\n",
       "$press_score\n",
       "[1] \"â€”\"\n",
       "\n",
       "$democracy_score\n",
       "[1] \"â€”\"\n"
      ]
     },
     "metadata": {},
     "output_type": "display_data"
    }
   ],
   "source": [
    "sapply(freedom[, theNumericPosition], function(col){\n",
    "    unique(col[complete.cases(gsub(numericFormat,NA,col))])\n",
    "})"
   ]
  },
  {
   "cell_type": "code",
   "execution_count": 75,
   "metadata": {},
   "outputs": [
    {
     "data": {
      "text/html": [
       "<style>\n",
       ".dl-inline {width: auto; margin:0; padding: 0}\n",
       ".dl-inline>dt, .dl-inline>dd {float: none; width: auto; display: inline-block}\n",
       ".dl-inline>dt::after {content: \":\\0020\"; padding-right: .5ex}\n",
       ".dl-inline>dt:not(:first-of-type) {padding-left: .5ex}\n",
       "</style><dl class=dl-inline><dt>economic_score</dt><dd>'â€”'</dd><dt>press_score</dt><dd>'â€”'</dd><dt>democracy_score</dt><dd>'â€”'</dd></dl>\n"
      ],
      "text/latex": [
       "\\begin{description*}\n",
       "\\item[economic\\textbackslash{}\\_score] 'â€”'\n",
       "\\item[press\\textbackslash{}\\_score] 'â€”'\n",
       "\\item[democracy\\textbackslash{}\\_score] 'â€”'\n",
       "\\end{description*}\n"
      ],
      "text/markdown": [
       "economic_score\n",
       ":   'â€”'press_score\n",
       ":   'â€”'democracy_score\n",
       ":   'â€”'\n",
       "\n"
      ],
      "text/plain": [
       " economic_score     press_score democracy_score \n",
       "          \"â€”\"           \"â€”\"           \"â€”\" "
      ]
     },
     "metadata": {},
     "output_type": "display_data"
    }
   ],
   "source": [
    "#nicer\n",
    "unlist(sapply(freedom[, theNumericPosition], function(col){\n",
    "    unique(col[complete.cases(gsub(numericFormat,NA,col))])\n",
    "}))"
   ]
  },
  {
   "cell_type": "code",
   "execution_count": 76,
   "metadata": {},
   "outputs": [
    {
     "data": {
      "text/html": [
       "'â€”'"
      ],
      "text/latex": [
       "'â€”'"
      ],
      "text/markdown": [
       "'â€”'"
      ],
      "text/plain": [
       "[1] \"â€”\""
      ]
     },
     "metadata": {},
     "output_type": "display_data"
    }
   ],
   "source": [
    "# best\n",
    "unique(unlist(sapply(freedom[, theNumericPosition], function(col){\n",
    "    unique(col[complete.cases(gsub(numericFormat,NA,col))])\n",
    "})))"
   ]
  },
  {
   "cell_type": "markdown",
   "metadata": {
    "id": "eUBYD9cTOaJR"
   },
   "source": [
    "Let's continue.\n",
    "\n",
    "Those characters are used to show missing values. We need to get rid of them in a **proper way**:\n",
    "\n",
    "* Identify the character:"
   ]
  },
  {
   "cell_type": "code",
   "execution_count": 77,
   "metadata": {
    "id": "I9zZR0NPOcxQ"
   },
   "outputs": [],
   "source": [
    "badMissing=unique(unlist(sapply(freedom[, theNumericPosition], function(col){\n",
    "    unique(col[complete.cases(gsub(numericFormat,NA,col))])\n",
    "})))"
   ]
  },
  {
   "cell_type": "markdown",
   "metadata": {
    "id": "dLn8sbOQOBx6"
   },
   "source": [
    "* Replace those by missing values:"
   ]
  },
  {
   "cell_type": "code",
   "execution_count": 78,
   "metadata": {
    "id": "TRU_4NmQSrSU"
   },
   "outputs": [],
   "source": [
    "freedom[, theNumericPosition]=lapply(freedom[, theNumericPosition],function(col) ifelse((col %in% badMissing), NA, col))"
   ]
  },
  {
   "cell_type": "code",
   "execution_count": 79,
   "metadata": {
    "id": "OPn7TBlhSfYh"
   },
   "outputs": [],
   "source": [
    "### alternativel\n",
    "# library(naniar)\n",
    "# freedom=freedom %>%\n",
    "#   replace_with_na_all(condition = ~.x %in% badMissing)%>%as.data.frame()"
   ]
  },
  {
   "cell_type": "code",
   "execution_count": 80,
   "metadata": {
    "colab": {
     "base_uri": "https://localhost:8080/",
     "height": 1000
    },
    "id": "jUGJ3i45KuC2",
    "outputId": "6bdd5f80-b0d6-40bc-f1fe-453038799841"
   },
   "outputs": [
    {
     "data": {
      "text/html": [
       "<table class=\"dataframe\">\n",
       "<caption>A data.frame: 38 × 9</caption>\n",
       "<thead>\n",
       "\t<tr><th></th><th scope=col>country</th><th scope=col>world_score</th><th scope=col>economic_level</th><th scope=col>economic_score</th><th scope=col>press_level</th><th scope=col>press_score</th><th scope=col>democracy_level</th><th scope=col>democracy_score</th><th scope=col>world_level</th></tr>\n",
       "\t<tr><th></th><th scope=col>&lt;chr&gt;</th><th scope=col>&lt;chr&gt;</th><th scope=col>&lt;chr&gt;</th><th scope=col>&lt;chr&gt;</th><th scope=col>&lt;chr&gt;</th><th scope=col>&lt;chr&gt;</th><th scope=col>&lt;chr&gt;</th><th scope=col>&lt;chr&gt;</th><th scope=col>&lt;chr&gt;</th></tr>\n",
       "</thead>\n",
       "<tbody>\n",
       "\t<tr><th scope=row>10</th><td>San Marino                    </td><td>97</td><td>NA             </td><td>NA  </td><td>NA          </td><td>NA   </td><td>NA           </td><td>NA  </td><td>1 </td></tr>\n",
       "\t<tr><th scope=row>19</th><td>Barbados                      </td><td>94</td><td>moderately_free</td><td>66.8</td><td>NA          </td><td>NA   </td><td>NA           </td><td>NA  </td><td>1 </td></tr>\n",
       "\t<tr><th scope=row>24</th><td>Andorra                       </td><td>93</td><td>NA             </td><td>NA  </td><td>satisfactory</td><td>75.05</td><td>NA           </td><td>NA  </td><td>1 </td></tr>\n",
       "\t<tr><th scope=row>26</th><td>Dominica                      </td><td>93</td><td>mostly_unfree  </td><td>54.0</td><td>problematic </td><td>58.36</td><td>NA           </td><td>NA  </td><td>1 </td></tr>\n",
       "\t<tr><th scope=row>28</th><td>Marshall Islands              </td><td>93</td><td>NA             </td><td>NA  </td><td>NA          </td><td>NA   </td><td>NA           </td><td>NA  </td><td>1 </td></tr>\n",
       "\t<tr><th scope=row>29</th><td>Tuvalu                        </td><td>93</td><td>NA             </td><td>NA  </td><td>NA          </td><td>NA   </td><td>NA           </td><td>NA  </td><td>1 </td></tr>\n",
       "\t<tr><th scope=row>32</th><td>Micronesia                    </td><td>92</td><td>moderately_free</td><td>61.0</td><td>NA          </td><td>NA   </td><td>NA           </td><td>NA  </td><td>1 </td></tr>\n",
       "\t<tr><th scope=row>33</th><td>Palau                         </td><td>92</td><td>NA             </td><td>NA  </td><td>NA          </td><td>NA   </td><td>NA           </td><td>NA  </td><td>1 </td></tr>\n",
       "\t<tr><th scope=row>34</th><td>St. Lucia                     </td><td>92</td><td>moderately_free</td><td>62.2</td><td>problematic </td><td>58.36</td><td>NA           </td><td>NA  </td><td>1 </td></tr>\n",
       "\t<tr><th scope=row>36</th><td>The Bahamas                   </td><td>91</td><td>moderately_free</td><td>62.5</td><td>NA          </td><td>NA   </td><td>NA           </td><td>NA  </td><td>1 </td></tr>\n",
       "\t<tr><th scope=row>39</th><td>Kiribati                      </td><td>90</td><td>mostly_unfree  </td><td>51.3</td><td>NA          </td><td>NA   </td><td>NA           </td><td>NA  </td><td>1 </td></tr>\n",
       "\t<tr><th scope=row>40</th><td>Liechtenstein                 </td><td>90</td><td>NA             </td><td>NA  </td><td>satisfactory</td><td>84.47</td><td>NA           </td><td>NA  </td><td>1 </td></tr>\n",
       "\t<tr><th scope=row>43</th><td>St. Vincent and the Grenadines</td><td>90</td><td>mostly_unfree  </td><td>59.8</td><td>problematic </td><td>58.36</td><td>NA           </td><td>NA  </td><td>1 </td></tr>\n",
       "\t<tr><th scope=row>45</th><td>Grenada                       </td><td>89</td><td>NA             </td><td>NA  </td><td>problematic </td><td>58.36</td><td>NA           </td><td>NA  </td><td>1 </td></tr>\n",
       "\t<tr><th scope=row>47</th><td>St. Kitts and Nevis           </td><td>89</td><td>NA             </td><td>NA  </td><td>problematic </td><td>58.36</td><td>NA           </td><td>NA  </td><td>1 </td></tr>\n",
       "\t<tr><th scope=row>49</th><td>Belize                        </td><td>87</td><td>moderately_free</td><td>61.2</td><td>satisfactory</td><td>70.49</td><td>NA           </td><td>NA  </td><td>1 </td></tr>\n",
       "\t<tr><th scope=row>51</th><td>Antigua and Barbuda           </td><td>85</td><td>NA             </td><td>NA  </td><td>problematic </td><td>58.36</td><td>NA           </td><td>NA  </td><td>1 </td></tr>\n",
       "\t<tr><th scope=row>56</th><td>Samoa                         </td><td>84</td><td>moderately_free</td><td>67.2</td><td>satisfactory</td><td>82.15</td><td>NA           </td><td>NA  </td><td>1 </td></tr>\n",
       "\t<tr><th scope=row>57</th><td>SÃ£o TomÃ© and PrÃ­ncipe      </td><td>84</td><td>moderately_free</td><td>60.5</td><td>NA          </td><td>NA   </td><td>NA           </td><td>NA  </td><td>1 </td></tr>\n",
       "\t<tr><th scope=row>63</th><td>Monaco                        </td><td>82</td><td>NA             </td><td>NA  </td><td>NA          </td><td>NA   </td><td>NA           </td><td>NA  </td><td>1 </td></tr>\n",
       "\t<tr><th scope=row>65</th><td>Vanuatu                       </td><td>82</td><td>moderately_free</td><td>62.2</td><td>NA          </td><td>NA   </td><td>NA           </td><td>NA  </td><td>1 </td></tr>\n",
       "\t<tr><th scope=row>66</th><td>Tonga                         </td><td>81</td><td>mostly_unfree  </td><td>59.2</td><td>satisfactory</td><td>71.29</td><td>NA           </td><td>NA  </td><td>1 </td></tr>\n",
       "\t<tr><th scope=row>70</th><td>Seychelles                    </td><td>79</td><td>moderately_free</td><td>60.4</td><td>satisfactory</td><td>75.71</td><td>NA           </td><td>NA  </td><td>1 </td></tr>\n",
       "\t<tr><th scope=row>75</th><td>Nauru                         </td><td>77</td><td>NA             </td><td>NA  </td><td>NA          </td><td>NA   </td><td>NA           </td><td>NA  </td><td>1 </td></tr>\n",
       "\t<tr><th scope=row>76</th><td>Solomon Islands               </td><td>75</td><td>mostly_unfree  </td><td>55.0</td><td>NA          </td><td>NA   </td><td>NA           </td><td>NA  </td><td>1 </td></tr>\n",
       "\t<tr><th scope=row>103</th><td>Kosovo                        </td><td>60</td><td>moderately_free</td><td>60.6</td><td>problematic </td><td>68.38</td><td>NA           </td><td>NA  </td><td>3 </td></tr>\n",
       "\t<tr><th scope=row>121</th><td>Ukraine                       </td><td>49</td><td>mostly_unfree  </td><td>NA  </td><td>problematic </td><td>61.19</td><td>hybrid_regime</td><td>5.06</td><td>3 </td></tr>\n",
       "\t<tr><th scope=row>125</th><td>Maldives                      </td><td>44</td><td>repressed      </td><td>47.8</td><td>problematic </td><td>56.93</td><td>NA           </td><td>NA  </td><td>3 </td></tr>\n",
       "\t<tr><th scope=row>132</th><td>Hong Kong                     </td><td>41</td><td>NA             </td><td>NA  </td><td>difficult   </td><td>44.86</td><td>hybrid_regime</td><td>5.24</td><td>3 </td></tr>\n",
       "\t<tr><th scope=row>147</th><td>Iraq                          </td><td>30</td><td>NA             </td><td>NA  </td><td>very_serious</td><td>32.94</td><td>authoritarian</td><td>2.88</td><td>5 </td></tr>\n",
       "\t<tr><th scope=row>149</th><td>Brunei                        </td><td>28</td><td>moderately_free</td><td>65.9</td><td>difficult   </td><td>44.2 </td><td>NA           </td><td>NA  </td><td>5 </td></tr>\n",
       "\t<tr><th scope=row>179</th><td>Yemen                         </td><td>10</td><td>NA             </td><td>NA  </td><td>very_serious</td><td>32.78</td><td>authoritarian</td><td>1.95</td><td>5 </td></tr>\n",
       "\t<tr><th scope=row>181</th><td>Libya                         </td><td>9 </td><td>NA             </td><td>NA  </td><td>difficult   </td><td>40.22</td><td>authoritarian</td><td>1.78</td><td>5 </td></tr>\n",
       "\t<tr><th scope=row>185</th><td>Somalia                       </td><td>8 </td><td>NA             </td><td>NA  </td><td>difficult   </td><td>44.24</td><td>NA           </td><td>NA  </td><td>5 </td></tr>\n",
       "\t<tr><th scope=row>187</th><td>Afghanistan                   </td><td>6 </td><td>NA             </td><td>NA  </td><td>very_serious</td><td>39.75</td><td>authoritarian</td><td>0.26</td><td>5 </td></tr>\n",
       "\t<tr><th scope=row>195</th><td>South Sudan                   </td><td>1 </td><td>NA             </td><td>NA  </td><td>difficult   </td><td>50.62</td><td>NA           </td><td>NA  </td><td>5 </td></tr>\n",
       "\t<tr><th scope=row>196</th><td>Syria                         </td><td>1 </td><td>NA             </td><td>NA  </td><td>very_serious</td><td>27.22</td><td>authoritarian</td><td>1.43</td><td>5 </td></tr>\n",
       "\t<tr><th scope=row>197</th><td>Palestine                     </td><td>1 </td><td>NA             </td><td>NA  </td><td>very_serious</td><td>37.86</td><td>authoritarian</td><td>3.47</td><td>NA</td></tr>\n",
       "</tbody>\n",
       "</table>\n"
      ],
      "text/latex": [
       "A data.frame: 38 × 9\n",
       "\\begin{tabular}{r|lllllllll}\n",
       "  & country & world\\_score & economic\\_level & economic\\_score & press\\_level & press\\_score & democracy\\_level & democracy\\_score & world\\_level\\\\\n",
       "  & <chr> & <chr> & <chr> & <chr> & <chr> & <chr> & <chr> & <chr> & <chr>\\\\\n",
       "\\hline\n",
       "\t10 & San Marino                     & 97 & NA              & NA   & NA           & NA    & NA            & NA   & 1 \\\\\n",
       "\t19 & Barbados                       & 94 & moderately\\_free & 66.8 & NA           & NA    & NA            & NA   & 1 \\\\\n",
       "\t24 & Andorra                        & 93 & NA              & NA   & satisfactory & 75.05 & NA            & NA   & 1 \\\\\n",
       "\t26 & Dominica                       & 93 & mostly\\_unfree   & 54.0 & problematic  & 58.36 & NA            & NA   & 1 \\\\\n",
       "\t28 & Marshall Islands               & 93 & NA              & NA   & NA           & NA    & NA            & NA   & 1 \\\\\n",
       "\t29 & Tuvalu                         & 93 & NA              & NA   & NA           & NA    & NA            & NA   & 1 \\\\\n",
       "\t32 & Micronesia                     & 92 & moderately\\_free & 61.0 & NA           & NA    & NA            & NA   & 1 \\\\\n",
       "\t33 & Palau                          & 92 & NA              & NA   & NA           & NA    & NA            & NA   & 1 \\\\\n",
       "\t34 & St. Lucia                      & 92 & moderately\\_free & 62.2 & problematic  & 58.36 & NA            & NA   & 1 \\\\\n",
       "\t36 & The Bahamas                    & 91 & moderately\\_free & 62.5 & NA           & NA    & NA            & NA   & 1 \\\\\n",
       "\t39 & Kiribati                       & 90 & mostly\\_unfree   & 51.3 & NA           & NA    & NA            & NA   & 1 \\\\\n",
       "\t40 & Liechtenstein                  & 90 & NA              & NA   & satisfactory & 84.47 & NA            & NA   & 1 \\\\\n",
       "\t43 & St. Vincent and the Grenadines & 90 & mostly\\_unfree   & 59.8 & problematic  & 58.36 & NA            & NA   & 1 \\\\\n",
       "\t45 & Grenada                        & 89 & NA              & NA   & problematic  & 58.36 & NA            & NA   & 1 \\\\\n",
       "\t47 & St. Kitts and Nevis            & 89 & NA              & NA   & problematic  & 58.36 & NA            & NA   & 1 \\\\\n",
       "\t49 & Belize                         & 87 & moderately\\_free & 61.2 & satisfactory & 70.49 & NA            & NA   & 1 \\\\\n",
       "\t51 & Antigua and Barbuda            & 85 & NA              & NA   & problematic  & 58.36 & NA            & NA   & 1 \\\\\n",
       "\t56 & Samoa                          & 84 & moderately\\_free & 67.2 & satisfactory & 82.15 & NA            & NA   & 1 \\\\\n",
       "\t57 & SÃ£o TomÃ© and PrÃ­ncipe       & 84 & moderately\\_free & 60.5 & NA           & NA    & NA            & NA   & 1 \\\\\n",
       "\t63 & Monaco                         & 82 & NA              & NA   & NA           & NA    & NA            & NA   & 1 \\\\\n",
       "\t65 & Vanuatu                        & 82 & moderately\\_free & 62.2 & NA           & NA    & NA            & NA   & 1 \\\\\n",
       "\t66 & Tonga                          & 81 & mostly\\_unfree   & 59.2 & satisfactory & 71.29 & NA            & NA   & 1 \\\\\n",
       "\t70 & Seychelles                     & 79 & moderately\\_free & 60.4 & satisfactory & 75.71 & NA            & NA   & 1 \\\\\n",
       "\t75 & Nauru                          & 77 & NA              & NA   & NA           & NA    & NA            & NA   & 1 \\\\\n",
       "\t76 & Solomon Islands                & 75 & mostly\\_unfree   & 55.0 & NA           & NA    & NA            & NA   & 1 \\\\\n",
       "\t103 & Kosovo                         & 60 & moderately\\_free & 60.6 & problematic  & 68.38 & NA            & NA   & 3 \\\\\n",
       "\t121 & Ukraine                        & 49 & mostly\\_unfree   & NA   & problematic  & 61.19 & hybrid\\_regime & 5.06 & 3 \\\\\n",
       "\t125 & Maldives                       & 44 & repressed       & 47.8 & problematic  & 56.93 & NA            & NA   & 3 \\\\\n",
       "\t132 & Hong Kong                      & 41 & NA              & NA   & difficult    & 44.86 & hybrid\\_regime & 5.24 & 3 \\\\\n",
       "\t147 & Iraq                           & 30 & NA              & NA   & very\\_serious & 32.94 & authoritarian & 2.88 & 5 \\\\\n",
       "\t149 & Brunei                         & 28 & moderately\\_free & 65.9 & difficult    & 44.2  & NA            & NA   & 5 \\\\\n",
       "\t179 & Yemen                          & 10 & NA              & NA   & very\\_serious & 32.78 & authoritarian & 1.95 & 5 \\\\\n",
       "\t181 & Libya                          & 9  & NA              & NA   & difficult    & 40.22 & authoritarian & 1.78 & 5 \\\\\n",
       "\t185 & Somalia                        & 8  & NA              & NA   & difficult    & 44.24 & NA            & NA   & 5 \\\\\n",
       "\t187 & Afghanistan                    & 6  & NA              & NA   & very\\_serious & 39.75 & authoritarian & 0.26 & 5 \\\\\n",
       "\t195 & South Sudan                    & 1  & NA              & NA   & difficult    & 50.62 & NA            & NA   & 5 \\\\\n",
       "\t196 & Syria                          & 1  & NA              & NA   & very\\_serious & 27.22 & authoritarian & 1.43 & 5 \\\\\n",
       "\t197 & Palestine                      & 1  & NA              & NA   & very\\_serious & 37.86 & authoritarian & 3.47 & NA\\\\\n",
       "\\end{tabular}\n"
      ],
      "text/markdown": [
       "\n",
       "A data.frame: 38 × 9\n",
       "\n",
       "| <!--/--> | country &lt;chr&gt; | world_score &lt;chr&gt; | economic_level &lt;chr&gt; | economic_score &lt;chr&gt; | press_level &lt;chr&gt; | press_score &lt;chr&gt; | democracy_level &lt;chr&gt; | democracy_score &lt;chr&gt; | world_level &lt;chr&gt; |\n",
       "|---|---|---|---|---|---|---|---|---|---|\n",
       "| 10 | San Marino                     | 97 | NA              | NA   | NA           | NA    | NA            | NA   | 1  |\n",
       "| 19 | Barbados                       | 94 | moderately_free | 66.8 | NA           | NA    | NA            | NA   | 1  |\n",
       "| 24 | Andorra                        | 93 | NA              | NA   | satisfactory | 75.05 | NA            | NA   | 1  |\n",
       "| 26 | Dominica                       | 93 | mostly_unfree   | 54.0 | problematic  | 58.36 | NA            | NA   | 1  |\n",
       "| 28 | Marshall Islands               | 93 | NA              | NA   | NA           | NA    | NA            | NA   | 1  |\n",
       "| 29 | Tuvalu                         | 93 | NA              | NA   | NA           | NA    | NA            | NA   | 1  |\n",
       "| 32 | Micronesia                     | 92 | moderately_free | 61.0 | NA           | NA    | NA            | NA   | 1  |\n",
       "| 33 | Palau                          | 92 | NA              | NA   | NA           | NA    | NA            | NA   | 1  |\n",
       "| 34 | St. Lucia                      | 92 | moderately_free | 62.2 | problematic  | 58.36 | NA            | NA   | 1  |\n",
       "| 36 | The Bahamas                    | 91 | moderately_free | 62.5 | NA           | NA    | NA            | NA   | 1  |\n",
       "| 39 | Kiribati                       | 90 | mostly_unfree   | 51.3 | NA           | NA    | NA            | NA   | 1  |\n",
       "| 40 | Liechtenstein                  | 90 | NA              | NA   | satisfactory | 84.47 | NA            | NA   | 1  |\n",
       "| 43 | St. Vincent and the Grenadines | 90 | mostly_unfree   | 59.8 | problematic  | 58.36 | NA            | NA   | 1  |\n",
       "| 45 | Grenada                        | 89 | NA              | NA   | problematic  | 58.36 | NA            | NA   | 1  |\n",
       "| 47 | St. Kitts and Nevis            | 89 | NA              | NA   | problematic  | 58.36 | NA            | NA   | 1  |\n",
       "| 49 | Belize                         | 87 | moderately_free | 61.2 | satisfactory | 70.49 | NA            | NA   | 1  |\n",
       "| 51 | Antigua and Barbuda            | 85 | NA              | NA   | problematic  | 58.36 | NA            | NA   | 1  |\n",
       "| 56 | Samoa                          | 84 | moderately_free | 67.2 | satisfactory | 82.15 | NA            | NA   | 1  |\n",
       "| 57 | SÃ£o TomÃ© and PrÃ­ncipe       | 84 | moderately_free | 60.5 | NA           | NA    | NA            | NA   | 1  |\n",
       "| 63 | Monaco                         | 82 | NA              | NA   | NA           | NA    | NA            | NA   | 1  |\n",
       "| 65 | Vanuatu                        | 82 | moderately_free | 62.2 | NA           | NA    | NA            | NA   | 1  |\n",
       "| 66 | Tonga                          | 81 | mostly_unfree   | 59.2 | satisfactory | 71.29 | NA            | NA   | 1  |\n",
       "| 70 | Seychelles                     | 79 | moderately_free | 60.4 | satisfactory | 75.71 | NA            | NA   | 1  |\n",
       "| 75 | Nauru                          | 77 | NA              | NA   | NA           | NA    | NA            | NA   | 1  |\n",
       "| 76 | Solomon Islands                | 75 | mostly_unfree   | 55.0 | NA           | NA    | NA            | NA   | 1  |\n",
       "| 103 | Kosovo                         | 60 | moderately_free | 60.6 | problematic  | 68.38 | NA            | NA   | 3  |\n",
       "| 121 | Ukraine                        | 49 | mostly_unfree   | NA   | problematic  | 61.19 | hybrid_regime | 5.06 | 3  |\n",
       "| 125 | Maldives                       | 44 | repressed       | 47.8 | problematic  | 56.93 | NA            | NA   | 3  |\n",
       "| 132 | Hong Kong                      | 41 | NA              | NA   | difficult    | 44.86 | hybrid_regime | 5.24 | 3  |\n",
       "| 147 | Iraq                           | 30 | NA              | NA   | very_serious | 32.94 | authoritarian | 2.88 | 5  |\n",
       "| 149 | Brunei                         | 28 | moderately_free | 65.9 | difficult    | 44.2  | NA            | NA   | 5  |\n",
       "| 179 | Yemen                          | 10 | NA              | NA   | very_serious | 32.78 | authoritarian | 1.95 | 5  |\n",
       "| 181 | Libya                          | 9  | NA              | NA   | difficult    | 40.22 | authoritarian | 1.78 | 5  |\n",
       "| 185 | Somalia                        | 8  | NA              | NA   | difficult    | 44.24 | NA            | NA   | 5  |\n",
       "| 187 | Afghanistan                    | 6  | NA              | NA   | very_serious | 39.75 | authoritarian | 0.26 | 5  |\n",
       "| 195 | South Sudan                    | 1  | NA              | NA   | difficult    | 50.62 | NA            | NA   | 5  |\n",
       "| 196 | Syria                          | 1  | NA              | NA   | very_serious | 27.22 | authoritarian | 1.43 | 5  |\n",
       "| 197 | Palestine                      | 1  | NA              | NA   | very_serious | 37.86 | authoritarian | 3.47 | NA |\n",
       "\n"
      ],
      "text/plain": [
       "    country                        world_score economic_level  economic_score\n",
       "10  San Marino                     97          NA              NA            \n",
       "19  Barbados                       94          moderately_free 66.8          \n",
       "24  Andorra                        93          NA              NA            \n",
       "26  Dominica                       93          mostly_unfree   54.0          \n",
       "28  Marshall Islands               93          NA              NA            \n",
       "29  Tuvalu                         93          NA              NA            \n",
       "32  Micronesia                     92          moderately_free 61.0          \n",
       "33  Palau                          92          NA              NA            \n",
       "34  St. Lucia                      92          moderately_free 62.2          \n",
       "36  The Bahamas                    91          moderately_free 62.5          \n",
       "39  Kiribati                       90          mostly_unfree   51.3          \n",
       "40  Liechtenstein                  90          NA              NA            \n",
       "43  St. Vincent and the Grenadines 90          mostly_unfree   59.8          \n",
       "45  Grenada                        89          NA              NA            \n",
       "47  St. Kitts and Nevis            89          NA              NA            \n",
       "49  Belize                         87          moderately_free 61.2          \n",
       "51  Antigua and Barbuda            85          NA              NA            \n",
       "56  Samoa                          84          moderately_free 67.2          \n",
       "57  SÃ£o TomÃ© and PrÃ­ncipe       84          moderately_free 60.5          \n",
       "63  Monaco                         82          NA              NA            \n",
       "65  Vanuatu                        82          moderately_free 62.2          \n",
       "66  Tonga                          81          mostly_unfree   59.2          \n",
       "70  Seychelles                     79          moderately_free 60.4          \n",
       "75  Nauru                          77          NA              NA            \n",
       "76  Solomon Islands                75          mostly_unfree   55.0          \n",
       "103 Kosovo                         60          moderately_free 60.6          \n",
       "121 Ukraine                        49          mostly_unfree   NA            \n",
       "125 Maldives                       44          repressed       47.8          \n",
       "132 Hong Kong                      41          NA              NA            \n",
       "147 Iraq                           30          NA              NA            \n",
       "149 Brunei                         28          moderately_free 65.9          \n",
       "179 Yemen                          10          NA              NA            \n",
       "181 Libya                          9           NA              NA            \n",
       "185 Somalia                        8           NA              NA            \n",
       "187 Afghanistan                    6           NA              NA            \n",
       "195 South Sudan                    1           NA              NA            \n",
       "196 Syria                          1           NA              NA            \n",
       "197 Palestine                      1           NA              NA            \n",
       "    press_level  press_score democracy_level democracy_score world_level\n",
       "10  NA           NA          NA              NA              1          \n",
       "19  NA           NA          NA              NA              1          \n",
       "24  satisfactory 75.05       NA              NA              1          \n",
       "26  problematic  58.36       NA              NA              1          \n",
       "28  NA           NA          NA              NA              1          \n",
       "29  NA           NA          NA              NA              1          \n",
       "32  NA           NA          NA              NA              1          \n",
       "33  NA           NA          NA              NA              1          \n",
       "34  problematic  58.36       NA              NA              1          \n",
       "36  NA           NA          NA              NA              1          \n",
       "39  NA           NA          NA              NA              1          \n",
       "40  satisfactory 84.47       NA              NA              1          \n",
       "43  problematic  58.36       NA              NA              1          \n",
       "45  problematic  58.36       NA              NA              1          \n",
       "47  problematic  58.36       NA              NA              1          \n",
       "49  satisfactory 70.49       NA              NA              1          \n",
       "51  problematic  58.36       NA              NA              1          \n",
       "56  satisfactory 82.15       NA              NA              1          \n",
       "57  NA           NA          NA              NA              1          \n",
       "63  NA           NA          NA              NA              1          \n",
       "65  NA           NA          NA              NA              1          \n",
       "66  satisfactory 71.29       NA              NA              1          \n",
       "70  satisfactory 75.71       NA              NA              1          \n",
       "75  NA           NA          NA              NA              1          \n",
       "76  NA           NA          NA              NA              1          \n",
       "103 problematic  68.38       NA              NA              3          \n",
       "121 problematic  61.19       hybrid_regime   5.06            3          \n",
       "125 problematic  56.93       NA              NA              3          \n",
       "132 difficult    44.86       hybrid_regime   5.24            3          \n",
       "147 very_serious 32.94       authoritarian   2.88            5          \n",
       "149 difficult    44.2        NA              NA              5          \n",
       "179 very_serious 32.78       authoritarian   1.95            5          \n",
       "181 difficult    40.22       authoritarian   1.78            5          \n",
       "185 difficult    44.24       NA              NA              5          \n",
       "187 very_serious 39.75       authoritarian   0.26            5          \n",
       "195 difficult    50.62       NA              NA              5          \n",
       "196 very_serious 27.22       authoritarian   1.43            5          \n",
       "197 very_serious 37.86       authoritarian   3.47            NA         "
      ]
     },
     "metadata": {},
     "output_type": "display_data"
    }
   ],
   "source": [
    "# checking\n",
    "freedom[!complete.cases(freedom[,theNumericPosition]),]"
   ]
  },
  {
   "cell_type": "markdown",
   "metadata": {
    "id": "dYgc9tUiPXF8"
   },
   "source": [
    "* If needed, keep complete data:"
   ]
  },
  {
   "cell_type": "code",
   "execution_count": 81,
   "metadata": {
    "id": "ksP1Ds8208X2"
   },
   "outputs": [],
   "source": [
    "freedom=freedom[complete.cases(freedom),]"
   ]
  },
  {
   "cell_type": "markdown",
   "metadata": {
    "id": "w-2JeFMs08X3"
   },
   "source": [
    "# Time to format the data\n",
    "\n",
    "When formatting data we pay attention to the data contents.\n",
    "The data contents are clean, but not yet formatted:"
   ]
  },
  {
   "cell_type": "code",
   "execution_count": 82,
   "metadata": {
    "colab": {
     "base_uri": "https://localhost:8080/"
    },
    "id": "XA8ZwYcS08X3",
    "outputId": "0fe56f5c-cbeb-45e0-8276-117c63b4ab4a"
   },
   "outputs": [
    {
     "name": "stdout",
     "output_type": "stream",
     "text": [
      "'data.frame':\t159 obs. of  9 variables:\n",
      " $ country        : chr  \"Finland\" \"New Zealand\" \"Sweden\" \"Norway\" ...\n",
      " $ world_score    : chr  \"100\" \"99\" \"99\" \"98\" ...\n",
      " $ economic_level : chr  \"mostly_free\" \"mostly_free\" \"mostly_free\" \"mostly_free\" ...\n",
      " $ economic_score : chr  \"76.3\" \"77.8\" \"77.5\" \"77.5\" ...\n",
      " $ press_level    : chr  \"good\" \"satisfactory\" \"good\" \"good\" ...\n",
      " $ press_score    : chr  \"87.94\" \"84.23\" \"88.15\" \"95.18\" ...\n",
      " $ democracy_level: chr  \"full_democracy\" \"full_democracy\" \"full_democracy\" \"full_democracy\" ...\n",
      " $ democracy_score: chr  \"9.30\" \"9.61\" \"9.39\" \"9.81\" ...\n",
      " $ world_level    : chr  \"1\" \"1\" \"1\" \"1\" ...\n"
     ]
    }
   ],
   "source": [
    "str(freedom)"
   ]
  },
  {
   "cell_type": "markdown",
   "metadata": {
    "id": "rfrdJgIK08X3"
   },
   "source": [
    "## Formatting numerical values\n",
    "\n",
    "\n",
    "Let's format the numeric data using **as.numeric**.\n"
   ]
  },
  {
   "cell_type": "markdown",
   "metadata": {
    "id": "rlsxQAOO08X4"
   },
   "source": [
    "If everything is clean, as.numeric will not create missing values:"
   ]
  },
  {
   "cell_type": "code",
   "execution_count": 83,
   "metadata": {
    "colab": {
     "base_uri": "https://localhost:8080/"
    },
    "id": "xRHbBnLy08X4",
    "outputId": "aaa3ca59-4894-4b10-ac47-0172f4aa1601"
   },
   "outputs": [
    {
     "name": "stdout",
     "output_type": "stream",
     "text": [
      "'data.frame':\t159 obs. of  9 variables:\n",
      " $ country        : chr  \"Finland\" \"New Zealand\" \"Sweden\" \"Norway\" ...\n",
      " $ world_score    : num  100 99 99 98 97 97 97 97 97 96 ...\n",
      " $ economic_level : chr  \"mostly_free\" \"mostly_free\" \"mostly_free\" \"mostly_free\" ...\n",
      " $ economic_score : num  76.3 77.8 77.5 77.5 72.4 77.8 82.6 79.2 77.3 65.6 ...\n",
      " $ press_level    : chr  \"good\" \"satisfactory\" \"good\" \"good\" ...\n",
      " $ press_score    : num  87.9 84.2 88.2 95.2 83.5 ...\n",
      " $ democracy_level: chr  \"full_democracy\" \"full_democracy\" \"full_democracy\" \"full_democracy\" ...\n",
      " $ democracy_score: num  9.3 9.61 9.39 9.81 8.69 9.28 9.19 8.81 9 7.64 ...\n",
      " $ world_level    : chr  \"1\" \"1\" \"1\" \"1\" ...\n"
     ]
    }
   ],
   "source": [
    "freedom[,theNumericPosition]=lapply(freedom[,seq(2,8,2)],as.numeric)\n",
    "\n",
    "str(freedom)"
   ]
  },
  {
   "cell_type": "markdown",
   "metadata": {
    "id": "_QbdiWsr08X4"
   },
   "source": [
    "Great! - the formatting did not tell us NA were created.\n",
    "\n",
    "## Formatting the categories\n",
    "\n",
    "Our categories are ordinal:"
   ]
  },
  {
   "cell_type": "code",
   "execution_count": 84,
   "metadata": {
    "colab": {
     "base_uri": "https://localhost:8080/",
     "height": 356
    },
    "id": "s5VNbv3108X4",
    "outputId": "a09fcca7-0e4b-4efd-e767-ca606c5deaf9"
   },
   "outputs": [
    {
     "data": {
      "text/plain": [
       "$economic_level\n",
       "\n",
       "           free moderately_free     mostly_free   mostly_unfree       repressed \n",
       "              4              44              22              57              32 \n",
       "           <NA> \n",
       "              0 \n",
       "\n",
       "$press_level\n",
       "\n",
       "   difficult         good  problematic satisfactory very_serious         <NA> \n",
       "          37            8           50           38           26            0 \n",
       "\n",
       "$democracy_level\n",
       "\n",
       "   authoritarian flawed_democracy   full_democracy    hybrid_regime \n",
       "              51               51               23               34 \n",
       "            <NA> \n",
       "               0 \n",
       "\n",
       "$world_level\n",
       "\n",
       "   1    3    5 <NA> \n",
       "  58   52   49    0 \n"
      ]
     },
     "metadata": {},
     "output_type": "display_data"
    }
   ],
   "source": [
    "sapply(freedom[,allCatCols],table,useNA='always')"
   ]
  },
  {
   "cell_type": "markdown",
   "metadata": {
    "id": "um9yGWaa08X4"
   },
   "source": [
    "The plan is:\n",
    "\n",
    "1. Use integers instead of text. If labels accross columns are not the same, use same values for max and min.\n",
    "2. Notice 'World_level' has the levels in the opposite order.\n",
    "3. Create alternative columns, where you can write labels, but include numbers in the labels.\n",
    "\n",
    "This solves the first and second case:"
   ]
  },
  {
   "cell_type": "code",
   "execution_count": 86,
   "metadata": {
    "id": "6H0_c6oj08X4"
   },
   "outputs": [],
   "source": [
    "# maps for replacement: 1 the worst / 5 the best\n",
    "RENAME_econ <- c(\"repressed\"=1, \"mostly_unfree\"=2,\"moderately_free\"=3, \"mostly_free\"=4, \"free\"=5)\n",
    "RENAME_press <- c(\"very_serious\"=1, \"difficult\"=2,\"problematic\"=3,\"satisfactory\"=4,\"good\"=5)\n",
    "RENAME_demo <- c(\"authoritarian\"=1,\"hybrid_regime\"=2,\"flawed_democracy\"=4, \"full_democracy\"=5)\n",
    "RENAME_world <- c(\"5\"=1 ,\"3\"= 3,\"1\"=5)\n",
    "\n",
    "freedom$economic_level=RENAME_econ[freedom$economic_level]\n",
    "freedom$press_level=RENAME_press[freedom$press_level]\n",
    "freedom$democracy_level=RENAME_demo[freedom$democracy_level]\n",
    "freedom$world_level=RENAME_world[freedom$world_level]"
   ]
  },
  {
   "cell_type": "code",
   "execution_count": 87,
   "metadata": {},
   "outputs": [
    {
     "data": {
      "text/plain": [
       "$economic_level\n",
       "\n",
       "   1    2    3    4    5 <NA> \n",
       "  32   57   44   22    4    0 \n",
       "\n",
       "$press_level\n",
       "\n",
       "   1    2    3    4    5 <NA> \n",
       "  26   37   50   38    8    0 \n",
       "\n",
       "$democracy_level\n",
       "\n",
       "   1    2    4    5 <NA> \n",
       "  51   34   51   23    0 \n",
       "\n",
       "$world_level\n",
       "\n",
       "   1    3    5 <NA> \n",
       "  49   52   58    0 \n"
      ]
     },
     "metadata": {},
     "output_type": "display_data"
    }
   ],
   "source": [
    "sapply(freedom[,allCatCols],table,useNA='always')"
   ]
  },
  {
   "cell_type": "code",
   "execution_count": 88,
   "metadata": {},
   "outputs": [],
   "source": [
    "### alternatively\n",
    "\n",
    "# freedom$economic_level=dplyr::case_match(freedom$economic_level,\n",
    "#                                'repressed'~1, 'mostly unfree'~2,'moderately free'~3, 'mostly free'~4, 'free'~5)\n",
    "# freedom$press_level=dplyr::case_match(freedom$press_level,\n",
    "#                               'very serious'~1, 'difficult'~2,'problematic'~3,'satisfactory'~4,'good'~5)\n",
    "# freedom$democracy_level=dplyr::case_match(freedom$democracy_level,\n",
    "#                              'authoritarian'~1,'hybrid regime'~2,'flawed democracy'~4, 'full democracy'~5)\n",
    "# freedom$world_level=dplyr::case_match(freedom$world_level,\n",
    "#                                '5'~ 1 ,'3'~ 3,'1'~5)"
   ]
  },
  {
   "cell_type": "markdown",
   "metadata": {},
   "source": [
    "Currently"
   ]
  },
  {
   "cell_type": "code",
   "execution_count": 89,
   "metadata": {
    "colab": {
     "base_uri": "https://localhost:8080/"
    },
    "id": "rMHFaC1L08X5",
    "outputId": "383adaf9-676a-4223-c523-0c51259b0015"
   },
   "outputs": [
    {
     "name": "stdout",
     "output_type": "stream",
     "text": [
      "'data.frame':\t159 obs. of  9 variables:\n",
      " $ country        : chr  \"Finland\" \"New Zealand\" \"Sweden\" \"Norway\" ...\n",
      " $ world_score    : num  100 99 99 98 97 97 97 97 97 96 ...\n",
      " $ economic_level : num  4 4 4 4 4 4 5 4 4 3 ...\n",
      " $ economic_score : num  76.3 77.8 77.5 77.5 72.4 77.8 82.6 79.2 77.3 65.6 ...\n",
      " $ press_level    : num  5 4 5 5 4 5 5 4 5 4 ...\n",
      " $ press_score    : num  87.9 84.2 88.2 95.2 83.5 ...\n",
      " $ democracy_level: num  5 5 5 5 5 5 5 5 5 4 ...\n",
      " $ democracy_score: num  9.3 9.61 9.39 9.81 8.69 9.28 9.19 8.81 9 7.64 ...\n",
      " $ world_level    : num  5 5 5 5 5 5 5 5 5 5 ...\n"
     ]
    }
   ],
   "source": [
    "str(freedom)"
   ]
  },
  {
   "cell_type": "markdown",
   "metadata": {
    "id": "tNwo156W08X5"
   },
   "source": [
    "Let me put the last variable in a better location:"
   ]
  },
  {
   "cell_type": "code",
   "execution_count": 90,
   "metadata": {
    "colab": {
     "base_uri": "https://localhost:8080/"
    },
    "id": "fY70Tk3A08X5",
    "outputId": "3192ee84-e213-4327-e1af-45eb8cbfe386"
   },
   "outputs": [
    {
     "name": "stdout",
     "output_type": "stream",
     "text": [
      "'data.frame':\t159 obs. of  9 variables:\n",
      " $ country        : chr  \"Finland\" \"New Zealand\" \"Sweden\" \"Norway\" ...\n",
      " $ world_level    : num  5 5 5 5 5 5 5 5 5 5 ...\n",
      " $ world_score    : num  100 99 99 98 97 97 97 97 97 96 ...\n",
      " $ economic_level : num  4 4 4 4 4 4 5 4 4 3 ...\n",
      " $ economic_score : num  76.3 77.8 77.5 77.5 72.4 77.8 82.6 79.2 77.3 65.6 ...\n",
      " $ press_level    : num  5 4 5 5 4 5 5 4 5 4 ...\n",
      " $ press_score    : num  87.9 84.2 88.2 95.2 83.5 ...\n",
      " $ democracy_level: num  5 5 5 5 5 5 5 5 5 4 ...\n",
      " $ democracy_score: num  9.3 9.61 9.39 9.81 8.69 9.28 9.19 8.81 9 7.64 ...\n"
     ]
    }
   ],
   "source": [
    "# just a trick\n",
    "freedom=freedom[,c(1,9,2:8)]\n",
    "str(freedom)"
   ]
  },
  {
   "cell_type": "markdown",
   "metadata": {
    "id": "lB7PVwBi08X6"
   },
   "source": [
    "* Preparing the last step here:"
   ]
  },
  {
   "cell_type": "code",
   "execution_count": 91,
   "metadata": {},
   "outputs": [
    {
     "data": {
      "text/html": [
       "<style>\n",
       ".list-inline {list-style: none; margin:0; padding: 0}\n",
       ".list-inline>li {display: inline-block}\n",
       ".list-inline>li:not(:last-child)::after {content: \"\\00b7\"; padding: 0 .5ex}\n",
       "</style>\n",
       "<ol class=list-inline><li>'world_label'</li><li>'economic_label'</li><li>'press_label'</li><li>'democracy_label'</li></ol>\n"
      ],
      "text/latex": [
       "\\begin{enumerate*}\n",
       "\\item 'world\\_label'\n",
       "\\item 'economic\\_label'\n",
       "\\item 'press\\_label'\n",
       "\\item 'democracy\\_label'\n",
       "\\end{enumerate*}\n"
      ],
      "text/markdown": [
       "1. 'world_label'\n",
       "2. 'economic_label'\n",
       "3. 'press_label'\n",
       "4. 'democracy_label'\n",
       "\n",
       "\n"
      ],
      "text/plain": [
       "[1] \"world_label\"     \"economic_label\"  \"press_label\"     \"democracy_label\""
      ]
     },
     "metadata": {},
     "output_type": "display_data"
    }
   ],
   "source": [
    "someRenamed=gsub('level',\"label\",names(freedom),'label')\n",
    "someRenamed=someRenamed[endsWith(someRenamed,'label')]\n",
    "someRenamed"
   ]
  },
  {
   "cell_type": "code",
   "execution_count": 92,
   "metadata": {
    "colab": {
     "base_uri": "https://localhost:8080/",
     "height": 34
    },
    "id": "1-pgTrP208X6",
    "outputId": "18321303-a584-4d46-d285-4882884649fc"
   },
   "outputs": [
    {
     "data": {
      "text/html": [
       "<style>\n",
       ".list-inline {list-style: none; margin:0; padding: 0}\n",
       ".list-inline>li {display: inline-block}\n",
       ".list-inline>li:not(:last-child)::after {content: \"\\00b7\"; padding: 0 .5ex}\n",
       "</style>\n",
       "<ol class=list-inline><li>2</li><li>4</li><li>6</li><li>8</li></ol>\n"
      ],
      "text/latex": [
       "\\begin{enumerate*}\n",
       "\\item 2\n",
       "\\item 4\n",
       "\\item 6\n",
       "\\item 8\n",
       "\\end{enumerate*}\n"
      ],
      "text/markdown": [
       "1. 2\n",
       "2. 4\n",
       "3. 6\n",
       "4. 8\n",
       "\n",
       "\n"
      ],
      "text/plain": [
       "[1] 2 4 6 8"
      ]
     },
     "metadata": {},
     "output_type": "display_data"
    }
   ],
   "source": [
    "# new column names\n",
    "allCatCols=grep(\"level\",names(freedom))\n",
    "allCatCols"
   ]
  },
  {
   "cell_type": "code",
   "execution_count": 94,
   "metadata": {
    "colab": {
     "base_uri": "https://localhost:8080/",
     "height": 1000
    },
    "id": "45OZjLDL08X6",
    "outputId": "47340302-9dfa-42fd-f552-1ab44a25d682"
   },
   "outputs": [
    {
     "data": {
      "text/html": [
       "<table class=\"dataframe\">\n",
       "<caption>A data.frame: 159 × 13</caption>\n",
       "<thead>\n",
       "\t<tr><th></th><th scope=col>country</th><th scope=col>world_level</th><th scope=col>world_score</th><th scope=col>economic_level</th><th scope=col>economic_score</th><th scope=col>press_level</th><th scope=col>press_score</th><th scope=col>democracy_level</th><th scope=col>democracy_score</th><th scope=col>world_label</th><th scope=col>economic_label</th><th scope=col>press_label</th><th scope=col>democracy_label</th></tr>\n",
       "\t<tr><th></th><th scope=col>&lt;chr&gt;</th><th scope=col>&lt;dbl&gt;</th><th scope=col>&lt;dbl&gt;</th><th scope=col>&lt;dbl&gt;</th><th scope=col>&lt;dbl&gt;</th><th scope=col>&lt;dbl&gt;</th><th scope=col>&lt;dbl&gt;</th><th scope=col>&lt;dbl&gt;</th><th scope=col>&lt;dbl&gt;</th><th scope=col>&lt;dbl&gt;</th><th scope=col>&lt;dbl&gt;</th><th scope=col>&lt;dbl&gt;</th><th scope=col>&lt;dbl&gt;</th></tr>\n",
       "</thead>\n",
       "<tbody>\n",
       "\t<tr><th scope=row>1</th><td>Finland       </td><td>5</td><td>100</td><td>4</td><td>76.3</td><td>5</td><td>87.94</td><td>5</td><td>9.30</td><td>5</td><td>4</td><td>5</td><td>5</td></tr>\n",
       "\t<tr><th scope=row>2</th><td>New Zealand   </td><td>5</td><td> 99</td><td>4</td><td>77.8</td><td>4</td><td>84.23</td><td>5</td><td>9.61</td><td>5</td><td>4</td><td>4</td><td>5</td></tr>\n",
       "\t<tr><th scope=row>3</th><td>Sweden        </td><td>5</td><td> 99</td><td>4</td><td>77.5</td><td>5</td><td>88.15</td><td>5</td><td>9.39</td><td>5</td><td>4</td><td>5</td><td>5</td></tr>\n",
       "\t<tr><th scope=row>4</th><td>Norway        </td><td>5</td><td> 98</td><td>4</td><td>77.5</td><td>5</td><td>95.18</td><td>5</td><td>9.81</td><td>5</td><td>4</td><td>5</td><td>5</td></tr>\n",
       "\t<tr><th scope=row>5</th><td>Canada        </td><td>5</td><td> 97</td><td>4</td><td>72.4</td><td>4</td><td>83.53</td><td>5</td><td>8.69</td><td>5</td><td>4</td><td>4</td><td>5</td></tr>\n",
       "\t<tr><th scope=row>6</th><td>Denmark       </td><td>5</td><td> 97</td><td>4</td><td>77.8</td><td>5</td><td>89.48</td><td>5</td><td>9.28</td><td>5</td><td>4</td><td>5</td><td>5</td></tr>\n",
       "\t<tr><th scope=row>7</th><td>Ireland       </td><td>5</td><td> 97</td><td>5</td><td>82.6</td><td>5</td><td>89.91</td><td>5</td><td>9.19</td><td>5</td><td>5</td><td>5</td><td>5</td></tr>\n",
       "\t<tr><th scope=row>8</th><td>Luxembourg    </td><td>5</td><td> 97</td><td>4</td><td>79.2</td><td>4</td><td>81.98</td><td>5</td><td>8.81</td><td>5</td><td>4</td><td>4</td><td>5</td></tr>\n",
       "\t<tr><th scope=row>9</th><td>Netherlands   </td><td>5</td><td> 97</td><td>4</td><td>77.3</td><td>5</td><td>87.00</td><td>5</td><td>9.00</td><td>5</td><td>4</td><td>5</td><td>5</td></tr>\n",
       "\t<tr><th scope=row>11</th><td>Belgium       </td><td>5</td><td> 96</td><td>3</td><td>65.6</td><td>4</td><td>76.47</td><td>4</td><td>7.64</td><td>5</td><td>3</td><td>4</td><td>4</td></tr>\n",
       "\t<tr><th scope=row>12</th><td>Japan         </td><td>5</td><td> 96</td><td>3</td><td>67.5</td><td>3</td><td>63.95</td><td>5</td><td>8.40</td><td>5</td><td>3</td><td>3</td><td>5</td></tr>\n",
       "\t<tr><th scope=row>13</th><td>Portugal      </td><td>5</td><td> 96</td><td>3</td><td>68.7</td><td>4</td><td>84.60</td><td>4</td><td>7.75</td><td>5</td><td>3</td><td>4</td><td>4</td></tr>\n",
       "\t<tr><th scope=row>14</th><td>Slovenia      </td><td>5</td><td> 96</td><td>3</td><td>65.9</td><td>4</td><td>70.59</td><td>4</td><td>7.75</td><td>5</td><td>3</td><td>4</td><td>4</td></tr>\n",
       "\t<tr><th scope=row>15</th><td>Switzerland   </td><td>5</td><td> 96</td><td>5</td><td>83.0</td><td>4</td><td>84.40</td><td>5</td><td>9.14</td><td>5</td><td>5</td><td>4</td><td>5</td></tr>\n",
       "\t<tr><th scope=row>16</th><td>Uruguay       </td><td>5</td><td> 96</td><td>3</td><td>69.8</td><td>4</td><td>70.33</td><td>5</td><td>8.66</td><td>5</td><td>3</td><td>4</td><td>5</td></tr>\n",
       "\t<tr><th scope=row>17</th><td>Australia     </td><td>5</td><td> 95</td><td>4</td><td>76.2</td><td>4</td><td>78.24</td><td>5</td><td>8.66</td><td>5</td><td>4</td><td>4</td><td>5</td></tr>\n",
       "\t<tr><th scope=row>18</th><td>Estonia       </td><td>5</td><td> 95</td><td>4</td><td>77.8</td><td>5</td><td>85.31</td><td>4</td><td>7.96</td><td>5</td><td>4</td><td>5</td><td>4</td></tr>\n",
       "\t<tr><th scope=row>20</th><td>Chile         </td><td>5</td><td> 94</td><td>4</td><td>71.4</td><td>3</td><td>60.09</td><td>4</td><td>7.98</td><td>5</td><td>4</td><td>3</td><td>4</td></tr>\n",
       "\t<tr><th scope=row>21</th><td>Czechia       </td><td>5</td><td> 94</td><td>4</td><td>70.2</td><td>4</td><td>83.58</td><td>4</td><td>7.97</td><td>5</td><td>4</td><td>4</td><td>4</td></tr>\n",
       "\t<tr><th scope=row>22</th><td>Iceland       </td><td>5</td><td> 94</td><td>4</td><td>70.5</td><td>4</td><td>83.19</td><td>5</td><td>9.45</td><td>5</td><td>4</td><td>4</td><td>5</td></tr>\n",
       "\t<tr><th scope=row>23</th><td>Taiwan        </td><td>5</td><td> 94</td><td>5</td><td>80.0</td><td>4</td><td>75.54</td><td>5</td><td>8.92</td><td>5</td><td>5</td><td>4</td><td>5</td></tr>\n",
       "\t<tr><th scope=row>25</th><td>Austria       </td><td>5</td><td> 93</td><td>3</td><td>68.4</td><td>4</td><td>77.30</td><td>5</td><td>8.28</td><td>5</td><td>3</td><td>4</td><td>5</td></tr>\n",
       "\t<tr><th scope=row>27</th><td>Germany       </td><td>5</td><td> 93</td><td>4</td><td>72.1</td><td>4</td><td>81.91</td><td>5</td><td>8.80</td><td>5</td><td>4</td><td>4</td><td>5</td></tr>\n",
       "\t<tr><th scope=row>30</th><td>Cabo Verde    </td><td>5</td><td> 92</td><td>3</td><td>65.8</td><td>4</td><td>75.72</td><td>4</td><td>7.65</td><td>5</td><td>3</td><td>4</td><td>4</td></tr>\n",
       "\t<tr><th scope=row>31</th><td>Cyprus        </td><td>5</td><td> 92</td><td>4</td><td>72.2</td><td>3</td><td>68.62</td><td>4</td><td>7.38</td><td>5</td><td>4</td><td>3</td><td>4</td></tr>\n",
       "\t<tr><th scope=row>35</th><td>Costa Rica    </td><td>5</td><td> 91</td><td>3</td><td>67.7</td><td>4</td><td>80.20</td><td>5</td><td>8.29</td><td>5</td><td>3</td><td>4</td><td>5</td></tr>\n",
       "\t<tr><th scope=row>37</th><td>United Kingdom</td><td>5</td><td> 91</td><td>3</td><td>68.6</td><td>4</td><td>78.51</td><td>4</td><td>8.28</td><td>5</td><td>3</td><td>4</td><td>4</td></tr>\n",
       "\t<tr><th scope=row>38</th><td>Italy         </td><td>5</td><td> 90</td><td>3</td><td>60.1</td><td>4</td><td>72.05</td><td>4</td><td>7.69</td><td>5</td><td>3</td><td>4</td><td>4</td></tr>\n",
       "\t<tr><th scope=row>41</th><td>Slovakia      </td><td>5</td><td> 90</td><td>3</td><td>68.1</td><td>4</td><td>83.22</td><td>4</td><td>7.07</td><td>5</td><td>3</td><td>4</td><td>4</td></tr>\n",
       "\t<tr><th scope=row>42</th><td>Spain         </td><td>5</td><td> 90</td><td>3</td><td>63.3</td><td>4</td><td>75.37</td><td>5</td><td>8.07</td><td>5</td><td>3</td><td>4</td><td>5</td></tr>\n",
       "\t<tr><th scope=row>⋮</th><td>⋮</td><td>⋮</td><td>⋮</td><td>⋮</td><td>⋮</td><td>⋮</td><td>⋮</td><td>⋮</td><td>⋮</td><td>⋮</td><td>⋮</td><td>⋮</td><td>⋮</td></tr>\n",
       "\t<tr><th scope=row>161</th><td>Gabon                           </td><td>1</td><td>20</td><td>2</td><td>56.9</td><td>3</td><td>58.12</td><td>1</td><td>2.18</td><td>1</td><td>2</td><td>3</td><td>1</td></tr>\n",
       "\t<tr><th scope=row>162</th><td>Democratic Republic of the Congo</td><td>1</td><td>19</td><td>1</td><td>47.6</td><td>2</td><td>48.55</td><td>1</td><td>1.68</td><td>1</td><td>1</td><td>2</td><td>1</td></tr>\n",
       "\t<tr><th scope=row>163</th><td>Vietnam                         </td><td>1</td><td>19</td><td>3</td><td>62.8</td><td>1</td><td>24.58</td><td>1</td><td>2.62</td><td>1</td><td>3</td><td>1</td><td>1</td></tr>\n",
       "\t<tr><th scope=row>164</th><td>Egypt                           </td><td>1</td><td>18</td><td>1</td><td>49.7</td><td>1</td><td>33.37</td><td>1</td><td>2.93</td><td>1</td><td>1</td><td>1</td><td>1</td></tr>\n",
       "\t<tr><th scope=row>165</th><td>United Arab Emirates            </td><td>1</td><td>18</td><td>4</td><td>71.1</td><td>2</td><td>42.99</td><td>1</td><td>3.01</td><td>1</td><td>4</td><td>2</td><td>1</td></tr>\n",
       "\t<tr><th scope=row>166</th><td>Eswatini                        </td><td>1</td><td>17</td><td>2</td><td>55.6</td><td>2</td><td>52.66</td><td>1</td><td>2.78</td><td>1</td><td>2</td><td>2</td><td>1</td></tr>\n",
       "\t<tr><th scope=row>167</th><td>Republic of the Congo           </td><td>1</td><td>17</td><td>1</td><td>47.8</td><td>3</td><td>60.42</td><td>1</td><td>2.79</td><td>1</td><td>1</td><td>3</td><td>1</td></tr>\n",
       "\t<tr><th scope=row>168</th><td>Nicaragua                       </td><td>1</td><td>16</td><td>2</td><td>53.4</td><td>1</td><td>37.09</td><td>1</td><td>2.26</td><td>1</td><td>2</td><td>1</td><td>1</td></tr>\n",
       "\t<tr><th scope=row>169</th><td>Cameroon                        </td><td>1</td><td>15</td><td>2</td><td>53.6</td><td>2</td><td>45.58</td><td>1</td><td>2.56</td><td>1</td><td>2</td><td>2</td><td>1</td></tr>\n",
       "\t<tr><th scope=row>170</th><td>Chad                            </td><td>1</td><td>15</td><td>2</td><td>51.4</td><td>2</td><td>53.73</td><td>1</td><td>1.67</td><td>1</td><td>2</td><td>2</td><td>1</td></tr>\n",
       "\t<tr><th scope=row>171</th><td>Venezuela                       </td><td>1</td><td>15</td><td>1</td><td>28.1</td><td>1</td><td>36.99</td><td>1</td><td>2.31</td><td>1</td><td>1</td><td>1</td><td>1</td></tr>\n",
       "\t<tr><th scope=row>172</th><td>Burundi                         </td><td>1</td><td>14</td><td>1</td><td>38.4</td><td>2</td><td>52.14</td><td>1</td><td>2.13</td><td>1</td><td>1</td><td>2</td><td>1</td></tr>\n",
       "\t<tr><th scope=row>173</th><td>Laos                            </td><td>1</td><td>13</td><td>2</td><td>50.6</td><td>1</td><td>36.66</td><td>1</td><td>1.71</td><td>1</td><td>2</td><td>1</td><td>1</td></tr>\n",
       "\t<tr><th scope=row>174</th><td>Russia                          </td><td>1</td><td>13</td><td>2</td><td>52.0</td><td>1</td><td>34.77</td><td>2</td><td>2.22</td><td>1</td><td>2</td><td>1</td><td>2</td></tr>\n",
       "\t<tr><th scope=row>175</th><td>Bahrain                         </td><td>1</td><td>12</td><td>3</td><td>63.4</td><td>1</td><td>30.59</td><td>1</td><td>2.52</td><td>1</td><td>3</td><td>1</td><td>1</td></tr>\n",
       "\t<tr><th scope=row>176</th><td>Cuba                            </td><td>1</td><td>12</td><td>1</td><td>25.7</td><td>1</td><td>29.00</td><td>1</td><td>2.65</td><td>1</td><td>1</td><td>1</td><td>1</td></tr>\n",
       "\t<tr><th scope=row>177</th><td>Uzbekistan                      </td><td>1</td><td>12</td><td>2</td><td>55.9</td><td>2</td><td>45.73</td><td>1</td><td>2.12</td><td>1</td><td>2</td><td>2</td><td>1</td></tr>\n",
       "\t<tr><th scope=row>178</th><td>Iran                            </td><td>1</td><td>11</td><td>1</td><td>41.2</td><td>1</td><td>24.81</td><td>1</td><td>1.96</td><td>1</td><td>1</td><td>1</td><td>1</td></tr>\n",
       "\t<tr><th scope=row>180</th><td>China                           </td><td>1</td><td> 9</td><td>1</td><td>48.5</td><td>1</td><td>22.97</td><td>1</td><td>2.12</td><td>1</td><td>1</td><td>1</td><td>1</td></tr>\n",
       "\t<tr><th scope=row>182</th><td>Belarus                         </td><td>1</td><td> 8</td><td>1</td><td>48.4</td><td>1</td><td>37.17</td><td>1</td><td>1.99</td><td>1</td><td>1</td><td>1</td><td>1</td></tr>\n",
       "\t<tr><th scope=row>183</th><td>Burma                           </td><td>1</td><td> 8</td><td>1</td><td>42.2</td><td>1</td><td>28.26</td><td>1</td><td>0.85</td><td>1</td><td>1</td><td>1</td><td>1</td></tr>\n",
       "\t<tr><th scope=row>184</th><td>Saudi Arabia                    </td><td>1</td><td> 8</td><td>3</td><td>61.9</td><td>1</td><td>32.43</td><td>1</td><td>2.08</td><td>1</td><td>3</td><td>1</td><td>1</td></tr>\n",
       "\t<tr><th scope=row>186</th><td>Azerbaijan                      </td><td>1</td><td> 7</td><td>3</td><td>61.6</td><td>1</td><td>39.93</td><td>1</td><td>2.80</td><td>1</td><td>3</td><td>1</td><td>1</td></tr>\n",
       "\t<tr><th scope=row>188</th><td>Sudan                           </td><td>1</td><td> 6</td><td>1</td><td>33.9</td><td>2</td><td>40.83</td><td>1</td><td>1.76</td><td>1</td><td>1</td><td>2</td><td>1</td></tr>\n",
       "\t<tr><th scope=row>189</th><td>Central African Republic        </td><td>1</td><td> 5</td><td>1</td><td>41.3</td><td>3</td><td>57.56</td><td>1</td><td>1.18</td><td>1</td><td>1</td><td>3</td><td>1</td></tr>\n",
       "\t<tr><th scope=row>190</th><td>Equatorial Guinea               </td><td>1</td><td> 5</td><td>1</td><td>47.7</td><td>2</td><td>50.35</td><td>1</td><td>1.92</td><td>1</td><td>1</td><td>2</td><td>1</td></tr>\n",
       "\t<tr><th scope=row>191</th><td>Tajikistan                      </td><td>1</td><td> 5</td><td>2</td><td>51.3</td><td>1</td><td>39.06</td><td>1</td><td>1.94</td><td>1</td><td>2</td><td>1</td><td>1</td></tr>\n",
       "\t<tr><th scope=row>192</th><td>Eritrea                         </td><td>1</td><td> 3</td><td>1</td><td>39.5</td><td>1</td><td>27.86</td><td>1</td><td>1.97</td><td>1</td><td>1</td><td>1</td><td>1</td></tr>\n",
       "\t<tr><th scope=row>193</th><td>North Korea                     </td><td>1</td><td> 3</td><td>1</td><td> 2.9</td><td>1</td><td>21.72</td><td>1</td><td>1.08</td><td>1</td><td>1</td><td>1</td><td>1</td></tr>\n",
       "\t<tr><th scope=row>194</th><td>Turkmenistan                    </td><td>1</td><td> 2</td><td>1</td><td>46.3</td><td>1</td><td>25.82</td><td>1</td><td>1.66</td><td>1</td><td>1</td><td>1</td><td>1</td></tr>\n",
       "</tbody>\n",
       "</table>\n"
      ],
      "text/latex": [
       "A data.frame: 159 × 13\n",
       "\\begin{tabular}{r|lllllllllllll}\n",
       "  & country & world\\_level & world\\_score & economic\\_level & economic\\_score & press\\_level & press\\_score & democracy\\_level & democracy\\_score & world\\_label & economic\\_label & press\\_label & democracy\\_label\\\\\n",
       "  & <chr> & <dbl> & <dbl> & <dbl> & <dbl> & <dbl> & <dbl> & <dbl> & <dbl> & <dbl> & <dbl> & <dbl> & <dbl>\\\\\n",
       "\\hline\n",
       "\t1 & Finland        & 5 & 100 & 4 & 76.3 & 5 & 87.94 & 5 & 9.30 & 5 & 4 & 5 & 5\\\\\n",
       "\t2 & New Zealand    & 5 &  99 & 4 & 77.8 & 4 & 84.23 & 5 & 9.61 & 5 & 4 & 4 & 5\\\\\n",
       "\t3 & Sweden         & 5 &  99 & 4 & 77.5 & 5 & 88.15 & 5 & 9.39 & 5 & 4 & 5 & 5\\\\\n",
       "\t4 & Norway         & 5 &  98 & 4 & 77.5 & 5 & 95.18 & 5 & 9.81 & 5 & 4 & 5 & 5\\\\\n",
       "\t5 & Canada         & 5 &  97 & 4 & 72.4 & 4 & 83.53 & 5 & 8.69 & 5 & 4 & 4 & 5\\\\\n",
       "\t6 & Denmark        & 5 &  97 & 4 & 77.8 & 5 & 89.48 & 5 & 9.28 & 5 & 4 & 5 & 5\\\\\n",
       "\t7 & Ireland        & 5 &  97 & 5 & 82.6 & 5 & 89.91 & 5 & 9.19 & 5 & 5 & 5 & 5\\\\\n",
       "\t8 & Luxembourg     & 5 &  97 & 4 & 79.2 & 4 & 81.98 & 5 & 8.81 & 5 & 4 & 4 & 5\\\\\n",
       "\t9 & Netherlands    & 5 &  97 & 4 & 77.3 & 5 & 87.00 & 5 & 9.00 & 5 & 4 & 5 & 5\\\\\n",
       "\t11 & Belgium        & 5 &  96 & 3 & 65.6 & 4 & 76.47 & 4 & 7.64 & 5 & 3 & 4 & 4\\\\\n",
       "\t12 & Japan          & 5 &  96 & 3 & 67.5 & 3 & 63.95 & 5 & 8.40 & 5 & 3 & 3 & 5\\\\\n",
       "\t13 & Portugal       & 5 &  96 & 3 & 68.7 & 4 & 84.60 & 4 & 7.75 & 5 & 3 & 4 & 4\\\\\n",
       "\t14 & Slovenia       & 5 &  96 & 3 & 65.9 & 4 & 70.59 & 4 & 7.75 & 5 & 3 & 4 & 4\\\\\n",
       "\t15 & Switzerland    & 5 &  96 & 5 & 83.0 & 4 & 84.40 & 5 & 9.14 & 5 & 5 & 4 & 5\\\\\n",
       "\t16 & Uruguay        & 5 &  96 & 3 & 69.8 & 4 & 70.33 & 5 & 8.66 & 5 & 3 & 4 & 5\\\\\n",
       "\t17 & Australia      & 5 &  95 & 4 & 76.2 & 4 & 78.24 & 5 & 8.66 & 5 & 4 & 4 & 5\\\\\n",
       "\t18 & Estonia        & 5 &  95 & 4 & 77.8 & 5 & 85.31 & 4 & 7.96 & 5 & 4 & 5 & 4\\\\\n",
       "\t20 & Chile          & 5 &  94 & 4 & 71.4 & 3 & 60.09 & 4 & 7.98 & 5 & 4 & 3 & 4\\\\\n",
       "\t21 & Czechia        & 5 &  94 & 4 & 70.2 & 4 & 83.58 & 4 & 7.97 & 5 & 4 & 4 & 4\\\\\n",
       "\t22 & Iceland        & 5 &  94 & 4 & 70.5 & 4 & 83.19 & 5 & 9.45 & 5 & 4 & 4 & 5\\\\\n",
       "\t23 & Taiwan         & 5 &  94 & 5 & 80.0 & 4 & 75.54 & 5 & 8.92 & 5 & 5 & 4 & 5\\\\\n",
       "\t25 & Austria        & 5 &  93 & 3 & 68.4 & 4 & 77.30 & 5 & 8.28 & 5 & 3 & 4 & 5\\\\\n",
       "\t27 & Germany        & 5 &  93 & 4 & 72.1 & 4 & 81.91 & 5 & 8.80 & 5 & 4 & 4 & 5\\\\\n",
       "\t30 & Cabo Verde     & 5 &  92 & 3 & 65.8 & 4 & 75.72 & 4 & 7.65 & 5 & 3 & 4 & 4\\\\\n",
       "\t31 & Cyprus         & 5 &  92 & 4 & 72.2 & 3 & 68.62 & 4 & 7.38 & 5 & 4 & 3 & 4\\\\\n",
       "\t35 & Costa Rica     & 5 &  91 & 3 & 67.7 & 4 & 80.20 & 5 & 8.29 & 5 & 3 & 4 & 5\\\\\n",
       "\t37 & United Kingdom & 5 &  91 & 3 & 68.6 & 4 & 78.51 & 4 & 8.28 & 5 & 3 & 4 & 4\\\\\n",
       "\t38 & Italy          & 5 &  90 & 3 & 60.1 & 4 & 72.05 & 4 & 7.69 & 5 & 3 & 4 & 4\\\\\n",
       "\t41 & Slovakia       & 5 &  90 & 3 & 68.1 & 4 & 83.22 & 4 & 7.07 & 5 & 3 & 4 & 4\\\\\n",
       "\t42 & Spain          & 5 &  90 & 3 & 63.3 & 4 & 75.37 & 5 & 8.07 & 5 & 3 & 4 & 5\\\\\n",
       "\t⋮ & ⋮ & ⋮ & ⋮ & ⋮ & ⋮ & ⋮ & ⋮ & ⋮ & ⋮ & ⋮ & ⋮ & ⋮ & ⋮\\\\\n",
       "\t161 & Gabon                            & 1 & 20 & 2 & 56.9 & 3 & 58.12 & 1 & 2.18 & 1 & 2 & 3 & 1\\\\\n",
       "\t162 & Democratic Republic of the Congo & 1 & 19 & 1 & 47.6 & 2 & 48.55 & 1 & 1.68 & 1 & 1 & 2 & 1\\\\\n",
       "\t163 & Vietnam                          & 1 & 19 & 3 & 62.8 & 1 & 24.58 & 1 & 2.62 & 1 & 3 & 1 & 1\\\\\n",
       "\t164 & Egypt                            & 1 & 18 & 1 & 49.7 & 1 & 33.37 & 1 & 2.93 & 1 & 1 & 1 & 1\\\\\n",
       "\t165 & United Arab Emirates             & 1 & 18 & 4 & 71.1 & 2 & 42.99 & 1 & 3.01 & 1 & 4 & 2 & 1\\\\\n",
       "\t166 & Eswatini                         & 1 & 17 & 2 & 55.6 & 2 & 52.66 & 1 & 2.78 & 1 & 2 & 2 & 1\\\\\n",
       "\t167 & Republic of the Congo            & 1 & 17 & 1 & 47.8 & 3 & 60.42 & 1 & 2.79 & 1 & 1 & 3 & 1\\\\\n",
       "\t168 & Nicaragua                        & 1 & 16 & 2 & 53.4 & 1 & 37.09 & 1 & 2.26 & 1 & 2 & 1 & 1\\\\\n",
       "\t169 & Cameroon                         & 1 & 15 & 2 & 53.6 & 2 & 45.58 & 1 & 2.56 & 1 & 2 & 2 & 1\\\\\n",
       "\t170 & Chad                             & 1 & 15 & 2 & 51.4 & 2 & 53.73 & 1 & 1.67 & 1 & 2 & 2 & 1\\\\\n",
       "\t171 & Venezuela                        & 1 & 15 & 1 & 28.1 & 1 & 36.99 & 1 & 2.31 & 1 & 1 & 1 & 1\\\\\n",
       "\t172 & Burundi                          & 1 & 14 & 1 & 38.4 & 2 & 52.14 & 1 & 2.13 & 1 & 1 & 2 & 1\\\\\n",
       "\t173 & Laos                             & 1 & 13 & 2 & 50.6 & 1 & 36.66 & 1 & 1.71 & 1 & 2 & 1 & 1\\\\\n",
       "\t174 & Russia                           & 1 & 13 & 2 & 52.0 & 1 & 34.77 & 2 & 2.22 & 1 & 2 & 1 & 2\\\\\n",
       "\t175 & Bahrain                          & 1 & 12 & 3 & 63.4 & 1 & 30.59 & 1 & 2.52 & 1 & 3 & 1 & 1\\\\\n",
       "\t176 & Cuba                             & 1 & 12 & 1 & 25.7 & 1 & 29.00 & 1 & 2.65 & 1 & 1 & 1 & 1\\\\\n",
       "\t177 & Uzbekistan                       & 1 & 12 & 2 & 55.9 & 2 & 45.73 & 1 & 2.12 & 1 & 2 & 2 & 1\\\\\n",
       "\t178 & Iran                             & 1 & 11 & 1 & 41.2 & 1 & 24.81 & 1 & 1.96 & 1 & 1 & 1 & 1\\\\\n",
       "\t180 & China                            & 1 &  9 & 1 & 48.5 & 1 & 22.97 & 1 & 2.12 & 1 & 1 & 1 & 1\\\\\n",
       "\t182 & Belarus                          & 1 &  8 & 1 & 48.4 & 1 & 37.17 & 1 & 1.99 & 1 & 1 & 1 & 1\\\\\n",
       "\t183 & Burma                            & 1 &  8 & 1 & 42.2 & 1 & 28.26 & 1 & 0.85 & 1 & 1 & 1 & 1\\\\\n",
       "\t184 & Saudi Arabia                     & 1 &  8 & 3 & 61.9 & 1 & 32.43 & 1 & 2.08 & 1 & 3 & 1 & 1\\\\\n",
       "\t186 & Azerbaijan                       & 1 &  7 & 3 & 61.6 & 1 & 39.93 & 1 & 2.80 & 1 & 3 & 1 & 1\\\\\n",
       "\t188 & Sudan                            & 1 &  6 & 1 & 33.9 & 2 & 40.83 & 1 & 1.76 & 1 & 1 & 2 & 1\\\\\n",
       "\t189 & Central African Republic         & 1 &  5 & 1 & 41.3 & 3 & 57.56 & 1 & 1.18 & 1 & 1 & 3 & 1\\\\\n",
       "\t190 & Equatorial Guinea                & 1 &  5 & 1 & 47.7 & 2 & 50.35 & 1 & 1.92 & 1 & 1 & 2 & 1\\\\\n",
       "\t191 & Tajikistan                       & 1 &  5 & 2 & 51.3 & 1 & 39.06 & 1 & 1.94 & 1 & 2 & 1 & 1\\\\\n",
       "\t192 & Eritrea                          & 1 &  3 & 1 & 39.5 & 1 & 27.86 & 1 & 1.97 & 1 & 1 & 1 & 1\\\\\n",
       "\t193 & North Korea                      & 1 &  3 & 1 &  2.9 & 1 & 21.72 & 1 & 1.08 & 1 & 1 & 1 & 1\\\\\n",
       "\t194 & Turkmenistan                     & 1 &  2 & 1 & 46.3 & 1 & 25.82 & 1 & 1.66 & 1 & 1 & 1 & 1\\\\\n",
       "\\end{tabular}\n"
      ],
      "text/markdown": [
       "\n",
       "A data.frame: 159 × 13\n",
       "\n",
       "| <!--/--> | country &lt;chr&gt; | world_level &lt;dbl&gt; | world_score &lt;dbl&gt; | economic_level &lt;dbl&gt; | economic_score &lt;dbl&gt; | press_level &lt;dbl&gt; | press_score &lt;dbl&gt; | democracy_level &lt;dbl&gt; | democracy_score &lt;dbl&gt; | world_label &lt;dbl&gt; | economic_label &lt;dbl&gt; | press_label &lt;dbl&gt; | democracy_label &lt;dbl&gt; |\n",
       "|---|---|---|---|---|---|---|---|---|---|---|---|---|---|\n",
       "| 1 | Finland        | 5 | 100 | 4 | 76.3 | 5 | 87.94 | 5 | 9.30 | 5 | 4 | 5 | 5 |\n",
       "| 2 | New Zealand    | 5 |  99 | 4 | 77.8 | 4 | 84.23 | 5 | 9.61 | 5 | 4 | 4 | 5 |\n",
       "| 3 | Sweden         | 5 |  99 | 4 | 77.5 | 5 | 88.15 | 5 | 9.39 | 5 | 4 | 5 | 5 |\n",
       "| 4 | Norway         | 5 |  98 | 4 | 77.5 | 5 | 95.18 | 5 | 9.81 | 5 | 4 | 5 | 5 |\n",
       "| 5 | Canada         | 5 |  97 | 4 | 72.4 | 4 | 83.53 | 5 | 8.69 | 5 | 4 | 4 | 5 |\n",
       "| 6 | Denmark        | 5 |  97 | 4 | 77.8 | 5 | 89.48 | 5 | 9.28 | 5 | 4 | 5 | 5 |\n",
       "| 7 | Ireland        | 5 |  97 | 5 | 82.6 | 5 | 89.91 | 5 | 9.19 | 5 | 5 | 5 | 5 |\n",
       "| 8 | Luxembourg     | 5 |  97 | 4 | 79.2 | 4 | 81.98 | 5 | 8.81 | 5 | 4 | 4 | 5 |\n",
       "| 9 | Netherlands    | 5 |  97 | 4 | 77.3 | 5 | 87.00 | 5 | 9.00 | 5 | 4 | 5 | 5 |\n",
       "| 11 | Belgium        | 5 |  96 | 3 | 65.6 | 4 | 76.47 | 4 | 7.64 | 5 | 3 | 4 | 4 |\n",
       "| 12 | Japan          | 5 |  96 | 3 | 67.5 | 3 | 63.95 | 5 | 8.40 | 5 | 3 | 3 | 5 |\n",
       "| 13 | Portugal       | 5 |  96 | 3 | 68.7 | 4 | 84.60 | 4 | 7.75 | 5 | 3 | 4 | 4 |\n",
       "| 14 | Slovenia       | 5 |  96 | 3 | 65.9 | 4 | 70.59 | 4 | 7.75 | 5 | 3 | 4 | 4 |\n",
       "| 15 | Switzerland    | 5 |  96 | 5 | 83.0 | 4 | 84.40 | 5 | 9.14 | 5 | 5 | 4 | 5 |\n",
       "| 16 | Uruguay        | 5 |  96 | 3 | 69.8 | 4 | 70.33 | 5 | 8.66 | 5 | 3 | 4 | 5 |\n",
       "| 17 | Australia      | 5 |  95 | 4 | 76.2 | 4 | 78.24 | 5 | 8.66 | 5 | 4 | 4 | 5 |\n",
       "| 18 | Estonia        | 5 |  95 | 4 | 77.8 | 5 | 85.31 | 4 | 7.96 | 5 | 4 | 5 | 4 |\n",
       "| 20 | Chile          | 5 |  94 | 4 | 71.4 | 3 | 60.09 | 4 | 7.98 | 5 | 4 | 3 | 4 |\n",
       "| 21 | Czechia        | 5 |  94 | 4 | 70.2 | 4 | 83.58 | 4 | 7.97 | 5 | 4 | 4 | 4 |\n",
       "| 22 | Iceland        | 5 |  94 | 4 | 70.5 | 4 | 83.19 | 5 | 9.45 | 5 | 4 | 4 | 5 |\n",
       "| 23 | Taiwan         | 5 |  94 | 5 | 80.0 | 4 | 75.54 | 5 | 8.92 | 5 | 5 | 4 | 5 |\n",
       "| 25 | Austria        | 5 |  93 | 3 | 68.4 | 4 | 77.30 | 5 | 8.28 | 5 | 3 | 4 | 5 |\n",
       "| 27 | Germany        | 5 |  93 | 4 | 72.1 | 4 | 81.91 | 5 | 8.80 | 5 | 4 | 4 | 5 |\n",
       "| 30 | Cabo Verde     | 5 |  92 | 3 | 65.8 | 4 | 75.72 | 4 | 7.65 | 5 | 3 | 4 | 4 |\n",
       "| 31 | Cyprus         | 5 |  92 | 4 | 72.2 | 3 | 68.62 | 4 | 7.38 | 5 | 4 | 3 | 4 |\n",
       "| 35 | Costa Rica     | 5 |  91 | 3 | 67.7 | 4 | 80.20 | 5 | 8.29 | 5 | 3 | 4 | 5 |\n",
       "| 37 | United Kingdom | 5 |  91 | 3 | 68.6 | 4 | 78.51 | 4 | 8.28 | 5 | 3 | 4 | 4 |\n",
       "| 38 | Italy          | 5 |  90 | 3 | 60.1 | 4 | 72.05 | 4 | 7.69 | 5 | 3 | 4 | 4 |\n",
       "| 41 | Slovakia       | 5 |  90 | 3 | 68.1 | 4 | 83.22 | 4 | 7.07 | 5 | 3 | 4 | 4 |\n",
       "| 42 | Spain          | 5 |  90 | 3 | 63.3 | 4 | 75.37 | 5 | 8.07 | 5 | 3 | 4 | 5 |\n",
       "| ⋮ | ⋮ | ⋮ | ⋮ | ⋮ | ⋮ | ⋮ | ⋮ | ⋮ | ⋮ | ⋮ | ⋮ | ⋮ | ⋮ |\n",
       "| 161 | Gabon                            | 1 | 20 | 2 | 56.9 | 3 | 58.12 | 1 | 2.18 | 1 | 2 | 3 | 1 |\n",
       "| 162 | Democratic Republic of the Congo | 1 | 19 | 1 | 47.6 | 2 | 48.55 | 1 | 1.68 | 1 | 1 | 2 | 1 |\n",
       "| 163 | Vietnam                          | 1 | 19 | 3 | 62.8 | 1 | 24.58 | 1 | 2.62 | 1 | 3 | 1 | 1 |\n",
       "| 164 | Egypt                            | 1 | 18 | 1 | 49.7 | 1 | 33.37 | 1 | 2.93 | 1 | 1 | 1 | 1 |\n",
       "| 165 | United Arab Emirates             | 1 | 18 | 4 | 71.1 | 2 | 42.99 | 1 | 3.01 | 1 | 4 | 2 | 1 |\n",
       "| 166 | Eswatini                         | 1 | 17 | 2 | 55.6 | 2 | 52.66 | 1 | 2.78 | 1 | 2 | 2 | 1 |\n",
       "| 167 | Republic of the Congo            | 1 | 17 | 1 | 47.8 | 3 | 60.42 | 1 | 2.79 | 1 | 1 | 3 | 1 |\n",
       "| 168 | Nicaragua                        | 1 | 16 | 2 | 53.4 | 1 | 37.09 | 1 | 2.26 | 1 | 2 | 1 | 1 |\n",
       "| 169 | Cameroon                         | 1 | 15 | 2 | 53.6 | 2 | 45.58 | 1 | 2.56 | 1 | 2 | 2 | 1 |\n",
       "| 170 | Chad                             | 1 | 15 | 2 | 51.4 | 2 | 53.73 | 1 | 1.67 | 1 | 2 | 2 | 1 |\n",
       "| 171 | Venezuela                        | 1 | 15 | 1 | 28.1 | 1 | 36.99 | 1 | 2.31 | 1 | 1 | 1 | 1 |\n",
       "| 172 | Burundi                          | 1 | 14 | 1 | 38.4 | 2 | 52.14 | 1 | 2.13 | 1 | 1 | 2 | 1 |\n",
       "| 173 | Laos                             | 1 | 13 | 2 | 50.6 | 1 | 36.66 | 1 | 1.71 | 1 | 2 | 1 | 1 |\n",
       "| 174 | Russia                           | 1 | 13 | 2 | 52.0 | 1 | 34.77 | 2 | 2.22 | 1 | 2 | 1 | 2 |\n",
       "| 175 | Bahrain                          | 1 | 12 | 3 | 63.4 | 1 | 30.59 | 1 | 2.52 | 1 | 3 | 1 | 1 |\n",
       "| 176 | Cuba                             | 1 | 12 | 1 | 25.7 | 1 | 29.00 | 1 | 2.65 | 1 | 1 | 1 | 1 |\n",
       "| 177 | Uzbekistan                       | 1 | 12 | 2 | 55.9 | 2 | 45.73 | 1 | 2.12 | 1 | 2 | 2 | 1 |\n",
       "| 178 | Iran                             | 1 | 11 | 1 | 41.2 | 1 | 24.81 | 1 | 1.96 | 1 | 1 | 1 | 1 |\n",
       "| 180 | China                            | 1 |  9 | 1 | 48.5 | 1 | 22.97 | 1 | 2.12 | 1 | 1 | 1 | 1 |\n",
       "| 182 | Belarus                          | 1 |  8 | 1 | 48.4 | 1 | 37.17 | 1 | 1.99 | 1 | 1 | 1 | 1 |\n",
       "| 183 | Burma                            | 1 |  8 | 1 | 42.2 | 1 | 28.26 | 1 | 0.85 | 1 | 1 | 1 | 1 |\n",
       "| 184 | Saudi Arabia                     | 1 |  8 | 3 | 61.9 | 1 | 32.43 | 1 | 2.08 | 1 | 3 | 1 | 1 |\n",
       "| 186 | Azerbaijan                       | 1 |  7 | 3 | 61.6 | 1 | 39.93 | 1 | 2.80 | 1 | 3 | 1 | 1 |\n",
       "| 188 | Sudan                            | 1 |  6 | 1 | 33.9 | 2 | 40.83 | 1 | 1.76 | 1 | 1 | 2 | 1 |\n",
       "| 189 | Central African Republic         | 1 |  5 | 1 | 41.3 | 3 | 57.56 | 1 | 1.18 | 1 | 1 | 3 | 1 |\n",
       "| 190 | Equatorial Guinea                | 1 |  5 | 1 | 47.7 | 2 | 50.35 | 1 | 1.92 | 1 | 1 | 2 | 1 |\n",
       "| 191 | Tajikistan                       | 1 |  5 | 2 | 51.3 | 1 | 39.06 | 1 | 1.94 | 1 | 2 | 1 | 1 |\n",
       "| 192 | Eritrea                          | 1 |  3 | 1 | 39.5 | 1 | 27.86 | 1 | 1.97 | 1 | 1 | 1 | 1 |\n",
       "| 193 | North Korea                      | 1 |  3 | 1 |  2.9 | 1 | 21.72 | 1 | 1.08 | 1 | 1 | 1 | 1 |\n",
       "| 194 | Turkmenistan                     | 1 |  2 | 1 | 46.3 | 1 | 25.82 | 1 | 1.66 | 1 | 1 | 1 | 1 |\n",
       "\n"
      ],
      "text/plain": [
       "    country                          world_level world_score economic_level\n",
       "1   Finland                          5           100         4             \n",
       "2   New Zealand                      5            99         4             \n",
       "3   Sweden                           5            99         4             \n",
       "4   Norway                           5            98         4             \n",
       "5   Canada                           5            97         4             \n",
       "6   Denmark                          5            97         4             \n",
       "7   Ireland                          5            97         5             \n",
       "8   Luxembourg                       5            97         4             \n",
       "9   Netherlands                      5            97         4             \n",
       "11  Belgium                          5            96         3             \n",
       "12  Japan                            5            96         3             \n",
       "13  Portugal                         5            96         3             \n",
       "14  Slovenia                         5            96         3             \n",
       "15  Switzerland                      5            96         5             \n",
       "16  Uruguay                          5            96         3             \n",
       "17  Australia                        5            95         4             \n",
       "18  Estonia                          5            95         4             \n",
       "20  Chile                            5            94         4             \n",
       "21  Czechia                          5            94         4             \n",
       "22  Iceland                          5            94         4             \n",
       "23  Taiwan                           5            94         5             \n",
       "25  Austria                          5            93         3             \n",
       "27  Germany                          5            93         4             \n",
       "30  Cabo Verde                       5            92         3             \n",
       "31  Cyprus                           5            92         4             \n",
       "35  Costa Rica                       5            91         3             \n",
       "37  United Kingdom                   5            91         3             \n",
       "38  Italy                            5            90         3             \n",
       "41  Slovakia                         5            90         3             \n",
       "42  Spain                            5            90         3             \n",
       "⋮   ⋮                                ⋮           ⋮           ⋮             \n",
       "161 Gabon                            1           20          2             \n",
       "162 Democratic Republic of the Congo 1           19          1             \n",
       "163 Vietnam                          1           19          3             \n",
       "164 Egypt                            1           18          1             \n",
       "165 United Arab Emirates             1           18          4             \n",
       "166 Eswatini                         1           17          2             \n",
       "167 Republic of the Congo            1           17          1             \n",
       "168 Nicaragua                        1           16          2             \n",
       "169 Cameroon                         1           15          2             \n",
       "170 Chad                             1           15          2             \n",
       "171 Venezuela                        1           15          1             \n",
       "172 Burundi                          1           14          1             \n",
       "173 Laos                             1           13          2             \n",
       "174 Russia                           1           13          2             \n",
       "175 Bahrain                          1           12          3             \n",
       "176 Cuba                             1           12          1             \n",
       "177 Uzbekistan                       1           12          2             \n",
       "178 Iran                             1           11          1             \n",
       "180 China                            1            9          1             \n",
       "182 Belarus                          1            8          1             \n",
       "183 Burma                            1            8          1             \n",
       "184 Saudi Arabia                     1            8          3             \n",
       "186 Azerbaijan                       1            7          3             \n",
       "188 Sudan                            1            6          1             \n",
       "189 Central African Republic         1            5          1             \n",
       "190 Equatorial Guinea                1            5          1             \n",
       "191 Tajikistan                       1            5          2             \n",
       "192 Eritrea                          1            3          1             \n",
       "193 North Korea                      1            3          1             \n",
       "194 Turkmenistan                     1            2          1             \n",
       "    economic_score press_level press_score democracy_level democracy_score\n",
       "1   76.3           5           87.94       5               9.30           \n",
       "2   77.8           4           84.23       5               9.61           \n",
       "3   77.5           5           88.15       5               9.39           \n",
       "4   77.5           5           95.18       5               9.81           \n",
       "5   72.4           4           83.53       5               8.69           \n",
       "6   77.8           5           89.48       5               9.28           \n",
       "7   82.6           5           89.91       5               9.19           \n",
       "8   79.2           4           81.98       5               8.81           \n",
       "9   77.3           5           87.00       5               9.00           \n",
       "11  65.6           4           76.47       4               7.64           \n",
       "12  67.5           3           63.95       5               8.40           \n",
       "13  68.7           4           84.60       4               7.75           \n",
       "14  65.9           4           70.59       4               7.75           \n",
       "15  83.0           4           84.40       5               9.14           \n",
       "16  69.8           4           70.33       5               8.66           \n",
       "17  76.2           4           78.24       5               8.66           \n",
       "18  77.8           5           85.31       4               7.96           \n",
       "20  71.4           3           60.09       4               7.98           \n",
       "21  70.2           4           83.58       4               7.97           \n",
       "22  70.5           4           83.19       5               9.45           \n",
       "23  80.0           4           75.54       5               8.92           \n",
       "25  68.4           4           77.30       5               8.28           \n",
       "27  72.1           4           81.91       5               8.80           \n",
       "30  65.8           4           75.72       4               7.65           \n",
       "31  72.2           3           68.62       4               7.38           \n",
       "35  67.7           4           80.20       5               8.29           \n",
       "37  68.6           4           78.51       4               8.28           \n",
       "38  60.1           4           72.05       4               7.69           \n",
       "41  68.1           4           83.22       4               7.07           \n",
       "42  63.3           4           75.37       5               8.07           \n",
       "⋮   ⋮              ⋮           ⋮           ⋮               ⋮              \n",
       "161 56.9           3           58.12       1               2.18           \n",
       "162 47.6           2           48.55       1               1.68           \n",
       "163 62.8           1           24.58       1               2.62           \n",
       "164 49.7           1           33.37       1               2.93           \n",
       "165 71.1           2           42.99       1               3.01           \n",
       "166 55.6           2           52.66       1               2.78           \n",
       "167 47.8           3           60.42       1               2.79           \n",
       "168 53.4           1           37.09       1               2.26           \n",
       "169 53.6           2           45.58       1               2.56           \n",
       "170 51.4           2           53.73       1               1.67           \n",
       "171 28.1           1           36.99       1               2.31           \n",
       "172 38.4           2           52.14       1               2.13           \n",
       "173 50.6           1           36.66       1               1.71           \n",
       "174 52.0           1           34.77       2               2.22           \n",
       "175 63.4           1           30.59       1               2.52           \n",
       "176 25.7           1           29.00       1               2.65           \n",
       "177 55.9           2           45.73       1               2.12           \n",
       "178 41.2           1           24.81       1               1.96           \n",
       "180 48.5           1           22.97       1               2.12           \n",
       "182 48.4           1           37.17       1               1.99           \n",
       "183 42.2           1           28.26       1               0.85           \n",
       "184 61.9           1           32.43       1               2.08           \n",
       "186 61.6           1           39.93       1               2.80           \n",
       "188 33.9           2           40.83       1               1.76           \n",
       "189 41.3           3           57.56       1               1.18           \n",
       "190 47.7           2           50.35       1               1.92           \n",
       "191 51.3           1           39.06       1               1.94           \n",
       "192 39.5           1           27.86       1               1.97           \n",
       "193  2.9           1           21.72       1               1.08           \n",
       "194 46.3           1           25.82       1               1.66           \n",
       "    world_label economic_label press_label democracy_label\n",
       "1   5           4              5           5              \n",
       "2   5           4              4           5              \n",
       "3   5           4              5           5              \n",
       "4   5           4              5           5              \n",
       "5   5           4              4           5              \n",
       "6   5           4              5           5              \n",
       "7   5           5              5           5              \n",
       "8   5           4              4           5              \n",
       "9   5           4              5           5              \n",
       "11  5           3              4           4              \n",
       "12  5           3              3           5              \n",
       "13  5           3              4           4              \n",
       "14  5           3              4           4              \n",
       "15  5           5              4           5              \n",
       "16  5           3              4           5              \n",
       "17  5           4              4           5              \n",
       "18  5           4              5           4              \n",
       "20  5           4              3           4              \n",
       "21  5           4              4           4              \n",
       "22  5           4              4           5              \n",
       "23  5           5              4           5              \n",
       "25  5           3              4           5              \n",
       "27  5           4              4           5              \n",
       "30  5           3              4           4              \n",
       "31  5           4              3           4              \n",
       "35  5           3              4           5              \n",
       "37  5           3              4           4              \n",
       "38  5           3              4           4              \n",
       "41  5           3              4           4              \n",
       "42  5           3              4           5              \n",
       "⋮   ⋮           ⋮              ⋮           ⋮              \n",
       "161 1           2              3           1              \n",
       "162 1           1              2           1              \n",
       "163 1           3              1           1              \n",
       "164 1           1              1           1              \n",
       "165 1           4              2           1              \n",
       "166 1           2              2           1              \n",
       "167 1           1              3           1              \n",
       "168 1           2              1           1              \n",
       "169 1           2              2           1              \n",
       "170 1           2              2           1              \n",
       "171 1           1              1           1              \n",
       "172 1           1              2           1              \n",
       "173 1           2              1           1              \n",
       "174 1           2              1           2              \n",
       "175 1           3              1           1              \n",
       "176 1           1              1           1              \n",
       "177 1           2              2           1              \n",
       "178 1           1              1           1              \n",
       "180 1           1              1           1              \n",
       "182 1           1              1           1              \n",
       "183 1           1              1           1              \n",
       "184 1           3              1           1              \n",
       "186 1           3              1           1              \n",
       "188 1           1              2           1              \n",
       "189 1           1              3           1              \n",
       "190 1           1              2           1              \n",
       "191 1           2              1           1              \n",
       "192 1           1              1           1              \n",
       "193 1           1              1           1              \n",
       "194 1           1              1           1              "
      ]
     },
     "metadata": {},
     "output_type": "display_data"
    }
   ],
   "source": [
    "# copy the previous values\n",
    "freedom[someRenamed]=freedom[,allCatCols]\n",
    "freedom"
   ]
  },
  {
   "cell_type": "code",
   "execution_count": 95,
   "metadata": {
    "colab": {
     "base_uri": "https://localhost:8080/",
     "height": 191
    },
    "id": "xLw7HFuS08X6",
    "outputId": "fbc80d5d-f366-4b32-bc3e-031e12cb0882",
    "scrolled": true
   },
   "outputs": [
    {
     "data": {
      "text/html": [
       "\n",
       "<details>\n",
       "\t<summary style=display:list-item;cursor:pointer>\n",
       "\t\t<strong>Levels</strong>:\n",
       "\t</summary>\n",
       "\t<style>\n",
       "\t.list-inline {list-style: none; margin:0; padding: 0}\n",
       "\t.list-inline>li {display: inline-block}\n",
       "\t.list-inline>li:not(:last-child)::after {content: \"\\00b7\"; padding: 0 .5ex}\n",
       "\t</style>\n",
       "\t<ol class=list-inline><li>'1_veryLow'</li><li>'2_low'</li><li>'3_medium'</li><li>'4_good'</li><li>'5_veryGood'</li></ol>\n",
       "</details>"
      ],
      "text/latex": [
       "\n",
       "\\emph{Levels}: \\begin{enumerate*}\n",
       "\\item '1\\_veryLow'\n",
       "\\item '2\\_low'\n",
       "\\item '3\\_medium'\n",
       "\\item '4\\_good'\n",
       "\\item '5\\_veryGood'\n",
       "\\end{enumerate*}\n"
      ],
      "text/markdown": [
       "\n",
       "**Levels**: 1. '1_veryLow'\n",
       "2. '2_low'\n",
       "3. '3_medium'\n",
       "4. '4_good'\n",
       "5. '5_veryGood'\n",
       "\n",
       "\n"
      ],
      "text/plain": [
       "ordered()\n",
       "Levels: 1_veryLow < 2_low < 3_medium < 4_good < 5_veryGood"
      ]
     },
     "metadata": {},
     "output_type": "display_data"
    }
   ],
   "source": [
    "#one column\n",
    "\n",
    "factor(freedom$Democracy_label, levels = seq(1,5),labels = c('1_veryLow','2_low','3_medium','4_good','5_veryGood'),ordered = TRUE)"
   ]
  },
  {
   "cell_type": "code",
   "execution_count": 96,
   "metadata": {
    "colab": {
     "base_uri": "https://localhost:8080/",
     "height": 844
    },
    "id": "g7grR73B08X6",
    "outputId": "71fee0f4-479d-4556-ab55-923270a37d7e"
   },
   "outputs": [
    {
     "data": {
      "text/html": [
       "<dl>\n",
       "\t<dt>$world_label</dt>\n",
       "\t\t<dd><style>\n",
       ".list-inline {list-style: none; margin:0; padding: 0}\n",
       ".list-inline>li {display: inline-block}\n",
       ".list-inline>li:not(:last-child)::after {content: \"\\00b7\"; padding: 0 .5ex}\n",
       "</style>\n",
       "<ol class=list-inline><li>5_veryGood</li><li>5_veryGood</li><li>5_veryGood</li><li>5_veryGood</li><li>5_veryGood</li><li>5_veryGood</li><li>5_veryGood</li><li>5_veryGood</li><li>5_veryGood</li><li>5_veryGood</li><li>5_veryGood</li><li>5_veryGood</li><li>5_veryGood</li><li>5_veryGood</li><li>5_veryGood</li><li>5_veryGood</li><li>5_veryGood</li><li>5_veryGood</li><li>5_veryGood</li><li>5_veryGood</li><li>5_veryGood</li><li>5_veryGood</li><li>5_veryGood</li><li>5_veryGood</li><li>5_veryGood</li><li>5_veryGood</li><li>5_veryGood</li><li>5_veryGood</li><li>5_veryGood</li><li>5_veryGood</li><li>5_veryGood</li><li>5_veryGood</li><li>5_veryGood</li><li>5_veryGood</li><li>5_veryGood</li><li>5_veryGood</li><li>5_veryGood</li><li>5_veryGood</li><li>5_veryGood</li><li>5_veryGood</li><li>5_veryGood</li><li>5_veryGood</li><li>5_veryGood</li><li>5_veryGood</li><li>5_veryGood</li><li>5_veryGood</li><li>5_veryGood</li><li>5_veryGood</li><li>5_veryGood</li><li>5_veryGood</li><li>5_veryGood</li><li>5_veryGood</li><li>5_veryGood</li><li>5_veryGood</li><li>5_veryGood</li><li>5_veryGood</li><li>5_veryGood</li><li>3_medium</li><li>3_medium</li><li>3_medium</li><li>3_medium</li><li>3_medium</li><li>3_medium</li><li>3_medium</li><li>3_medium</li><li>3_medium</li><li>5_veryGood</li><li>3_medium</li><li>3_medium</li><li>3_medium</li><li>3_medium</li><li>3_medium</li><li>3_medium</li><li>3_medium</li><li>3_medium</li><li>3_medium</li><li>3_medium</li><li>3_medium</li><li>3_medium</li><li>3_medium</li><li>3_medium</li><li>3_medium</li><li>3_medium</li><li>3_medium</li><li>3_medium</li><li>3_medium</li><li>3_medium</li><li>3_medium</li><li>3_medium</li><li>3_medium</li><li>3_medium</li><li>3_medium</li><li>3_medium</li><li>3_medium</li><li>3_medium</li><li>3_medium</li><li>3_medium</li><li>3_medium</li><li>3_medium</li><li>3_medium</li><li>3_medium</li><li>3_medium</li><li>3_medium</li><li>3_medium</li><li>3_medium</li><li>3_medium</li><li>3_medium</li><li>3_medium</li><li>3_medium</li><li>3_medium</li><li>1_veryLow</li><li>1_veryLow</li><li>1_veryLow</li><li>1_veryLow</li><li>1_veryLow</li><li>1_veryLow</li><li>1_veryLow</li><li>1_veryLow</li><li>1_veryLow</li><li>1_veryLow</li><li>1_veryLow</li><li>1_veryLow</li><li>1_veryLow</li><li>1_veryLow</li><li>1_veryLow</li><li>1_veryLow</li><li>1_veryLow</li><li>1_veryLow</li><li>1_veryLow</li><li>1_veryLow</li><li>1_veryLow</li><li>1_veryLow</li><li>1_veryLow</li><li>1_veryLow</li><li>1_veryLow</li><li>1_veryLow</li><li>1_veryLow</li><li>1_veryLow</li><li>1_veryLow</li><li>1_veryLow</li><li>1_veryLow</li><li>1_veryLow</li><li>1_veryLow</li><li>1_veryLow</li><li>1_veryLow</li><li>1_veryLow</li><li>1_veryLow</li><li>1_veryLow</li><li>1_veryLow</li><li>1_veryLow</li><li>1_veryLow</li><li>1_veryLow</li><li>1_veryLow</li><li>1_veryLow</li><li>1_veryLow</li><li>1_veryLow</li><li>1_veryLow</li><li>1_veryLow</li><li>1_veryLow</li></ol>\n",
       "\n",
       "<details>\n",
       "\t<summary style=display:list-item;cursor:pointer>\n",
       "\t\t<strong>Levels</strong>:\n",
       "\t</summary>\n",
       "\t<style>\n",
       "\t.list-inline {list-style: none; margin:0; padding: 0}\n",
       "\t.list-inline>li {display: inline-block}\n",
       "\t.list-inline>li:not(:last-child)::after {content: \"\\00b7\"; padding: 0 .5ex}\n",
       "\t</style>\n",
       "\t<ol class=list-inline><li>'1_veryLow'</li><li>'2_low'</li><li>'3_medium'</li><li>'4_good'</li><li>'5_veryGood'</li></ol>\n",
       "</details></dd>\n",
       "\t<dt>$economic_label</dt>\n",
       "\t\t<dd><style>\n",
       ".list-inline {list-style: none; margin:0; padding: 0}\n",
       ".list-inline>li {display: inline-block}\n",
       ".list-inline>li:not(:last-child)::after {content: \"\\00b7\"; padding: 0 .5ex}\n",
       "</style>\n",
       "<ol class=list-inline><li>4_good</li><li>4_good</li><li>4_good</li><li>4_good</li><li>4_good</li><li>4_good</li><li>5_veryGood</li><li>4_good</li><li>4_good</li><li>3_medium</li><li>3_medium</li><li>3_medium</li><li>3_medium</li><li>5_veryGood</li><li>3_medium</li><li>4_good</li><li>4_good</li><li>4_good</li><li>4_good</li><li>4_good</li><li>5_veryGood</li><li>3_medium</li><li>4_good</li><li>3_medium</li><li>4_good</li><li>3_medium</li><li>3_medium</li><li>3_medium</li><li>3_medium</li><li>3_medium</li><li>3_medium</li><li>4_good</li><li>4_good</li><li>3_medium</li><li>1_veryLow</li><li>2_low</li><li>4_good</li><li>3_medium</li><li>3_medium</li><li>3_medium</li><li>3_medium</li><li>4_good</li><li>4_good</li><li>3_medium</li><li>2_low</li><li>3_medium</li><li>3_medium</li><li>2_low</li><li>1_veryLow</li><li>3_medium</li><li>2_low</li><li>4_good</li><li>2_low</li><li>3_medium</li><li>2_low</li><li>2_low</li><li>2_low</li><li>2_low</li><li>3_medium</li><li>3_medium</li><li>2_low</li><li>3_medium</li><li>2_low</li><li>1_veryLow</li><li>2_low</li><li>2_low</li><li>2_low</li><li>2_low</li><li>3_medium</li><li>3_medium</li><li>1_veryLow</li><li>2_low</li><li>3_medium</li><li>2_low</li><li>2_low</li><li>2_low</li><li>1_veryLow</li><li>3_medium</li><li>1_veryLow</li><li>3_medium</li><li>2_low</li><li>2_low</li><li>3_medium</li><li>3_medium</li><li>3_medium</li><li>1_veryLow</li><li>1_veryLow</li><li>2_low</li><li>3_medium</li><li>2_low</li><li>3_medium</li><li>1_veryLow</li><li>2_low</li><li>2_low</li><li>2_low</li><li>5_veryGood</li><li>3_medium</li><li>2_low</li><li>2_low</li><li>1_veryLow</li><li>2_low</li><li>1_veryLow</li><li>2_low</li><li>2_low</li><li>2_low</li><li>2_low</li><li>2_low</li><li>2_low</li><li>2_low</li><li>1_veryLow</li><li>2_low</li><li>2_low</li><li>2_low</li><li>2_low</li><li>1_veryLow</li><li>2_low</li><li>1_veryLow</li><li>2_low</li><li>2_low</li><li>2_low</li><li>1_veryLow</li><li>2_low</li><li>3_medium</li><li>2_low</li><li>3_medium</li><li>2_low</li><li>3_medium</li><li>2_low</li><li>1_veryLow</li><li>2_low</li><li>1_veryLow</li><li>3_medium</li><li>1_veryLow</li><li>4_good</li><li>2_low</li><li>1_veryLow</li><li>2_low</li><li>2_low</li><li>2_low</li><li>1_veryLow</li><li>1_veryLow</li><li>2_low</li><li>2_low</li><li>3_medium</li><li>1_veryLow</li><li>2_low</li><li>1_veryLow</li><li>1_veryLow</li><li>1_veryLow</li><li>1_veryLow</li><li>3_medium</li><li>3_medium</li><li>1_veryLow</li><li>1_veryLow</li><li>1_veryLow</li><li>2_low</li><li>1_veryLow</li><li>1_veryLow</li><li>1_veryLow</li></ol>\n",
       "\n",
       "<details>\n",
       "\t<summary style=display:list-item;cursor:pointer>\n",
       "\t\t<strong>Levels</strong>:\n",
       "\t</summary>\n",
       "\t<style>\n",
       "\t.list-inline {list-style: none; margin:0; padding: 0}\n",
       "\t.list-inline>li {display: inline-block}\n",
       "\t.list-inline>li:not(:last-child)::after {content: \"\\00b7\"; padding: 0 .5ex}\n",
       "\t</style>\n",
       "\t<ol class=list-inline><li>'1_veryLow'</li><li>'2_low'</li><li>'3_medium'</li><li>'4_good'</li><li>'5_veryGood'</li></ol>\n",
       "</details></dd>\n",
       "\t<dt>$press_label</dt>\n",
       "\t\t<dd><style>\n",
       ".list-inline {list-style: none; margin:0; padding: 0}\n",
       ".list-inline>li {display: inline-block}\n",
       ".list-inline>li:not(:last-child)::after {content: \"\\00b7\"; padding: 0 .5ex}\n",
       "</style>\n",
       "<ol class=list-inline><li>5_veryGood</li><li>4_good</li><li>5_veryGood</li><li>5_veryGood</li><li>4_good</li><li>5_veryGood</li><li>5_veryGood</li><li>4_good</li><li>5_veryGood</li><li>4_good</li><li>3_medium</li><li>4_good</li><li>4_good</li><li>4_good</li><li>4_good</li><li>4_good</li><li>5_veryGood</li><li>3_medium</li><li>4_good</li><li>4_good</li><li>4_good</li><li>4_good</li><li>4_good</li><li>4_good</li><li>3_medium</li><li>4_good</li><li>4_good</li><li>4_good</li><li>4_good</li><li>4_good</li><li>4_good</li><li>5_veryGood</li><li>4_good</li><li>3_medium</li><li>4_good</li><li>3_medium</li><li>3_medium</li><li>3_medium</li><li>4_good</li><li>3_medium</li><li>3_medium</li><li>4_good</li><li>4_good</li><li>4_good</li><li>3_medium</li><li>4_good</li><li>3_medium</li><li>4_good</li><li>4_good</li><li>3_medium</li><li>4_good</li><li>3_medium</li><li>3_medium</li><li>3_medium</li><li>3_medium</li><li>4_good</li><li>2_low</li><li>4_good</li><li>3_medium</li><li>4_good</li><li>3_medium</li><li>4_good</li><li>3_medium</li><li>2_low</li><li>3_medium</li><li>1_veryLow</li><li>3_medium</li><li>3_medium</li><li>2_low</li><li>3_medium</li><li>3_medium</li><li>3_medium</li><li>3_medium</li><li>3_medium</li><li>2_low</li><li>4_good</li><li>3_medium</li><li>2_low</li><li>3_medium</li><li>3_medium</li><li>3_medium</li><li>2_low</li><li>2_low</li><li>3_medium</li><li>4_good</li><li>2_low</li><li>3_medium</li><li>2_low</li><li>3_medium</li><li>2_low</li><li>3_medium</li><li>2_low</li><li>4_good</li><li>3_medium</li><li>1_veryLow</li><li>2_low</li><li>2_low</li><li>3_medium</li><li>2_low</li><li>3_medium</li><li>3_medium</li><li>2_low</li><li>3_medium</li><li>1_veryLow</li><li>3_medium</li><li>1_veryLow</li><li>2_low</li><li>2_low</li><li>3_medium</li><li>1_veryLow</li><li>2_low</li><li>2_low</li><li>3_medium</li><li>1_veryLow</li><li>2_low</li><li>3_medium</li><li>3_medium</li><li>2_low</li><li>3_medium</li><li>2_low</li><li>2_low</li><li>2_low</li><li>3_medium</li><li>1_veryLow</li><li>1_veryLow</li><li>2_low</li><li>2_low</li><li>2_low</li><li>2_low</li><li>3_medium</li><li>2_low</li><li>1_veryLow</li><li>1_veryLow</li><li>2_low</li><li>2_low</li><li>3_medium</li><li>1_veryLow</li><li>2_low</li><li>2_low</li><li>1_veryLow</li><li>2_low</li><li>1_veryLow</li><li>1_veryLow</li><li>1_veryLow</li><li>1_veryLow</li><li>2_low</li><li>1_veryLow</li><li>1_veryLow</li><li>1_veryLow</li><li>1_veryLow</li><li>1_veryLow</li><li>1_veryLow</li><li>2_low</li><li>3_medium</li><li>2_low</li><li>1_veryLow</li><li>1_veryLow</li><li>1_veryLow</li><li>1_veryLow</li></ol>\n",
       "\n",
       "<details>\n",
       "\t<summary style=display:list-item;cursor:pointer>\n",
       "\t\t<strong>Levels</strong>:\n",
       "\t</summary>\n",
       "\t<style>\n",
       "\t.list-inline {list-style: none; margin:0; padding: 0}\n",
       "\t.list-inline>li {display: inline-block}\n",
       "\t.list-inline>li:not(:last-child)::after {content: \"\\00b7\"; padding: 0 .5ex}\n",
       "\t</style>\n",
       "\t<ol class=list-inline><li>'1_veryLow'</li><li>'2_low'</li><li>'3_medium'</li><li>'4_good'</li><li>'5_veryGood'</li></ol>\n",
       "</details></dd>\n",
       "\t<dt>$democracy_label</dt>\n",
       "\t\t<dd><style>\n",
       ".list-inline {list-style: none; margin:0; padding: 0}\n",
       ".list-inline>li {display: inline-block}\n",
       ".list-inline>li:not(:last-child)::after {content: \"\\00b7\"; padding: 0 .5ex}\n",
       "</style>\n",
       "<ol class=list-inline><li>5_veryGood</li><li>5_veryGood</li><li>5_veryGood</li><li>5_veryGood</li><li>5_veryGood</li><li>5_veryGood</li><li>5_veryGood</li><li>5_veryGood</li><li>5_veryGood</li><li>4_good</li><li>5_veryGood</li><li>4_good</li><li>4_good</li><li>5_veryGood</li><li>5_veryGood</li><li>5_veryGood</li><li>4_good</li><li>4_good</li><li>4_good</li><li>5_veryGood</li><li>5_veryGood</li><li>5_veryGood</li><li>5_veryGood</li><li>4_good</li><li>4_good</li><li>5_veryGood</li><li>4_good</li><li>4_good</li><li>4_good</li><li>5_veryGood</li><li>5_veryGood</li><li>4_good</li><li>4_good</li><li>4_good</li><li>4_good</li><li>5_veryGood</li><li>5_veryGood</li><li>4_good</li><li>4_good</li><li>4_good</li><li>4_good</li><li>5_veryGood</li><li>4_good</li><li>4_good</li><li>4_good</li><li>4_good</li><li>4_good</li><li>4_good</li><li>4_good</li><li>4_good</li><li>4_good</li><li>4_good</li><li>4_good</li><li>4_good</li><li>4_good</li><li>4_good</li><li>4_good</li><li>4_good</li><li>4_good</li><li>4_good</li><li>2_low</li><li>4_good</li><li>2_low</li><li>2_low</li><li>2_low</li><li>4_good</li><li>4_good</li><li>2_low</li><li>2_low</li><li>4_good</li><li>2_low</li><li>2_low</li><li>4_good</li><li>2_low</li><li>2_low</li><li>4_good</li><li>4_good</li><li>2_low</li><li>2_low</li><li>2_low</li><li>2_low</li><li>4_good</li><li>4_good</li><li>4_good</li><li>2_low</li><li>4_good</li><li>2_low</li><li>2_low</li><li>4_good</li><li>2_low</li><li>2_low</li><li>2_low</li><li>2_low</li><li>2_low</li><li>2_low</li><li>4_good</li><li>2_low</li><li>1_veryLow</li><li>2_low</li><li>1_veryLow</li><li>1_veryLow</li><li>1_veryLow</li><li>1_veryLow</li><li>2_low</li><li>2_low</li><li>1_veryLow</li><li>2_low</li><li>2_low</li><li>4_good</li><li>2_low</li><li>2_low</li><li>1_veryLow</li><li>1_veryLow</li><li>2_low</li><li>1_veryLow</li><li>1_veryLow</li><li>1_veryLow</li><li>2_low</li><li>1_veryLow</li><li>1_veryLow</li><li>1_veryLow</li><li>1_veryLow</li><li>1_veryLow</li><li>1_veryLow</li><li>1_veryLow</li><li>1_veryLow</li><li>1_veryLow</li><li>1_veryLow</li><li>1_veryLow</li><li>1_veryLow</li><li>1_veryLow</li><li>1_veryLow</li><li>1_veryLow</li><li>1_veryLow</li><li>1_veryLow</li><li>1_veryLow</li><li>1_veryLow</li><li>1_veryLow</li><li>1_veryLow</li><li>1_veryLow</li><li>1_veryLow</li><li>1_veryLow</li><li>2_low</li><li>1_veryLow</li><li>1_veryLow</li><li>1_veryLow</li><li>1_veryLow</li><li>1_veryLow</li><li>1_veryLow</li><li>1_veryLow</li><li>1_veryLow</li><li>1_veryLow</li><li>1_veryLow</li><li>1_veryLow</li><li>1_veryLow</li><li>1_veryLow</li><li>1_veryLow</li><li>1_veryLow</li><li>1_veryLow</li></ol>\n",
       "\n",
       "<details>\n",
       "\t<summary style=display:list-item;cursor:pointer>\n",
       "\t\t<strong>Levels</strong>:\n",
       "\t</summary>\n",
       "\t<style>\n",
       "\t.list-inline {list-style: none; margin:0; padding: 0}\n",
       "\t.list-inline>li {display: inline-block}\n",
       "\t.list-inline>li:not(:last-child)::after {content: \"\\00b7\"; padding: 0 .5ex}\n",
       "\t</style>\n",
       "\t<ol class=list-inline><li>'1_veryLow'</li><li>'2_low'</li><li>'3_medium'</li><li>'4_good'</li><li>'5_veryGood'</li></ol>\n",
       "</details></dd>\n",
       "</dl>\n"
      ],
      "text/latex": [
       "\\begin{description}\n",
       "\\item[\\$world\\_label] \\begin{enumerate*}\n",
       "\\item 5\\_veryGood\n",
       "\\item 5\\_veryGood\n",
       "\\item 5\\_veryGood\n",
       "\\item 5\\_veryGood\n",
       "\\item 5\\_veryGood\n",
       "\\item 5\\_veryGood\n",
       "\\item 5\\_veryGood\n",
       "\\item 5\\_veryGood\n",
       "\\item 5\\_veryGood\n",
       "\\item 5\\_veryGood\n",
       "\\item 5\\_veryGood\n",
       "\\item 5\\_veryGood\n",
       "\\item 5\\_veryGood\n",
       "\\item 5\\_veryGood\n",
       "\\item 5\\_veryGood\n",
       "\\item 5\\_veryGood\n",
       "\\item 5\\_veryGood\n",
       "\\item 5\\_veryGood\n",
       "\\item 5\\_veryGood\n",
       "\\item 5\\_veryGood\n",
       "\\item 5\\_veryGood\n",
       "\\item 5\\_veryGood\n",
       "\\item 5\\_veryGood\n",
       "\\item 5\\_veryGood\n",
       "\\item 5\\_veryGood\n",
       "\\item 5\\_veryGood\n",
       "\\item 5\\_veryGood\n",
       "\\item 5\\_veryGood\n",
       "\\item 5\\_veryGood\n",
       "\\item 5\\_veryGood\n",
       "\\item 5\\_veryGood\n",
       "\\item 5\\_veryGood\n",
       "\\item 5\\_veryGood\n",
       "\\item 5\\_veryGood\n",
       "\\item 5\\_veryGood\n",
       "\\item 5\\_veryGood\n",
       "\\item 5\\_veryGood\n",
       "\\item 5\\_veryGood\n",
       "\\item 5\\_veryGood\n",
       "\\item 5\\_veryGood\n",
       "\\item 5\\_veryGood\n",
       "\\item 5\\_veryGood\n",
       "\\item 5\\_veryGood\n",
       "\\item 5\\_veryGood\n",
       "\\item 5\\_veryGood\n",
       "\\item 5\\_veryGood\n",
       "\\item 5\\_veryGood\n",
       "\\item 5\\_veryGood\n",
       "\\item 5\\_veryGood\n",
       "\\item 5\\_veryGood\n",
       "\\item 5\\_veryGood\n",
       "\\item 5\\_veryGood\n",
       "\\item 5\\_veryGood\n",
       "\\item 5\\_veryGood\n",
       "\\item 5\\_veryGood\n",
       "\\item 5\\_veryGood\n",
       "\\item 5\\_veryGood\n",
       "\\item 3\\_medium\n",
       "\\item 3\\_medium\n",
       "\\item 3\\_medium\n",
       "\\item 3\\_medium\n",
       "\\item 3\\_medium\n",
       "\\item 3\\_medium\n",
       "\\item 3\\_medium\n",
       "\\item 3\\_medium\n",
       "\\item 3\\_medium\n",
       "\\item 5\\_veryGood\n",
       "\\item 3\\_medium\n",
       "\\item 3\\_medium\n",
       "\\item 3\\_medium\n",
       "\\item 3\\_medium\n",
       "\\item 3\\_medium\n",
       "\\item 3\\_medium\n",
       "\\item 3\\_medium\n",
       "\\item 3\\_medium\n",
       "\\item 3\\_medium\n",
       "\\item 3\\_medium\n",
       "\\item 3\\_medium\n",
       "\\item 3\\_medium\n",
       "\\item 3\\_medium\n",
       "\\item 3\\_medium\n",
       "\\item 3\\_medium\n",
       "\\item 3\\_medium\n",
       "\\item 3\\_medium\n",
       "\\item 3\\_medium\n",
       "\\item 3\\_medium\n",
       "\\item 3\\_medium\n",
       "\\item 3\\_medium\n",
       "\\item 3\\_medium\n",
       "\\item 3\\_medium\n",
       "\\item 3\\_medium\n",
       "\\item 3\\_medium\n",
       "\\item 3\\_medium\n",
       "\\item 3\\_medium\n",
       "\\item 3\\_medium\n",
       "\\item 3\\_medium\n",
       "\\item 3\\_medium\n",
       "\\item 3\\_medium\n",
       "\\item 3\\_medium\n",
       "\\item 3\\_medium\n",
       "\\item 3\\_medium\n",
       "\\item 3\\_medium\n",
       "\\item 3\\_medium\n",
       "\\item 3\\_medium\n",
       "\\item 3\\_medium\n",
       "\\item 3\\_medium\n",
       "\\item 3\\_medium\n",
       "\\item 3\\_medium\n",
       "\\item 3\\_medium\n",
       "\\item 3\\_medium\n",
       "\\item 1\\_veryLow\n",
       "\\item 1\\_veryLow\n",
       "\\item 1\\_veryLow\n",
       "\\item 1\\_veryLow\n",
       "\\item 1\\_veryLow\n",
       "\\item 1\\_veryLow\n",
       "\\item 1\\_veryLow\n",
       "\\item 1\\_veryLow\n",
       "\\item 1\\_veryLow\n",
       "\\item 1\\_veryLow\n",
       "\\item 1\\_veryLow\n",
       "\\item 1\\_veryLow\n",
       "\\item 1\\_veryLow\n",
       "\\item 1\\_veryLow\n",
       "\\item 1\\_veryLow\n",
       "\\item 1\\_veryLow\n",
       "\\item 1\\_veryLow\n",
       "\\item 1\\_veryLow\n",
       "\\item 1\\_veryLow\n",
       "\\item 1\\_veryLow\n",
       "\\item 1\\_veryLow\n",
       "\\item 1\\_veryLow\n",
       "\\item 1\\_veryLow\n",
       "\\item 1\\_veryLow\n",
       "\\item 1\\_veryLow\n",
       "\\item 1\\_veryLow\n",
       "\\item 1\\_veryLow\n",
       "\\item 1\\_veryLow\n",
       "\\item 1\\_veryLow\n",
       "\\item 1\\_veryLow\n",
       "\\item 1\\_veryLow\n",
       "\\item 1\\_veryLow\n",
       "\\item 1\\_veryLow\n",
       "\\item 1\\_veryLow\n",
       "\\item 1\\_veryLow\n",
       "\\item 1\\_veryLow\n",
       "\\item 1\\_veryLow\n",
       "\\item 1\\_veryLow\n",
       "\\item 1\\_veryLow\n",
       "\\item 1\\_veryLow\n",
       "\\item 1\\_veryLow\n",
       "\\item 1\\_veryLow\n",
       "\\item 1\\_veryLow\n",
       "\\item 1\\_veryLow\n",
       "\\item 1\\_veryLow\n",
       "\\item 1\\_veryLow\n",
       "\\item 1\\_veryLow\n",
       "\\item 1\\_veryLow\n",
       "\\item 1\\_veryLow\n",
       "\\end{enumerate*}\n",
       "\n",
       "\\emph{Levels}: \\begin{enumerate*}\n",
       "\\item '1\\_veryLow'\n",
       "\\item '2\\_low'\n",
       "\\item '3\\_medium'\n",
       "\\item '4\\_good'\n",
       "\\item '5\\_veryGood'\n",
       "\\end{enumerate*}\n",
       "\n",
       "\\item[\\$economic\\_label] \\begin{enumerate*}\n",
       "\\item 4\\_good\n",
       "\\item 4\\_good\n",
       "\\item 4\\_good\n",
       "\\item 4\\_good\n",
       "\\item 4\\_good\n",
       "\\item 4\\_good\n",
       "\\item 5\\_veryGood\n",
       "\\item 4\\_good\n",
       "\\item 4\\_good\n",
       "\\item 3\\_medium\n",
       "\\item 3\\_medium\n",
       "\\item 3\\_medium\n",
       "\\item 3\\_medium\n",
       "\\item 5\\_veryGood\n",
       "\\item 3\\_medium\n",
       "\\item 4\\_good\n",
       "\\item 4\\_good\n",
       "\\item 4\\_good\n",
       "\\item 4\\_good\n",
       "\\item 4\\_good\n",
       "\\item 5\\_veryGood\n",
       "\\item 3\\_medium\n",
       "\\item 4\\_good\n",
       "\\item 3\\_medium\n",
       "\\item 4\\_good\n",
       "\\item 3\\_medium\n",
       "\\item 3\\_medium\n",
       "\\item 3\\_medium\n",
       "\\item 3\\_medium\n",
       "\\item 3\\_medium\n",
       "\\item 3\\_medium\n",
       "\\item 4\\_good\n",
       "\\item 4\\_good\n",
       "\\item 3\\_medium\n",
       "\\item 1\\_veryLow\n",
       "\\item 2\\_low\n",
       "\\item 4\\_good\n",
       "\\item 3\\_medium\n",
       "\\item 3\\_medium\n",
       "\\item 3\\_medium\n",
       "\\item 3\\_medium\n",
       "\\item 4\\_good\n",
       "\\item 4\\_good\n",
       "\\item 3\\_medium\n",
       "\\item 2\\_low\n",
       "\\item 3\\_medium\n",
       "\\item 3\\_medium\n",
       "\\item 2\\_low\n",
       "\\item 1\\_veryLow\n",
       "\\item 3\\_medium\n",
       "\\item 2\\_low\n",
       "\\item 4\\_good\n",
       "\\item 2\\_low\n",
       "\\item 3\\_medium\n",
       "\\item 2\\_low\n",
       "\\item 2\\_low\n",
       "\\item 2\\_low\n",
       "\\item 2\\_low\n",
       "\\item 3\\_medium\n",
       "\\item 3\\_medium\n",
       "\\item 2\\_low\n",
       "\\item 3\\_medium\n",
       "\\item 2\\_low\n",
       "\\item 1\\_veryLow\n",
       "\\item 2\\_low\n",
       "\\item 2\\_low\n",
       "\\item 2\\_low\n",
       "\\item 2\\_low\n",
       "\\item 3\\_medium\n",
       "\\item 3\\_medium\n",
       "\\item 1\\_veryLow\n",
       "\\item 2\\_low\n",
       "\\item 3\\_medium\n",
       "\\item 2\\_low\n",
       "\\item 2\\_low\n",
       "\\item 2\\_low\n",
       "\\item 1\\_veryLow\n",
       "\\item 3\\_medium\n",
       "\\item 1\\_veryLow\n",
       "\\item 3\\_medium\n",
       "\\item 2\\_low\n",
       "\\item 2\\_low\n",
       "\\item 3\\_medium\n",
       "\\item 3\\_medium\n",
       "\\item 3\\_medium\n",
       "\\item 1\\_veryLow\n",
       "\\item 1\\_veryLow\n",
       "\\item 2\\_low\n",
       "\\item 3\\_medium\n",
       "\\item 2\\_low\n",
       "\\item 3\\_medium\n",
       "\\item 1\\_veryLow\n",
       "\\item 2\\_low\n",
       "\\item 2\\_low\n",
       "\\item 2\\_low\n",
       "\\item 5\\_veryGood\n",
       "\\item 3\\_medium\n",
       "\\item 2\\_low\n",
       "\\item 2\\_low\n",
       "\\item 1\\_veryLow\n",
       "\\item 2\\_low\n",
       "\\item 1\\_veryLow\n",
       "\\item 2\\_low\n",
       "\\item 2\\_low\n",
       "\\item 2\\_low\n",
       "\\item 2\\_low\n",
       "\\item 2\\_low\n",
       "\\item 2\\_low\n",
       "\\item 2\\_low\n",
       "\\item 1\\_veryLow\n",
       "\\item 2\\_low\n",
       "\\item 2\\_low\n",
       "\\item 2\\_low\n",
       "\\item 2\\_low\n",
       "\\item 1\\_veryLow\n",
       "\\item 2\\_low\n",
       "\\item 1\\_veryLow\n",
       "\\item 2\\_low\n",
       "\\item 2\\_low\n",
       "\\item 2\\_low\n",
       "\\item 1\\_veryLow\n",
       "\\item 2\\_low\n",
       "\\item 3\\_medium\n",
       "\\item 2\\_low\n",
       "\\item 3\\_medium\n",
       "\\item 2\\_low\n",
       "\\item 3\\_medium\n",
       "\\item 2\\_low\n",
       "\\item 1\\_veryLow\n",
       "\\item 2\\_low\n",
       "\\item 1\\_veryLow\n",
       "\\item 3\\_medium\n",
       "\\item 1\\_veryLow\n",
       "\\item 4\\_good\n",
       "\\item 2\\_low\n",
       "\\item 1\\_veryLow\n",
       "\\item 2\\_low\n",
       "\\item 2\\_low\n",
       "\\item 2\\_low\n",
       "\\item 1\\_veryLow\n",
       "\\item 1\\_veryLow\n",
       "\\item 2\\_low\n",
       "\\item 2\\_low\n",
       "\\item 3\\_medium\n",
       "\\item 1\\_veryLow\n",
       "\\item 2\\_low\n",
       "\\item 1\\_veryLow\n",
       "\\item 1\\_veryLow\n",
       "\\item 1\\_veryLow\n",
       "\\item 1\\_veryLow\n",
       "\\item 3\\_medium\n",
       "\\item 3\\_medium\n",
       "\\item 1\\_veryLow\n",
       "\\item 1\\_veryLow\n",
       "\\item 1\\_veryLow\n",
       "\\item 2\\_low\n",
       "\\item 1\\_veryLow\n",
       "\\item 1\\_veryLow\n",
       "\\item 1\\_veryLow\n",
       "\\end{enumerate*}\n",
       "\n",
       "\\emph{Levels}: \\begin{enumerate*}\n",
       "\\item '1\\_veryLow'\n",
       "\\item '2\\_low'\n",
       "\\item '3\\_medium'\n",
       "\\item '4\\_good'\n",
       "\\item '5\\_veryGood'\n",
       "\\end{enumerate*}\n",
       "\n",
       "\\item[\\$press\\_label] \\begin{enumerate*}\n",
       "\\item 5\\_veryGood\n",
       "\\item 4\\_good\n",
       "\\item 5\\_veryGood\n",
       "\\item 5\\_veryGood\n",
       "\\item 4\\_good\n",
       "\\item 5\\_veryGood\n",
       "\\item 5\\_veryGood\n",
       "\\item 4\\_good\n",
       "\\item 5\\_veryGood\n",
       "\\item 4\\_good\n",
       "\\item 3\\_medium\n",
       "\\item 4\\_good\n",
       "\\item 4\\_good\n",
       "\\item 4\\_good\n",
       "\\item 4\\_good\n",
       "\\item 4\\_good\n",
       "\\item 5\\_veryGood\n",
       "\\item 3\\_medium\n",
       "\\item 4\\_good\n",
       "\\item 4\\_good\n",
       "\\item 4\\_good\n",
       "\\item 4\\_good\n",
       "\\item 4\\_good\n",
       "\\item 4\\_good\n",
       "\\item 3\\_medium\n",
       "\\item 4\\_good\n",
       "\\item 4\\_good\n",
       "\\item 4\\_good\n",
       "\\item 4\\_good\n",
       "\\item 4\\_good\n",
       "\\item 4\\_good\n",
       "\\item 5\\_veryGood\n",
       "\\item 4\\_good\n",
       "\\item 3\\_medium\n",
       "\\item 4\\_good\n",
       "\\item 3\\_medium\n",
       "\\item 3\\_medium\n",
       "\\item 3\\_medium\n",
       "\\item 4\\_good\n",
       "\\item 3\\_medium\n",
       "\\item 3\\_medium\n",
       "\\item 4\\_good\n",
       "\\item 4\\_good\n",
       "\\item 4\\_good\n",
       "\\item 3\\_medium\n",
       "\\item 4\\_good\n",
       "\\item 3\\_medium\n",
       "\\item 4\\_good\n",
       "\\item 4\\_good\n",
       "\\item 3\\_medium\n",
       "\\item 4\\_good\n",
       "\\item 3\\_medium\n",
       "\\item 3\\_medium\n",
       "\\item 3\\_medium\n",
       "\\item 3\\_medium\n",
       "\\item 4\\_good\n",
       "\\item 2\\_low\n",
       "\\item 4\\_good\n",
       "\\item 3\\_medium\n",
       "\\item 4\\_good\n",
       "\\item 3\\_medium\n",
       "\\item 4\\_good\n",
       "\\item 3\\_medium\n",
       "\\item 2\\_low\n",
       "\\item 3\\_medium\n",
       "\\item 1\\_veryLow\n",
       "\\item 3\\_medium\n",
       "\\item 3\\_medium\n",
       "\\item 2\\_low\n",
       "\\item 3\\_medium\n",
       "\\item 3\\_medium\n",
       "\\item 3\\_medium\n",
       "\\item 3\\_medium\n",
       "\\item 3\\_medium\n",
       "\\item 2\\_low\n",
       "\\item 4\\_good\n",
       "\\item 3\\_medium\n",
       "\\item 2\\_low\n",
       "\\item 3\\_medium\n",
       "\\item 3\\_medium\n",
       "\\item 3\\_medium\n",
       "\\item 2\\_low\n",
       "\\item 2\\_low\n",
       "\\item 3\\_medium\n",
       "\\item 4\\_good\n",
       "\\item 2\\_low\n",
       "\\item 3\\_medium\n",
       "\\item 2\\_low\n",
       "\\item 3\\_medium\n",
       "\\item 2\\_low\n",
       "\\item 3\\_medium\n",
       "\\item 2\\_low\n",
       "\\item 4\\_good\n",
       "\\item 3\\_medium\n",
       "\\item 1\\_veryLow\n",
       "\\item 2\\_low\n",
       "\\item 2\\_low\n",
       "\\item 3\\_medium\n",
       "\\item 2\\_low\n",
       "\\item 3\\_medium\n",
       "\\item 3\\_medium\n",
       "\\item 2\\_low\n",
       "\\item 3\\_medium\n",
       "\\item 1\\_veryLow\n",
       "\\item 3\\_medium\n",
       "\\item 1\\_veryLow\n",
       "\\item 2\\_low\n",
       "\\item 2\\_low\n",
       "\\item 3\\_medium\n",
       "\\item 1\\_veryLow\n",
       "\\item 2\\_low\n",
       "\\item 2\\_low\n",
       "\\item 3\\_medium\n",
       "\\item 1\\_veryLow\n",
       "\\item 2\\_low\n",
       "\\item 3\\_medium\n",
       "\\item 3\\_medium\n",
       "\\item 2\\_low\n",
       "\\item 3\\_medium\n",
       "\\item 2\\_low\n",
       "\\item 2\\_low\n",
       "\\item 2\\_low\n",
       "\\item 3\\_medium\n",
       "\\item 1\\_veryLow\n",
       "\\item 1\\_veryLow\n",
       "\\item 2\\_low\n",
       "\\item 2\\_low\n",
       "\\item 2\\_low\n",
       "\\item 2\\_low\n",
       "\\item 3\\_medium\n",
       "\\item 2\\_low\n",
       "\\item 1\\_veryLow\n",
       "\\item 1\\_veryLow\n",
       "\\item 2\\_low\n",
       "\\item 2\\_low\n",
       "\\item 3\\_medium\n",
       "\\item 1\\_veryLow\n",
       "\\item 2\\_low\n",
       "\\item 2\\_low\n",
       "\\item 1\\_veryLow\n",
       "\\item 2\\_low\n",
       "\\item 1\\_veryLow\n",
       "\\item 1\\_veryLow\n",
       "\\item 1\\_veryLow\n",
       "\\item 1\\_veryLow\n",
       "\\item 2\\_low\n",
       "\\item 1\\_veryLow\n",
       "\\item 1\\_veryLow\n",
       "\\item 1\\_veryLow\n",
       "\\item 1\\_veryLow\n",
       "\\item 1\\_veryLow\n",
       "\\item 1\\_veryLow\n",
       "\\item 2\\_low\n",
       "\\item 3\\_medium\n",
       "\\item 2\\_low\n",
       "\\item 1\\_veryLow\n",
       "\\item 1\\_veryLow\n",
       "\\item 1\\_veryLow\n",
       "\\item 1\\_veryLow\n",
       "\\end{enumerate*}\n",
       "\n",
       "\\emph{Levels}: \\begin{enumerate*}\n",
       "\\item '1\\_veryLow'\n",
       "\\item '2\\_low'\n",
       "\\item '3\\_medium'\n",
       "\\item '4\\_good'\n",
       "\\item '5\\_veryGood'\n",
       "\\end{enumerate*}\n",
       "\n",
       "\\item[\\$democracy\\_label] \\begin{enumerate*}\n",
       "\\item 5\\_veryGood\n",
       "\\item 5\\_veryGood\n",
       "\\item 5\\_veryGood\n",
       "\\item 5\\_veryGood\n",
       "\\item 5\\_veryGood\n",
       "\\item 5\\_veryGood\n",
       "\\item 5\\_veryGood\n",
       "\\item 5\\_veryGood\n",
       "\\item 5\\_veryGood\n",
       "\\item 4\\_good\n",
       "\\item 5\\_veryGood\n",
       "\\item 4\\_good\n",
       "\\item 4\\_good\n",
       "\\item 5\\_veryGood\n",
       "\\item 5\\_veryGood\n",
       "\\item 5\\_veryGood\n",
       "\\item 4\\_good\n",
       "\\item 4\\_good\n",
       "\\item 4\\_good\n",
       "\\item 5\\_veryGood\n",
       "\\item 5\\_veryGood\n",
       "\\item 5\\_veryGood\n",
       "\\item 5\\_veryGood\n",
       "\\item 4\\_good\n",
       "\\item 4\\_good\n",
       "\\item 5\\_veryGood\n",
       "\\item 4\\_good\n",
       "\\item 4\\_good\n",
       "\\item 4\\_good\n",
       "\\item 5\\_veryGood\n",
       "\\item 5\\_veryGood\n",
       "\\item 4\\_good\n",
       "\\item 4\\_good\n",
       "\\item 4\\_good\n",
       "\\item 4\\_good\n",
       "\\item 5\\_veryGood\n",
       "\\item 5\\_veryGood\n",
       "\\item 4\\_good\n",
       "\\item 4\\_good\n",
       "\\item 4\\_good\n",
       "\\item 4\\_good\n",
       "\\item 5\\_veryGood\n",
       "\\item 4\\_good\n",
       "\\item 4\\_good\n",
       "\\item 4\\_good\n",
       "\\item 4\\_good\n",
       "\\item 4\\_good\n",
       "\\item 4\\_good\n",
       "\\item 4\\_good\n",
       "\\item 4\\_good\n",
       "\\item 4\\_good\n",
       "\\item 4\\_good\n",
       "\\item 4\\_good\n",
       "\\item 4\\_good\n",
       "\\item 4\\_good\n",
       "\\item 4\\_good\n",
       "\\item 4\\_good\n",
       "\\item 4\\_good\n",
       "\\item 4\\_good\n",
       "\\item 4\\_good\n",
       "\\item 2\\_low\n",
       "\\item 4\\_good\n",
       "\\item 2\\_low\n",
       "\\item 2\\_low\n",
       "\\item 2\\_low\n",
       "\\item 4\\_good\n",
       "\\item 4\\_good\n",
       "\\item 2\\_low\n",
       "\\item 2\\_low\n",
       "\\item 4\\_good\n",
       "\\item 2\\_low\n",
       "\\item 2\\_low\n",
       "\\item 4\\_good\n",
       "\\item 2\\_low\n",
       "\\item 2\\_low\n",
       "\\item 4\\_good\n",
       "\\item 4\\_good\n",
       "\\item 2\\_low\n",
       "\\item 2\\_low\n",
       "\\item 2\\_low\n",
       "\\item 2\\_low\n",
       "\\item 4\\_good\n",
       "\\item 4\\_good\n",
       "\\item 4\\_good\n",
       "\\item 2\\_low\n",
       "\\item 4\\_good\n",
       "\\item 2\\_low\n",
       "\\item 2\\_low\n",
       "\\item 4\\_good\n",
       "\\item 2\\_low\n",
       "\\item 2\\_low\n",
       "\\item 2\\_low\n",
       "\\item 2\\_low\n",
       "\\item 2\\_low\n",
       "\\item 2\\_low\n",
       "\\item 4\\_good\n",
       "\\item 2\\_low\n",
       "\\item 1\\_veryLow\n",
       "\\item 2\\_low\n",
       "\\item 1\\_veryLow\n",
       "\\item 1\\_veryLow\n",
       "\\item 1\\_veryLow\n",
       "\\item 1\\_veryLow\n",
       "\\item 2\\_low\n",
       "\\item 2\\_low\n",
       "\\item 1\\_veryLow\n",
       "\\item 2\\_low\n",
       "\\item 2\\_low\n",
       "\\item 4\\_good\n",
       "\\item 2\\_low\n",
       "\\item 2\\_low\n",
       "\\item 1\\_veryLow\n",
       "\\item 1\\_veryLow\n",
       "\\item 2\\_low\n",
       "\\item 1\\_veryLow\n",
       "\\item 1\\_veryLow\n",
       "\\item 1\\_veryLow\n",
       "\\item 2\\_low\n",
       "\\item 1\\_veryLow\n",
       "\\item 1\\_veryLow\n",
       "\\item 1\\_veryLow\n",
       "\\item 1\\_veryLow\n",
       "\\item 1\\_veryLow\n",
       "\\item 1\\_veryLow\n",
       "\\item 1\\_veryLow\n",
       "\\item 1\\_veryLow\n",
       "\\item 1\\_veryLow\n",
       "\\item 1\\_veryLow\n",
       "\\item 1\\_veryLow\n",
       "\\item 1\\_veryLow\n",
       "\\item 1\\_veryLow\n",
       "\\item 1\\_veryLow\n",
       "\\item 1\\_veryLow\n",
       "\\item 1\\_veryLow\n",
       "\\item 1\\_veryLow\n",
       "\\item 1\\_veryLow\n",
       "\\item 1\\_veryLow\n",
       "\\item 1\\_veryLow\n",
       "\\item 1\\_veryLow\n",
       "\\item 1\\_veryLow\n",
       "\\item 1\\_veryLow\n",
       "\\item 1\\_veryLow\n",
       "\\item 2\\_low\n",
       "\\item 1\\_veryLow\n",
       "\\item 1\\_veryLow\n",
       "\\item 1\\_veryLow\n",
       "\\item 1\\_veryLow\n",
       "\\item 1\\_veryLow\n",
       "\\item 1\\_veryLow\n",
       "\\item 1\\_veryLow\n",
       "\\item 1\\_veryLow\n",
       "\\item 1\\_veryLow\n",
       "\\item 1\\_veryLow\n",
       "\\item 1\\_veryLow\n",
       "\\item 1\\_veryLow\n",
       "\\item 1\\_veryLow\n",
       "\\item 1\\_veryLow\n",
       "\\item 1\\_veryLow\n",
       "\\item 1\\_veryLow\n",
       "\\end{enumerate*}\n",
       "\n",
       "\\emph{Levels}: \\begin{enumerate*}\n",
       "\\item '1\\_veryLow'\n",
       "\\item '2\\_low'\n",
       "\\item '3\\_medium'\n",
       "\\item '4\\_good'\n",
       "\\item '5\\_veryGood'\n",
       "\\end{enumerate*}\n",
       "\n",
       "\\end{description}\n"
      ],
      "text/markdown": [
       "$world_label\n",
       ":   1. 5_veryGood\n",
       "2. 5_veryGood\n",
       "3. 5_veryGood\n",
       "4. 5_veryGood\n",
       "5. 5_veryGood\n",
       "6. 5_veryGood\n",
       "7. 5_veryGood\n",
       "8. 5_veryGood\n",
       "9. 5_veryGood\n",
       "10. 5_veryGood\n",
       "11. 5_veryGood\n",
       "12. 5_veryGood\n",
       "13. 5_veryGood\n",
       "14. 5_veryGood\n",
       "15. 5_veryGood\n",
       "16. 5_veryGood\n",
       "17. 5_veryGood\n",
       "18. 5_veryGood\n",
       "19. 5_veryGood\n",
       "20. 5_veryGood\n",
       "21. 5_veryGood\n",
       "22. 5_veryGood\n",
       "23. 5_veryGood\n",
       "24. 5_veryGood\n",
       "25. 5_veryGood\n",
       "26. 5_veryGood\n",
       "27. 5_veryGood\n",
       "28. 5_veryGood\n",
       "29. 5_veryGood\n",
       "30. 5_veryGood\n",
       "31. 5_veryGood\n",
       "32. 5_veryGood\n",
       "33. 5_veryGood\n",
       "34. 5_veryGood\n",
       "35. 5_veryGood\n",
       "36. 5_veryGood\n",
       "37. 5_veryGood\n",
       "38. 5_veryGood\n",
       "39. 5_veryGood\n",
       "40. 5_veryGood\n",
       "41. 5_veryGood\n",
       "42. 5_veryGood\n",
       "43. 5_veryGood\n",
       "44. 5_veryGood\n",
       "45. 5_veryGood\n",
       "46. 5_veryGood\n",
       "47. 5_veryGood\n",
       "48. 5_veryGood\n",
       "49. 5_veryGood\n",
       "50. 5_veryGood\n",
       "51. 5_veryGood\n",
       "52. 5_veryGood\n",
       "53. 5_veryGood\n",
       "54. 5_veryGood\n",
       "55. 5_veryGood\n",
       "56. 5_veryGood\n",
       "57. 5_veryGood\n",
       "58. 3_medium\n",
       "59. 3_medium\n",
       "60. 3_medium\n",
       "61. 3_medium\n",
       "62. 3_medium\n",
       "63. 3_medium\n",
       "64. 3_medium\n",
       "65. 3_medium\n",
       "66. 3_medium\n",
       "67. 5_veryGood\n",
       "68. 3_medium\n",
       "69. 3_medium\n",
       "70. 3_medium\n",
       "71. 3_medium\n",
       "72. 3_medium\n",
       "73. 3_medium\n",
       "74. 3_medium\n",
       "75. 3_medium\n",
       "76. 3_medium\n",
       "77. 3_medium\n",
       "78. 3_medium\n",
       "79. 3_medium\n",
       "80. 3_medium\n",
       "81. 3_medium\n",
       "82. 3_medium\n",
       "83. 3_medium\n",
       "84. 3_medium\n",
       "85. 3_medium\n",
       "86. 3_medium\n",
       "87. 3_medium\n",
       "88. 3_medium\n",
       "89. 3_medium\n",
       "90. 3_medium\n",
       "91. 3_medium\n",
       "92. 3_medium\n",
       "93. 3_medium\n",
       "94. 3_medium\n",
       "95. 3_medium\n",
       "96. 3_medium\n",
       "97. 3_medium\n",
       "98. 3_medium\n",
       "99. 3_medium\n",
       "100. 3_medium\n",
       "101. 3_medium\n",
       "102. 3_medium\n",
       "103. 3_medium\n",
       "104. 3_medium\n",
       "105. 3_medium\n",
       "106. 3_medium\n",
       "107. 3_medium\n",
       "108. 3_medium\n",
       "109. 3_medium\n",
       "110. 3_medium\n",
       "111. 1_veryLow\n",
       "112. 1_veryLow\n",
       "113. 1_veryLow\n",
       "114. 1_veryLow\n",
       "115. 1_veryLow\n",
       "116. 1_veryLow\n",
       "117. 1_veryLow\n",
       "118. 1_veryLow\n",
       "119. 1_veryLow\n",
       "120. 1_veryLow\n",
       "121. 1_veryLow\n",
       "122. 1_veryLow\n",
       "123. 1_veryLow\n",
       "124. 1_veryLow\n",
       "125. 1_veryLow\n",
       "126. 1_veryLow\n",
       "127. 1_veryLow\n",
       "128. 1_veryLow\n",
       "129. 1_veryLow\n",
       "130. 1_veryLow\n",
       "131. 1_veryLow\n",
       "132. 1_veryLow\n",
       "133. 1_veryLow\n",
       "134. 1_veryLow\n",
       "135. 1_veryLow\n",
       "136. 1_veryLow\n",
       "137. 1_veryLow\n",
       "138. 1_veryLow\n",
       "139. 1_veryLow\n",
       "140. 1_veryLow\n",
       "141. 1_veryLow\n",
       "142. 1_veryLow\n",
       "143. 1_veryLow\n",
       "144. 1_veryLow\n",
       "145. 1_veryLow\n",
       "146. 1_veryLow\n",
       "147. 1_veryLow\n",
       "148. 1_veryLow\n",
       "149. 1_veryLow\n",
       "150. 1_veryLow\n",
       "151. 1_veryLow\n",
       "152. 1_veryLow\n",
       "153. 1_veryLow\n",
       "154. 1_veryLow\n",
       "155. 1_veryLow\n",
       "156. 1_veryLow\n",
       "157. 1_veryLow\n",
       "158. 1_veryLow\n",
       "159. 1_veryLow\n",
       "\n",
       "\n",
       "\n",
       "**Levels**: 1. '1_veryLow'\n",
       "2. '2_low'\n",
       "3. '3_medium'\n",
       "4. '4_good'\n",
       "5. '5_veryGood'\n",
       "\n",
       "\n",
       "\n",
       "$economic_label\n",
       ":   1. 4_good\n",
       "2. 4_good\n",
       "3. 4_good\n",
       "4. 4_good\n",
       "5. 4_good\n",
       "6. 4_good\n",
       "7. 5_veryGood\n",
       "8. 4_good\n",
       "9. 4_good\n",
       "10. 3_medium\n",
       "11. 3_medium\n",
       "12. 3_medium\n",
       "13. 3_medium\n",
       "14. 5_veryGood\n",
       "15. 3_medium\n",
       "16. 4_good\n",
       "17. 4_good\n",
       "18. 4_good\n",
       "19. 4_good\n",
       "20. 4_good\n",
       "21. 5_veryGood\n",
       "22. 3_medium\n",
       "23. 4_good\n",
       "24. 3_medium\n",
       "25. 4_good\n",
       "26. 3_medium\n",
       "27. 3_medium\n",
       "28. 3_medium\n",
       "29. 3_medium\n",
       "30. 3_medium\n",
       "31. 3_medium\n",
       "32. 4_good\n",
       "33. 4_good\n",
       "34. 3_medium\n",
       "35. 1_veryLow\n",
       "36. 2_low\n",
       "37. 4_good\n",
       "38. 3_medium\n",
       "39. 3_medium\n",
       "40. 3_medium\n",
       "41. 3_medium\n",
       "42. 4_good\n",
       "43. 4_good\n",
       "44. 3_medium\n",
       "45. 2_low\n",
       "46. 3_medium\n",
       "47. 3_medium\n",
       "48. 2_low\n",
       "49. 1_veryLow\n",
       "50. 3_medium\n",
       "51. 2_low\n",
       "52. 4_good\n",
       "53. 2_low\n",
       "54. 3_medium\n",
       "55. 2_low\n",
       "56. 2_low\n",
       "57. 2_low\n",
       "58. 2_low\n",
       "59. 3_medium\n",
       "60. 3_medium\n",
       "61. 2_low\n",
       "62. 3_medium\n",
       "63. 2_low\n",
       "64. 1_veryLow\n",
       "65. 2_low\n",
       "66. 2_low\n",
       "67. 2_low\n",
       "68. 2_low\n",
       "69. 3_medium\n",
       "70. 3_medium\n",
       "71. 1_veryLow\n",
       "72. 2_low\n",
       "73. 3_medium\n",
       "74. 2_low\n",
       "75. 2_low\n",
       "76. 2_low\n",
       "77. 1_veryLow\n",
       "78. 3_medium\n",
       "79. 1_veryLow\n",
       "80. 3_medium\n",
       "81. 2_low\n",
       "82. 2_low\n",
       "83. 3_medium\n",
       "84. 3_medium\n",
       "85. 3_medium\n",
       "86. 1_veryLow\n",
       "87. 1_veryLow\n",
       "88. 2_low\n",
       "89. 3_medium\n",
       "90. 2_low\n",
       "91. 3_medium\n",
       "92. 1_veryLow\n",
       "93. 2_low\n",
       "94. 2_low\n",
       "95. 2_low\n",
       "96. 5_veryGood\n",
       "97. 3_medium\n",
       "98. 2_low\n",
       "99. 2_low\n",
       "100. 1_veryLow\n",
       "101. 2_low\n",
       "102. 1_veryLow\n",
       "103. 2_low\n",
       "104. 2_low\n",
       "105. 2_low\n",
       "106. 2_low\n",
       "107. 2_low\n",
       "108. 2_low\n",
       "109. 2_low\n",
       "110. 1_veryLow\n",
       "111. 2_low\n",
       "112. 2_low\n",
       "113. 2_low\n",
       "114. 2_low\n",
       "115. 1_veryLow\n",
       "116. 2_low\n",
       "117. 1_veryLow\n",
       "118. 2_low\n",
       "119. 2_low\n",
       "120. 2_low\n",
       "121. 1_veryLow\n",
       "122. 2_low\n",
       "123. 3_medium\n",
       "124. 2_low\n",
       "125. 3_medium\n",
       "126. 2_low\n",
       "127. 3_medium\n",
       "128. 2_low\n",
       "129. 1_veryLow\n",
       "130. 2_low\n",
       "131. 1_veryLow\n",
       "132. 3_medium\n",
       "133. 1_veryLow\n",
       "134. 4_good\n",
       "135. 2_low\n",
       "136. 1_veryLow\n",
       "137. 2_low\n",
       "138. 2_low\n",
       "139. 2_low\n",
       "140. 1_veryLow\n",
       "141. 1_veryLow\n",
       "142. 2_low\n",
       "143. 2_low\n",
       "144. 3_medium\n",
       "145. 1_veryLow\n",
       "146. 2_low\n",
       "147. 1_veryLow\n",
       "148. 1_veryLow\n",
       "149. 1_veryLow\n",
       "150. 1_veryLow\n",
       "151. 3_medium\n",
       "152. 3_medium\n",
       "153. 1_veryLow\n",
       "154. 1_veryLow\n",
       "155. 1_veryLow\n",
       "156. 2_low\n",
       "157. 1_veryLow\n",
       "158. 1_veryLow\n",
       "159. 1_veryLow\n",
       "\n",
       "\n",
       "\n",
       "**Levels**: 1. '1_veryLow'\n",
       "2. '2_low'\n",
       "3. '3_medium'\n",
       "4. '4_good'\n",
       "5. '5_veryGood'\n",
       "\n",
       "\n",
       "\n",
       "$press_label\n",
       ":   1. 5_veryGood\n",
       "2. 4_good\n",
       "3. 5_veryGood\n",
       "4. 5_veryGood\n",
       "5. 4_good\n",
       "6. 5_veryGood\n",
       "7. 5_veryGood\n",
       "8. 4_good\n",
       "9. 5_veryGood\n",
       "10. 4_good\n",
       "11. 3_medium\n",
       "12. 4_good\n",
       "13. 4_good\n",
       "14. 4_good\n",
       "15. 4_good\n",
       "16. 4_good\n",
       "17. 5_veryGood\n",
       "18. 3_medium\n",
       "19. 4_good\n",
       "20. 4_good\n",
       "21. 4_good\n",
       "22. 4_good\n",
       "23. 4_good\n",
       "24. 4_good\n",
       "25. 3_medium\n",
       "26. 4_good\n",
       "27. 4_good\n",
       "28. 4_good\n",
       "29. 4_good\n",
       "30. 4_good\n",
       "31. 4_good\n",
       "32. 5_veryGood\n",
       "33. 4_good\n",
       "34. 3_medium\n",
       "35. 4_good\n",
       "36. 3_medium\n",
       "37. 3_medium\n",
       "38. 3_medium\n",
       "39. 4_good\n",
       "40. 3_medium\n",
       "41. 3_medium\n",
       "42. 4_good\n",
       "43. 4_good\n",
       "44. 4_good\n",
       "45. 3_medium\n",
       "46. 4_good\n",
       "47. 3_medium\n",
       "48. 4_good\n",
       "49. 4_good\n",
       "50. 3_medium\n",
       "51. 4_good\n",
       "52. 3_medium\n",
       "53. 3_medium\n",
       "54. 3_medium\n",
       "55. 3_medium\n",
       "56. 4_good\n",
       "57. 2_low\n",
       "58. 4_good\n",
       "59. 3_medium\n",
       "60. 4_good\n",
       "61. 3_medium\n",
       "62. 4_good\n",
       "63. 3_medium\n",
       "64. 2_low\n",
       "65. 3_medium\n",
       "66. 1_veryLow\n",
       "67. 3_medium\n",
       "68. 3_medium\n",
       "69. 2_low\n",
       "70. 3_medium\n",
       "71. 3_medium\n",
       "72. 3_medium\n",
       "73. 3_medium\n",
       "74. 3_medium\n",
       "75. 2_low\n",
       "76. 4_good\n",
       "77. 3_medium\n",
       "78. 2_low\n",
       "79. 3_medium\n",
       "80. 3_medium\n",
       "81. 3_medium\n",
       "82. 2_low\n",
       "83. 2_low\n",
       "84. 3_medium\n",
       "85. 4_good\n",
       "86. 2_low\n",
       "87. 3_medium\n",
       "88. 2_low\n",
       "89. 3_medium\n",
       "90. 2_low\n",
       "91. 3_medium\n",
       "92. 2_low\n",
       "93. 4_good\n",
       "94. 3_medium\n",
       "95. 1_veryLow\n",
       "96. 2_low\n",
       "97. 2_low\n",
       "98. 3_medium\n",
       "99. 2_low\n",
       "100. 3_medium\n",
       "101. 3_medium\n",
       "102. 2_low\n",
       "103. 3_medium\n",
       "104. 1_veryLow\n",
       "105. 3_medium\n",
       "106. 1_veryLow\n",
       "107. 2_low\n",
       "108. 2_low\n",
       "109. 3_medium\n",
       "110. 1_veryLow\n",
       "111. 2_low\n",
       "112. 2_low\n",
       "113. 3_medium\n",
       "114. 1_veryLow\n",
       "115. 2_low\n",
       "116. 3_medium\n",
       "117. 3_medium\n",
       "118. 2_low\n",
       "119. 3_medium\n",
       "120. 2_low\n",
       "121. 2_low\n",
       "122. 2_low\n",
       "123. 3_medium\n",
       "124. 1_veryLow\n",
       "125. 1_veryLow\n",
       "126. 2_low\n",
       "127. 2_low\n",
       "128. 2_low\n",
       "129. 2_low\n",
       "130. 3_medium\n",
       "131. 2_low\n",
       "132. 1_veryLow\n",
       "133. 1_veryLow\n",
       "134. 2_low\n",
       "135. 2_low\n",
       "136. 3_medium\n",
       "137. 1_veryLow\n",
       "138. 2_low\n",
       "139. 2_low\n",
       "140. 1_veryLow\n",
       "141. 2_low\n",
       "142. 1_veryLow\n",
       "143. 1_veryLow\n",
       "144. 1_veryLow\n",
       "145. 1_veryLow\n",
       "146. 2_low\n",
       "147. 1_veryLow\n",
       "148. 1_veryLow\n",
       "149. 1_veryLow\n",
       "150. 1_veryLow\n",
       "151. 1_veryLow\n",
       "152. 1_veryLow\n",
       "153. 2_low\n",
       "154. 3_medium\n",
       "155. 2_low\n",
       "156. 1_veryLow\n",
       "157. 1_veryLow\n",
       "158. 1_veryLow\n",
       "159. 1_veryLow\n",
       "\n",
       "\n",
       "\n",
       "**Levels**: 1. '1_veryLow'\n",
       "2. '2_low'\n",
       "3. '3_medium'\n",
       "4. '4_good'\n",
       "5. '5_veryGood'\n",
       "\n",
       "\n",
       "\n",
       "$democracy_label\n",
       ":   1. 5_veryGood\n",
       "2. 5_veryGood\n",
       "3. 5_veryGood\n",
       "4. 5_veryGood\n",
       "5. 5_veryGood\n",
       "6. 5_veryGood\n",
       "7. 5_veryGood\n",
       "8. 5_veryGood\n",
       "9. 5_veryGood\n",
       "10. 4_good\n",
       "11. 5_veryGood\n",
       "12. 4_good\n",
       "13. 4_good\n",
       "14. 5_veryGood\n",
       "15. 5_veryGood\n",
       "16. 5_veryGood\n",
       "17. 4_good\n",
       "18. 4_good\n",
       "19. 4_good\n",
       "20. 5_veryGood\n",
       "21. 5_veryGood\n",
       "22. 5_veryGood\n",
       "23. 5_veryGood\n",
       "24. 4_good\n",
       "25. 4_good\n",
       "26. 5_veryGood\n",
       "27. 4_good\n",
       "28. 4_good\n",
       "29. 4_good\n",
       "30. 5_veryGood\n",
       "31. 5_veryGood\n",
       "32. 4_good\n",
       "33. 4_good\n",
       "34. 4_good\n",
       "35. 4_good\n",
       "36. 5_veryGood\n",
       "37. 5_veryGood\n",
       "38. 4_good\n",
       "39. 4_good\n",
       "40. 4_good\n",
       "41. 4_good\n",
       "42. 5_veryGood\n",
       "43. 4_good\n",
       "44. 4_good\n",
       "45. 4_good\n",
       "46. 4_good\n",
       "47. 4_good\n",
       "48. 4_good\n",
       "49. 4_good\n",
       "50. 4_good\n",
       "51. 4_good\n",
       "52. 4_good\n",
       "53. 4_good\n",
       "54. 4_good\n",
       "55. 4_good\n",
       "56. 4_good\n",
       "57. 4_good\n",
       "58. 4_good\n",
       "59. 4_good\n",
       "60. 4_good\n",
       "61. 2_low\n",
       "62. 4_good\n",
       "63. 2_low\n",
       "64. 2_low\n",
       "65. 2_low\n",
       "66. 4_good\n",
       "67. 4_good\n",
       "68. 2_low\n",
       "69. 2_low\n",
       "70. 4_good\n",
       "71. 2_low\n",
       "72. 2_low\n",
       "73. 4_good\n",
       "74. 2_low\n",
       "75. 2_low\n",
       "76. 4_good\n",
       "77. 4_good\n",
       "78. 2_low\n",
       "79. 2_low\n",
       "80. 2_low\n",
       "81. 2_low\n",
       "82. 4_good\n",
       "83. 4_good\n",
       "84. 4_good\n",
       "85. 2_low\n",
       "86. 4_good\n",
       "87. 2_low\n",
       "88. 2_low\n",
       "89. 4_good\n",
       "90. 2_low\n",
       "91. 2_low\n",
       "92. 2_low\n",
       "93. 2_low\n",
       "94. 2_low\n",
       "95. 2_low\n",
       "96. 4_good\n",
       "97. 2_low\n",
       "98. 1_veryLow\n",
       "99. 2_low\n",
       "100. 1_veryLow\n",
       "101. 1_veryLow\n",
       "102. 1_veryLow\n",
       "103. 1_veryLow\n",
       "104. 2_low\n",
       "105. 2_low\n",
       "106. 1_veryLow\n",
       "107. 2_low\n",
       "108. 2_low\n",
       "109. 4_good\n",
       "110. 2_low\n",
       "111. 2_low\n",
       "112. 1_veryLow\n",
       "113. 1_veryLow\n",
       "114. 2_low\n",
       "115. 1_veryLow\n",
       "116. 1_veryLow\n",
       "117. 1_veryLow\n",
       "118. 2_low\n",
       "119. 1_veryLow\n",
       "120. 1_veryLow\n",
       "121. 1_veryLow\n",
       "122. 1_veryLow\n",
       "123. 1_veryLow\n",
       "124. 1_veryLow\n",
       "125. 1_veryLow\n",
       "126. 1_veryLow\n",
       "127. 1_veryLow\n",
       "128. 1_veryLow\n",
       "129. 1_veryLow\n",
       "130. 1_veryLow\n",
       "131. 1_veryLow\n",
       "132. 1_veryLow\n",
       "133. 1_veryLow\n",
       "134. 1_veryLow\n",
       "135. 1_veryLow\n",
       "136. 1_veryLow\n",
       "137. 1_veryLow\n",
       "138. 1_veryLow\n",
       "139. 1_veryLow\n",
       "140. 1_veryLow\n",
       "141. 1_veryLow\n",
       "142. 1_veryLow\n",
       "143. 2_low\n",
       "144. 1_veryLow\n",
       "145. 1_veryLow\n",
       "146. 1_veryLow\n",
       "147. 1_veryLow\n",
       "148. 1_veryLow\n",
       "149. 1_veryLow\n",
       "150. 1_veryLow\n",
       "151. 1_veryLow\n",
       "152. 1_veryLow\n",
       "153. 1_veryLow\n",
       "154. 1_veryLow\n",
       "155. 1_veryLow\n",
       "156. 1_veryLow\n",
       "157. 1_veryLow\n",
       "158. 1_veryLow\n",
       "159. 1_veryLow\n",
       "\n",
       "\n",
       "\n",
       "**Levels**: 1. '1_veryLow'\n",
       "2. '2_low'\n",
       "3. '3_medium'\n",
       "4. '4_good'\n",
       "5. '5_veryGood'\n",
       "\n",
       "\n",
       "\n",
       "\n",
       "\n"
      ],
      "text/plain": [
       "$world_label\n",
       "  [1] 5_veryGood 5_veryGood 5_veryGood 5_veryGood 5_veryGood 5_veryGood\n",
       "  [7] 5_veryGood 5_veryGood 5_veryGood 5_veryGood 5_veryGood 5_veryGood\n",
       " [13] 5_veryGood 5_veryGood 5_veryGood 5_veryGood 5_veryGood 5_veryGood\n",
       " [19] 5_veryGood 5_veryGood 5_veryGood 5_veryGood 5_veryGood 5_veryGood\n",
       " [25] 5_veryGood 5_veryGood 5_veryGood 5_veryGood 5_veryGood 5_veryGood\n",
       " [31] 5_veryGood 5_veryGood 5_veryGood 5_veryGood 5_veryGood 5_veryGood\n",
       " [37] 5_veryGood 5_veryGood 5_veryGood 5_veryGood 5_veryGood 5_veryGood\n",
       " [43] 5_veryGood 5_veryGood 5_veryGood 5_veryGood 5_veryGood 5_veryGood\n",
       " [49] 5_veryGood 5_veryGood 5_veryGood 5_veryGood 5_veryGood 5_veryGood\n",
       " [55] 5_veryGood 5_veryGood 5_veryGood 3_medium   3_medium   3_medium  \n",
       " [61] 3_medium   3_medium   3_medium   3_medium   3_medium   3_medium  \n",
       " [67] 5_veryGood 3_medium   3_medium   3_medium   3_medium   3_medium  \n",
       " [73] 3_medium   3_medium   3_medium   3_medium   3_medium   3_medium  \n",
       " [79] 3_medium   3_medium   3_medium   3_medium   3_medium   3_medium  \n",
       " [85] 3_medium   3_medium   3_medium   3_medium   3_medium   3_medium  \n",
       " [91] 3_medium   3_medium   3_medium   3_medium   3_medium   3_medium  \n",
       " [97] 3_medium   3_medium   3_medium   3_medium   3_medium   3_medium  \n",
       "[103] 3_medium   3_medium   3_medium   3_medium   3_medium   3_medium  \n",
       "[109] 3_medium   3_medium   1_veryLow  1_veryLow  1_veryLow  1_veryLow \n",
       "[115] 1_veryLow  1_veryLow  1_veryLow  1_veryLow  1_veryLow  1_veryLow \n",
       "[121] 1_veryLow  1_veryLow  1_veryLow  1_veryLow  1_veryLow  1_veryLow \n",
       "[127] 1_veryLow  1_veryLow  1_veryLow  1_veryLow  1_veryLow  1_veryLow \n",
       "[133] 1_veryLow  1_veryLow  1_veryLow  1_veryLow  1_veryLow  1_veryLow \n",
       "[139] 1_veryLow  1_veryLow  1_veryLow  1_veryLow  1_veryLow  1_veryLow \n",
       "[145] 1_veryLow  1_veryLow  1_veryLow  1_veryLow  1_veryLow  1_veryLow \n",
       "[151] 1_veryLow  1_veryLow  1_veryLow  1_veryLow  1_veryLow  1_veryLow \n",
       "[157] 1_veryLow  1_veryLow  1_veryLow \n",
       "Levels: 1_veryLow < 2_low < 3_medium < 4_good < 5_veryGood\n",
       "\n",
       "$economic_label\n",
       "  [1] 4_good     4_good     4_good     4_good     4_good     4_good    \n",
       "  [7] 5_veryGood 4_good     4_good     3_medium   3_medium   3_medium  \n",
       " [13] 3_medium   5_veryGood 3_medium   4_good     4_good     4_good    \n",
       " [19] 4_good     4_good     5_veryGood 3_medium   4_good     3_medium  \n",
       " [25] 4_good     3_medium   3_medium   3_medium   3_medium   3_medium  \n",
       " [31] 3_medium   4_good     4_good     3_medium   1_veryLow  2_low     \n",
       " [37] 4_good     3_medium   3_medium   3_medium   3_medium   4_good    \n",
       " [43] 4_good     3_medium   2_low      3_medium   3_medium   2_low     \n",
       " [49] 1_veryLow  3_medium   2_low      4_good     2_low      3_medium  \n",
       " [55] 2_low      2_low      2_low      2_low      3_medium   3_medium  \n",
       " [61] 2_low      3_medium   2_low      1_veryLow  2_low      2_low     \n",
       " [67] 2_low      2_low      3_medium   3_medium   1_veryLow  2_low     \n",
       " [73] 3_medium   2_low      2_low      2_low      1_veryLow  3_medium  \n",
       " [79] 1_veryLow  3_medium   2_low      2_low      3_medium   3_medium  \n",
       " [85] 3_medium   1_veryLow  1_veryLow  2_low      3_medium   2_low     \n",
       " [91] 3_medium   1_veryLow  2_low      2_low      2_low      5_veryGood\n",
       " [97] 3_medium   2_low      2_low      1_veryLow  2_low      1_veryLow \n",
       "[103] 2_low      2_low      2_low      2_low      2_low      2_low     \n",
       "[109] 2_low      1_veryLow  2_low      2_low      2_low      2_low     \n",
       "[115] 1_veryLow  2_low      1_veryLow  2_low      2_low      2_low     \n",
       "[121] 1_veryLow  2_low      3_medium   2_low      3_medium   2_low     \n",
       "[127] 3_medium   2_low      1_veryLow  2_low      1_veryLow  3_medium  \n",
       "[133] 1_veryLow  4_good     2_low      1_veryLow  2_low      2_low     \n",
       "[139] 2_low      1_veryLow  1_veryLow  2_low      2_low      3_medium  \n",
       "[145] 1_veryLow  2_low      1_veryLow  1_veryLow  1_veryLow  1_veryLow \n",
       "[151] 3_medium   3_medium   1_veryLow  1_veryLow  1_veryLow  2_low     \n",
       "[157] 1_veryLow  1_veryLow  1_veryLow \n",
       "Levels: 1_veryLow < 2_low < 3_medium < 4_good < 5_veryGood\n",
       "\n",
       "$press_label\n",
       "  [1] 5_veryGood 4_good     5_veryGood 5_veryGood 4_good     5_veryGood\n",
       "  [7] 5_veryGood 4_good     5_veryGood 4_good     3_medium   4_good    \n",
       " [13] 4_good     4_good     4_good     4_good     5_veryGood 3_medium  \n",
       " [19] 4_good     4_good     4_good     4_good     4_good     4_good    \n",
       " [25] 3_medium   4_good     4_good     4_good     4_good     4_good    \n",
       " [31] 4_good     5_veryGood 4_good     3_medium   4_good     3_medium  \n",
       " [37] 3_medium   3_medium   4_good     3_medium   3_medium   4_good    \n",
       " [43] 4_good     4_good     3_medium   4_good     3_medium   4_good    \n",
       " [49] 4_good     3_medium   4_good     3_medium   3_medium   3_medium  \n",
       " [55] 3_medium   4_good     2_low      4_good     3_medium   4_good    \n",
       " [61] 3_medium   4_good     3_medium   2_low      3_medium   1_veryLow \n",
       " [67] 3_medium   3_medium   2_low      3_medium   3_medium   3_medium  \n",
       " [73] 3_medium   3_medium   2_low      4_good     3_medium   2_low     \n",
       " [79] 3_medium   3_medium   3_medium   2_low      2_low      3_medium  \n",
       " [85] 4_good     2_low      3_medium   2_low      3_medium   2_low     \n",
       " [91] 3_medium   2_low      4_good     3_medium   1_veryLow  2_low     \n",
       " [97] 2_low      3_medium   2_low      3_medium   3_medium   2_low     \n",
       "[103] 3_medium   1_veryLow  3_medium   1_veryLow  2_low      2_low     \n",
       "[109] 3_medium   1_veryLow  2_low      2_low      3_medium   1_veryLow \n",
       "[115] 2_low      3_medium   3_medium   2_low      3_medium   2_low     \n",
       "[121] 2_low      2_low      3_medium   1_veryLow  1_veryLow  2_low     \n",
       "[127] 2_low      2_low      2_low      3_medium   2_low      1_veryLow \n",
       "[133] 1_veryLow  2_low      2_low      3_medium   1_veryLow  2_low     \n",
       "[139] 2_low      1_veryLow  2_low      1_veryLow  1_veryLow  1_veryLow \n",
       "[145] 1_veryLow  2_low      1_veryLow  1_veryLow  1_veryLow  1_veryLow \n",
       "[151] 1_veryLow  1_veryLow  2_low      3_medium   2_low      1_veryLow \n",
       "[157] 1_veryLow  1_veryLow  1_veryLow \n",
       "Levels: 1_veryLow < 2_low < 3_medium < 4_good < 5_veryGood\n",
       "\n",
       "$democracy_label\n",
       "  [1] 5_veryGood 5_veryGood 5_veryGood 5_veryGood 5_veryGood 5_veryGood\n",
       "  [7] 5_veryGood 5_veryGood 5_veryGood 4_good     5_veryGood 4_good    \n",
       " [13] 4_good     5_veryGood 5_veryGood 5_veryGood 4_good     4_good    \n",
       " [19] 4_good     5_veryGood 5_veryGood 5_veryGood 5_veryGood 4_good    \n",
       " [25] 4_good     5_veryGood 4_good     4_good     4_good     5_veryGood\n",
       " [31] 5_veryGood 4_good     4_good     4_good     4_good     5_veryGood\n",
       " [37] 5_veryGood 4_good     4_good     4_good     4_good     5_veryGood\n",
       " [43] 4_good     4_good     4_good     4_good     4_good     4_good    \n",
       " [49] 4_good     4_good     4_good     4_good     4_good     4_good    \n",
       " [55] 4_good     4_good     4_good     4_good     4_good     4_good    \n",
       " [61] 2_low      4_good     2_low      2_low      2_low      4_good    \n",
       " [67] 4_good     2_low      2_low      4_good     2_low      2_low     \n",
       " [73] 4_good     2_low      2_low      4_good     4_good     2_low     \n",
       " [79] 2_low      2_low      2_low      4_good     4_good     4_good    \n",
       " [85] 2_low      4_good     2_low      2_low      4_good     2_low     \n",
       " [91] 2_low      2_low      2_low      2_low      2_low      4_good    \n",
       " [97] 2_low      1_veryLow  2_low      1_veryLow  1_veryLow  1_veryLow \n",
       "[103] 1_veryLow  2_low      2_low      1_veryLow  2_low      2_low     \n",
       "[109] 4_good     2_low      2_low      1_veryLow  1_veryLow  2_low     \n",
       "[115] 1_veryLow  1_veryLow  1_veryLow  2_low      1_veryLow  1_veryLow \n",
       "[121] 1_veryLow  1_veryLow  1_veryLow  1_veryLow  1_veryLow  1_veryLow \n",
       "[127] 1_veryLow  1_veryLow  1_veryLow  1_veryLow  1_veryLow  1_veryLow \n",
       "[133] 1_veryLow  1_veryLow  1_veryLow  1_veryLow  1_veryLow  1_veryLow \n",
       "[139] 1_veryLow  1_veryLow  1_veryLow  1_veryLow  2_low      1_veryLow \n",
       "[145] 1_veryLow  1_veryLow  1_veryLow  1_veryLow  1_veryLow  1_veryLow \n",
       "[151] 1_veryLow  1_veryLow  1_veryLow  1_veryLow  1_veryLow  1_veryLow \n",
       "[157] 1_veryLow  1_veryLow  1_veryLow \n",
       "Levels: 1_veryLow < 2_low < 3_medium < 4_good < 5_veryGood\n"
      ]
     },
     "metadata": {},
     "output_type": "display_data"
    }
   ],
   "source": [
    "# several columns\n",
    "myConverterFun=function(col) factor(col, levels = seq(1,5),labels = c('1_veryLow','2_low','3_medium','4_good','5_veryGood'),ordered = TRUE)\n",
    "lapply(freedom[someRenamed],myConverterFun)\n"
   ]
  },
  {
   "cell_type": "markdown",
   "metadata": {
    "id": "tcTRHIoZ08X6"
   },
   "source": [
    "Finally, rename the labels:"
   ]
  },
  {
   "cell_type": "code",
   "execution_count": 97,
   "metadata": {
    "id": "tpJMIjU308X6"
   },
   "outputs": [],
   "source": [
    "# rename the levels\n",
    "\n",
    "freedom[someRenamed]=lapply(freedom[someRenamed],myConverterFun)"
   ]
  },
  {
   "cell_type": "markdown",
   "metadata": {
    "id": "kZaVb8b408X7"
   },
   "source": [
    "The final result:"
   ]
  },
  {
   "cell_type": "code",
   "execution_count": 98,
   "metadata": {
    "colab": {
     "base_uri": "https://localhost:8080/"
    },
    "id": "dZ5qr0-t08X7",
    "outputId": "689c7198-2da9-47ec-e82f-dfc39718ed04"
   },
   "outputs": [
    {
     "name": "stdout",
     "output_type": "stream",
     "text": [
      "'data.frame':\t159 obs. of  13 variables:\n",
      " $ country        : chr  \"Finland\" \"New Zealand\" \"Sweden\" \"Norway\" ...\n",
      " $ world_level    : num  5 5 5 5 5 5 5 5 5 5 ...\n",
      " $ world_score    : num  100 99 99 98 97 97 97 97 97 96 ...\n",
      " $ economic_level : num  4 4 4 4 4 4 5 4 4 3 ...\n",
      " $ economic_score : num  76.3 77.8 77.5 77.5 72.4 77.8 82.6 79.2 77.3 65.6 ...\n",
      " $ press_level    : num  5 4 5 5 4 5 5 4 5 4 ...\n",
      " $ press_score    : num  87.9 84.2 88.2 95.2 83.5 ...\n",
      " $ democracy_level: num  5 5 5 5 5 5 5 5 5 4 ...\n",
      " $ democracy_score: num  9.3 9.61 9.39 9.81 8.69 9.28 9.19 8.81 9 7.64 ...\n",
      " $ world_label    : Ord.factor w/ 5 levels \"1_veryLow\"<\"2_low\"<..: 5 5 5 5 5 5 5 5 5 5 ...\n",
      " $ economic_label : Ord.factor w/ 5 levels \"1_veryLow\"<\"2_low\"<..: 4 4 4 4 4 4 5 4 4 3 ...\n",
      " $ press_label    : Ord.factor w/ 5 levels \"1_veryLow\"<\"2_low\"<..: 5 4 5 5 4 5 5 4 5 4 ...\n",
      " $ democracy_label: Ord.factor w/ 5 levels \"1_veryLow\"<\"2_low\"<..: 5 5 5 5 5 5 5 5 5 4 ...\n"
     ]
    }
   ],
   "source": [
    "str(freedom)"
   ]
  },
  {
   "cell_type": "code",
   "execution_count": 99,
   "metadata": {
    "colab": {
     "base_uri": "https://localhost:8080/",
     "height": 324
    },
    "id": "lWrFlGf408X7",
    "outputId": "04fd882b-79d1-4cb3-931c-b16ab3774a01"
   },
   "outputs": [
    {
     "data": {
      "text/html": [
       "<table class=\"dataframe\">\n",
       "<caption>A data.frame: 6 × 13</caption>\n",
       "<thead>\n",
       "\t<tr><th></th><th scope=col>country</th><th scope=col>world_level</th><th scope=col>world_score</th><th scope=col>economic_level</th><th scope=col>economic_score</th><th scope=col>press_level</th><th scope=col>press_score</th><th scope=col>democracy_level</th><th scope=col>democracy_score</th><th scope=col>world_label</th><th scope=col>economic_label</th><th scope=col>press_label</th><th scope=col>democracy_label</th></tr>\n",
       "\t<tr><th></th><th scope=col>&lt;chr&gt;</th><th scope=col>&lt;dbl&gt;</th><th scope=col>&lt;dbl&gt;</th><th scope=col>&lt;dbl&gt;</th><th scope=col>&lt;dbl&gt;</th><th scope=col>&lt;dbl&gt;</th><th scope=col>&lt;dbl&gt;</th><th scope=col>&lt;dbl&gt;</th><th scope=col>&lt;dbl&gt;</th><th scope=col>&lt;ord&gt;</th><th scope=col>&lt;ord&gt;</th><th scope=col>&lt;ord&gt;</th><th scope=col>&lt;ord&gt;</th></tr>\n",
       "</thead>\n",
       "<tbody>\n",
       "\t<tr><th scope=row>1</th><td>Finland    </td><td>5</td><td>100</td><td>4</td><td>76.3</td><td>5</td><td>87.94</td><td>5</td><td>9.30</td><td>5_veryGood</td><td>4_good</td><td>5_veryGood</td><td>5_veryGood</td></tr>\n",
       "\t<tr><th scope=row>2</th><td>New Zealand</td><td>5</td><td> 99</td><td>4</td><td>77.8</td><td>4</td><td>84.23</td><td>5</td><td>9.61</td><td>5_veryGood</td><td>4_good</td><td>4_good    </td><td>5_veryGood</td></tr>\n",
       "\t<tr><th scope=row>3</th><td>Sweden     </td><td>5</td><td> 99</td><td>4</td><td>77.5</td><td>5</td><td>88.15</td><td>5</td><td>9.39</td><td>5_veryGood</td><td>4_good</td><td>5_veryGood</td><td>5_veryGood</td></tr>\n",
       "\t<tr><th scope=row>4</th><td>Norway     </td><td>5</td><td> 98</td><td>4</td><td>77.5</td><td>5</td><td>95.18</td><td>5</td><td>9.81</td><td>5_veryGood</td><td>4_good</td><td>5_veryGood</td><td>5_veryGood</td></tr>\n",
       "\t<tr><th scope=row>5</th><td>Canada     </td><td>5</td><td> 97</td><td>4</td><td>72.4</td><td>4</td><td>83.53</td><td>5</td><td>8.69</td><td>5_veryGood</td><td>4_good</td><td>4_good    </td><td>5_veryGood</td></tr>\n",
       "\t<tr><th scope=row>6</th><td>Denmark    </td><td>5</td><td> 97</td><td>4</td><td>77.8</td><td>5</td><td>89.48</td><td>5</td><td>9.28</td><td>5_veryGood</td><td>4_good</td><td>5_veryGood</td><td>5_veryGood</td></tr>\n",
       "</tbody>\n",
       "</table>\n"
      ],
      "text/latex": [
       "A data.frame: 6 × 13\n",
       "\\begin{tabular}{r|lllllllllllll}\n",
       "  & country & world\\_level & world\\_score & economic\\_level & economic\\_score & press\\_level & press\\_score & democracy\\_level & democracy\\_score & world\\_label & economic\\_label & press\\_label & democracy\\_label\\\\\n",
       "  & <chr> & <dbl> & <dbl> & <dbl> & <dbl> & <dbl> & <dbl> & <dbl> & <dbl> & <ord> & <ord> & <ord> & <ord>\\\\\n",
       "\\hline\n",
       "\t1 & Finland     & 5 & 100 & 4 & 76.3 & 5 & 87.94 & 5 & 9.30 & 5\\_veryGood & 4\\_good & 5\\_veryGood & 5\\_veryGood\\\\\n",
       "\t2 & New Zealand & 5 &  99 & 4 & 77.8 & 4 & 84.23 & 5 & 9.61 & 5\\_veryGood & 4\\_good & 4\\_good     & 5\\_veryGood\\\\\n",
       "\t3 & Sweden      & 5 &  99 & 4 & 77.5 & 5 & 88.15 & 5 & 9.39 & 5\\_veryGood & 4\\_good & 5\\_veryGood & 5\\_veryGood\\\\\n",
       "\t4 & Norway      & 5 &  98 & 4 & 77.5 & 5 & 95.18 & 5 & 9.81 & 5\\_veryGood & 4\\_good & 5\\_veryGood & 5\\_veryGood\\\\\n",
       "\t5 & Canada      & 5 &  97 & 4 & 72.4 & 4 & 83.53 & 5 & 8.69 & 5\\_veryGood & 4\\_good & 4\\_good     & 5\\_veryGood\\\\\n",
       "\t6 & Denmark     & 5 &  97 & 4 & 77.8 & 5 & 89.48 & 5 & 9.28 & 5\\_veryGood & 4\\_good & 5\\_veryGood & 5\\_veryGood\\\\\n",
       "\\end{tabular}\n"
      ],
      "text/markdown": [
       "\n",
       "A data.frame: 6 × 13\n",
       "\n",
       "| <!--/--> | country &lt;chr&gt; | world_level &lt;dbl&gt; | world_score &lt;dbl&gt; | economic_level &lt;dbl&gt; | economic_score &lt;dbl&gt; | press_level &lt;dbl&gt; | press_score &lt;dbl&gt; | democracy_level &lt;dbl&gt; | democracy_score &lt;dbl&gt; | world_label &lt;ord&gt; | economic_label &lt;ord&gt; | press_label &lt;ord&gt; | democracy_label &lt;ord&gt; |\n",
       "|---|---|---|---|---|---|---|---|---|---|---|---|---|---|\n",
       "| 1 | Finland     | 5 | 100 | 4 | 76.3 | 5 | 87.94 | 5 | 9.30 | 5_veryGood | 4_good | 5_veryGood | 5_veryGood |\n",
       "| 2 | New Zealand | 5 |  99 | 4 | 77.8 | 4 | 84.23 | 5 | 9.61 | 5_veryGood | 4_good | 4_good     | 5_veryGood |\n",
       "| 3 | Sweden      | 5 |  99 | 4 | 77.5 | 5 | 88.15 | 5 | 9.39 | 5_veryGood | 4_good | 5_veryGood | 5_veryGood |\n",
       "| 4 | Norway      | 5 |  98 | 4 | 77.5 | 5 | 95.18 | 5 | 9.81 | 5_veryGood | 4_good | 5_veryGood | 5_veryGood |\n",
       "| 5 | Canada      | 5 |  97 | 4 | 72.4 | 4 | 83.53 | 5 | 8.69 | 5_veryGood | 4_good | 4_good     | 5_veryGood |\n",
       "| 6 | Denmark     | 5 |  97 | 4 | 77.8 | 5 | 89.48 | 5 | 9.28 | 5_veryGood | 4_good | 5_veryGood | 5_veryGood |\n",
       "\n"
      ],
      "text/plain": [
       "  country     world_level world_score economic_level economic_score press_level\n",
       "1 Finland     5           100         4              76.3           5          \n",
       "2 New Zealand 5            99         4              77.8           4          \n",
       "3 Sweden      5            99         4              77.5           5          \n",
       "4 Norway      5            98         4              77.5           5          \n",
       "5 Canada      5            97         4              72.4           4          \n",
       "6 Denmark     5            97         4              77.8           5          \n",
       "  press_score democracy_level democracy_score world_label economic_label\n",
       "1 87.94       5               9.30            5_veryGood  4_good        \n",
       "2 84.23       5               9.61            5_veryGood  4_good        \n",
       "3 88.15       5               9.39            5_veryGood  4_good        \n",
       "4 95.18       5               9.81            5_veryGood  4_good        \n",
       "5 83.53       5               8.69            5_veryGood  4_good        \n",
       "6 89.48       5               9.28            5_veryGood  4_good        \n",
       "  press_label democracy_label\n",
       "1 5_veryGood  5_veryGood     \n",
       "2 4_good      5_veryGood     \n",
       "3 5_veryGood  5_veryGood     \n",
       "4 5_veryGood  5_veryGood     \n",
       "5 4_good      5_veryGood     \n",
       "6 5_veryGood  5_veryGood     "
      ]
     },
     "metadata": {},
     "output_type": "display_data"
    }
   ],
   "source": [
    "head(freedom)"
   ]
  },
  {
   "cell_type": "markdown",
   "metadata": {
    "id": "Rf9suaDN08X7"
   },
   "source": [
    "We did not have dates in this data file, so let me check another case."
   ]
  },
  {
   "cell_type": "markdown",
   "metadata": {
    "id": "XA0vJyLD08X7"
   },
   "source": [
    "## Formatting Dates\n",
    "\n",
    "Let me get the data about [Fire 9-1-1  calls  from Seattle](https://dev.socrata.com/foundry/data.seattle.gov/kzjm-xkqj) we saw in the first week:"
   ]
  },
  {
   "cell_type": "code",
   "execution_count": null,
   "metadata": {
    "id": "l-IhNovpBPbs"
   },
   "outputs": [],
   "source": [
    "### this is needed\n",
    "# install.packages(\"RSocrata\")"
   ]
  },
  {
   "cell_type": "code",
   "execution_count": null,
   "metadata": {
    "id": "dbE44LqQBWhL"
   },
   "outputs": [],
   "source": [
    "library(\"RSocrata\")\n",
    "\n",
    "# the API is very useful!\n",
    "data911DF <- read.socrata(\n",
    "  \"https://data.seattle.gov/resource/kzjm-xkqj.json?$limit=1000\" #you would get all if no limit!\n",
    ")"
   ]
  },
  {
   "cell_type": "markdown",
   "metadata": {
    "id": "h1Eb7Bpk08X8"
   },
   "source": [
    "Let's check the current data types:"
   ]
  },
  {
   "cell_type": "code",
   "execution_count": null,
   "metadata": {
    "colab": {
     "base_uri": "https://localhost:8080/"
    },
    "id": "IUKbIRnvEa_4",
    "outputId": "101ea627-d5f6-43f7-e703-2925f72b61a8"
   },
   "outputs": [],
   "source": [
    "str(data911DF)"
   ]
  },
  {
   "cell_type": "markdown",
   "metadata": {
    "id": "AIW8P-BC08X8"
   },
   "source": [
    "As you see, the datetime **is**  recognized as date:"
   ]
  },
  {
   "cell_type": "code",
   "execution_count": null,
   "metadata": {
    "colab": {
     "base_uri": "https://localhost:8080/"
    },
    "id": "ghKgrsMz08X9",
    "outputId": "c1cfb34b-1a7f-434f-c323-8fd9cc11bf16"
   },
   "outputs": [],
   "source": [
    "str(data911DF$datetime)"
   ]
  },
  {
   "cell_type": "code",
   "execution_count": null,
   "metadata": {
    "colab": {
     "base_uri": "https://localhost:8080/",
     "height": 35
    },
    "id": "e5grHWj808X9",
    "outputId": "9129187d-6a69-4dab-e06d-460b119ea6af"
   },
   "outputs": [],
   "source": [
    "#  is it a string?\n",
    "is.character(data911DF$datetime[1])"
   ]
  },
  {
   "cell_type": "markdown",
   "metadata": {
    "id": "oe_lC8gb08X9"
   },
   "source": [
    "Once you have this column as a date, you can do something like this:"
   ]
  },
  {
   "cell_type": "code",
   "execution_count": null,
   "metadata": {
    "colab": {
     "base_uri": "https://localhost:8080/",
     "height": 1000
    },
    "id": "kWirLXmT08X9",
    "outputId": "2f74c4a5-ba4c-4456-a86a-d824c8d69d74"
   },
   "outputs": [],
   "source": [
    "data911DF$date=format(data911DF$datetime,\"%d-%m-%Y\")\n",
    "data911DF$day=format(data911DF$datetime,\"%d\")\n",
    "data911DF$year=format(data911DF$datetime,\"%Y\")\n",
    "data911DF$month=format(data911DF$datetime,\"%B\")\n",
    "data911DF$weekday=weekdays(data911DF$datetime)\n",
    "data911DF$hour=format(data911DF$datetime,\"%H\")\n",
    "\n",
    "#\n",
    "head(data911DF)"
   ]
  },
  {
   "cell_type": "code",
   "execution_count": null,
   "metadata": {
    "id": "3aVEeQuW08X-"
   },
   "outputs": [],
   "source": [
    "### alternatively\n",
    "# library(lubridate)\n",
    "# data911DF$date=date(data911DF$datetime)\n",
    "# data911DF$day=day(data911DF$datetime)\n",
    "# data911DF$year=year(data911DF$datetime)\n",
    "# data911DF$month=month(data911DF$datetime,label = TRUE, abbr = FALSE)\n",
    "# data911DF$weekday=wday(data911DF$datetime,label = TRUE, abbr = FALSE)\n",
    "# data911DF$hour=hour(data911DF$datetime)"
   ]
  },
  {
   "cell_type": "markdown",
   "metadata": {
    "id": "-i42uQZt08X-"
   },
   "source": [
    "It is good you are aware of the date format language:\n",
    "* %Y (4-digit year), %y (2-digit year)\n",
    "* %m (2-digit month), %b (short name of month) %B full name of month\n",
    "* %d (1-digit month or 2-digit month)\n",
    "\n",
    "See these examples:"
   ]
  },
  {
   "cell_type": "code",
   "execution_count": null,
   "metadata": {
    "colab": {
     "base_uri": "https://localhost:8080/",
     "height": 34
    },
    "id": "JutyvMbv08X-",
    "outputId": "4d685f77-b5bc-413b-e82f-c942d788c6ce"
   },
   "outputs": [],
   "source": [
    "dates=c('20240201','20240102')\n",
    "\n",
    "as.Date(dates,format='%Y%m%d')"
   ]
  },
  {
   "cell_type": "code",
   "execution_count": null,
   "metadata": {
    "colab": {
     "base_uri": "https://localhost:8080/",
     "height": 34
    },
    "id": "e2gyeaCx08X_",
    "outputId": "02b5bed4-7278-49f0-948f-e43238da0ac1"
   },
   "outputs": [],
   "source": [
    "dates=c('2024021','2024012')\n",
    "as.Date(dates,format='%Y%m%d')"
   ]
  },
  {
   "cell_type": "code",
   "execution_count": null,
   "metadata": {
    "colab": {
     "base_uri": "https://localhost:8080/",
     "height": 34
    },
    "id": "Il2-cf7d08X_",
    "outputId": "e36b9b4e-8b84-470c-dad6-79cf4621fedd"
   },
   "outputs": [],
   "source": [
    "dates=c('2024/12/10','2024/10/12')\n",
    "as.Date(dates,format='%Y/%m/%d')"
   ]
  },
  {
   "cell_type": "code",
   "execution_count": null,
   "metadata": {
    "colab": {
     "base_uri": "https://localhost:8080/",
     "height": 34
    },
    "id": "YkQjB8Ae08X_",
    "outputId": "d0ce469d-7fae-4d9e-ec9c-cdf276c0e4f2"
   },
   "outputs": [],
   "source": [
    "dates=c('12nov2023','11dec2023')\n",
    "as.Date(dates,format='%d%b%Y')"
   ]
  },
  {
   "cell_type": "code",
   "execution_count": null,
   "metadata": {
    "colab": {
     "base_uri": "https://localhost:8080/",
     "height": 34
    },
    "id": "YW5Cyijm08X_",
    "outputId": "65906c21-e806-4687-da0b-74f25c010f2b"
   },
   "outputs": [],
   "source": [
    "dates=c('NOVEMBER122023','DECEMBER112023')\n",
    "as.Date(dates,format='%B%d%Y')"
   ]
  },
  {
   "cell_type": "code",
   "execution_count": null,
   "metadata": {
    "colab": {
     "base_uri": "https://localhost:8080/",
     "height": 34
    },
    "id": "W_dRA4gD08X_",
    "outputId": "26b4220e-d2d6-4c40-d71b-cb2e69cbdfd3"
   },
   "outputs": [],
   "source": [
    "dates=c('NOVEMBER 12,2023','DECEMBER 11,2023')\n",
    "as.Date(dates,format='%B %d,%Y')"
   ]
  },
  {
   "cell_type": "markdown",
   "metadata": {
    "id": "Q_skKEtG08X_"
   },
   "source": [
    "### Saving\n",
    "\n",
    "You should save the formatted data in a way that all those key changes are preserved. Do not use CSV in this stage."
   ]
  },
  {
   "cell_type": "code",
   "execution_count": null,
   "metadata": {
    "id": "xShx1DcL08YA"
   },
   "outputs": [],
   "source": [
    "folder <- \"dataFormatted_R\"\n",
    "\n",
    "# Check if the folder exists\n",
    "if (!dir.exists(folder)) {\n",
    "  # Create the folder\n",
    "  dir.create(folder)\n",
    "  saveRDS(freedom,file.path(folder,\"freedom.RDS\"))\n",
    "  saveRDS(data911DF,file.path(folder,\"data911DF.RDS\"))\n",
    "} else {\n",
    "  saveRDS(freedom,file.path(folder,\"freedom.RDS\"))\n",
    "  saveRDS(data911DF,file.path(folder,\"data911DF.RDS\"))\n",
    "}"
   ]
  },
  {
   "cell_type": "code",
   "execution_count": null,
   "metadata": {
    "id": "LEwcI_sjIFHs"
   },
   "outputs": [],
   "source": []
  }
 ],
 "metadata": {
  "anaconda-cloud": {},
  "colab": {
   "provenance": []
  },
  "kernelspec": {
   "display_name": "R",
   "language": "R",
   "name": "ir"
  },
  "language_info": {
   "codemirror_mode": "r",
   "file_extension": ".r",
   "mimetype": "text/x-r-source",
   "name": "R",
   "pygments_lexer": "r",
   "version": "4.3.3"
  }
 },
 "nbformat": 4,
 "nbformat_minor": 4
}
